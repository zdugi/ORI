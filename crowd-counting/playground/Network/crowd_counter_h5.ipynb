{
 "cells": [
  {
   "cell_type": "code",
   "execution_count": 1,
   "metadata": {},
   "outputs": [
    {
     "name": "stdout",
     "output_type": "stream",
     "text": [
      "Looking in links: https://download.pytorch.org/whl/torch_stable.html\n",
      "Requirement already satisfied: torch===1.5.1 in c:\\python38\\lib\\site-packages (1.5.1)\n",
      "Requirement already satisfied: torchvision===0.6.1 in c:\\python38\\lib\\site-packages (0.6.1)\n",
      "Requirement already satisfied: ipywidgets in c:\\python38\\lib\\site-packages (7.5.1)\n",
      "Requirement already satisfied: numpy in c:\\python38\\lib\\site-packages (1.19.0)\n",
      "Requirement already satisfied: matplotlib in c:\\python38\\lib\\site-packages (3.2.2)\n",
      "Requirement already satisfied: future in c:\\python38\\lib\\site-packages (from torch===1.5.1) (0.18.2)\n",
      "Requirement already satisfied: pillow>=4.1.1 in c:\\python38\\lib\\site-packages (from torchvision===0.6.1) (7.2.0)\n",
      "Requirement already satisfied: ipython>=4.0.0; python_version >= \"3.3\" in c:\\python38\\lib\\site-packages (from ipywidgets) (7.16.1)\n",
      "Requirement already satisfied: ipykernel>=4.5.1 in c:\\python38\\lib\\site-packages (from ipywidgets) (5.3.0)\n",
      "Requirement already satisfied: traitlets>=4.3.1 in c:\\python38\\lib\\site-packages (from ipywidgets) (4.3.3)\n",
      "Requirement already satisfied: nbformat>=4.2.0 in c:\\python38\\lib\\site-packages (from ipywidgets) (5.0.7)\n",
      "Requirement already satisfied: widgetsnbextension~=3.5.0 in c:\\python38\\lib\\site-packages (from ipywidgets) (3.5.1)\n",
      "Requirement already satisfied: python-dateutil>=2.1 in c:\\python38\\lib\\site-packages (from matplotlib) (2.8.1)\n",
      "Requirement already satisfied: cycler>=0.10 in c:\\python38\\lib\\site-packages (from matplotlib) (0.10.0)\n",
      "Requirement already satisfied: pyparsing!=2.0.4,!=2.1.2,!=2.1.6,>=2.0.1 in c:\\python38\\lib\\site-packages (from matplotlib) (2.4.7)\n",
      "Requirement already satisfied: kiwisolver>=1.0.1 in c:\\python38\\lib\\site-packages (from matplotlib) (1.2.0)\n",
      "Requirement already satisfied: jedi>=0.10 in c:\\python38\\lib\\site-packages (from ipython>=4.0.0; python_version >= \"3.3\"->ipywidgets) (0.17.1)\n",
      "Requirement already satisfied: colorama; sys_platform == \"win32\" in c:\\python38\\lib\\site-packages (from ipython>=4.0.0; python_version >= \"3.3\"->ipywidgets) (0.4.3)\n",
      "Requirement already satisfied: prompt-toolkit!=3.0.0,!=3.0.1,<3.1.0,>=2.0.0 in c:\\python38\\lib\\site-packages (from ipython>=4.0.0; python_version >= \"3.3\"->ipywidgets) (3.0.5)\n",
      "Requirement already satisfied: backcall in c:\\python38\\lib\\site-packages (from ipython>=4.0.0; python_version >= \"3.3\"->ipywidgets) (0.2.0)\n",
      "Requirement already satisfied: pygments in c:\\python38\\lib\\site-packages (from ipython>=4.0.0; python_version >= \"3.3\"->ipywidgets) (2.6.1)\n",
      "Requirement already satisfied: setuptools>=18.5 in c:\\python38\\lib\\site-packages (from ipython>=4.0.0; python_version >= \"3.3\"->ipywidgets) (41.2.0)\n",
      "Requirement already satisfied: pickleshare in c:\\python38\\lib\\site-packages (from ipython>=4.0.0; python_version >= \"3.3\"->ipywidgets) (0.7.5)\n",
      "Requirement already satisfied: decorator in c:\\python38\\lib\\site-packages (from ipython>=4.0.0; python_version >= \"3.3\"->ipywidgets) (4.4.2)\n",
      "Requirement already satisfied: tornado>=4.2 in c:\\python38\\lib\\site-packages (from ipykernel>=4.5.1->ipywidgets) (6.0.4)\n",
      "Requirement already satisfied: jupyter-client in c:\\python38\\lib\\site-packages (from ipykernel>=4.5.1->ipywidgets) (6.1.5)\n",
      "Requirement already satisfied: ipython-genutils in c:\\python38\\lib\\site-packages (from traitlets>=4.3.1->ipywidgets) (0.2.0)\n",
      "Requirement already satisfied: six in c:\\python38\\lib\\site-packages (from traitlets>=4.3.1->ipywidgets) (1.15.0)\n",
      "Requirement already satisfied: jupyter-core in c:\\python38\\lib\\site-packages (from nbformat>=4.2.0->ipywidgets) (4.6.3)\n",
      "Requirement already satisfied: jsonschema!=2.5.0,>=2.4 in c:\\python38\\lib\\site-packages (from nbformat>=4.2.0->ipywidgets) (3.2.0)\n",
      "Requirement already satisfied: notebook>=4.4.1 in c:\\python38\\lib\\site-packages (from widgetsnbextension~=3.5.0->ipywidgets) (6.0.3)\n",
      "Requirement already satisfied: parso<0.8.0,>=0.7.0 in c:\\python38\\lib\\site-packages (from jedi>=0.10->ipython>=4.0.0; python_version >= \"3.3\"->ipywidgets) (0.7.0)\n",
      "Requirement already satisfied: wcwidth in c:\\python38\\lib\\site-packages (from prompt-toolkit!=3.0.0,!=3.0.1,<3.1.0,>=2.0.0->ipython>=4.0.0; python_version >= \"3.3\"->ipywidgets) (0.2.5)\n",
      "Requirement already satisfied: pyzmq>=13 in c:\\python38\\lib\\site-packages (from jupyter-client->ipykernel>=4.5.1->ipywidgets) (19.0.1)\n",
      "Requirement already satisfied: pywin32>=1.0; sys_platform == \"win32\" in c:\\python38\\lib\\site-packages (from jupyter-core->nbformat>=4.2.0->ipywidgets) (228)\n",
      "Requirement already satisfied: attrs>=17.4.0 in c:\\python38\\lib\\site-packages (from jsonschema!=2.5.0,>=2.4->nbformat>=4.2.0->ipywidgets) (19.3.0)\n",
      "Requirement already satisfied: pyrsistent>=0.14.0 in c:\\python38\\lib\\site-packages (from jsonschema!=2.5.0,>=2.4->nbformat>=4.2.0->ipywidgets) (0.16.0)\n",
      "Requirement already satisfied: Send2Trash in c:\\python38\\lib\\site-packages (from notebook>=4.4.1->widgetsnbextension~=3.5.0->ipywidgets) (1.5.0)\n",
      "Requirement already satisfied: jinja2 in c:\\python38\\lib\\site-packages (from notebook>=4.4.1->widgetsnbextension~=3.5.0->ipywidgets) (2.11.2)\n",
      "Requirement already satisfied: nbconvert in c:\\python38\\lib\\site-packages (from notebook>=4.4.1->widgetsnbextension~=3.5.0->ipywidgets) (5.6.1)\n",
      "Requirement already satisfied: terminado>=0.8.1 in c:\\python38\\lib\\site-packages (from notebook>=4.4.1->widgetsnbextension~=3.5.0->ipywidgets) (0.8.3)\n",
      "Requirement already satisfied: prometheus-client in c:\\python38\\lib\\site-packages (from notebook>=4.4.1->widgetsnbextension~=3.5.0->ipywidgets) (0.8.0)\n",
      "Requirement already satisfied: MarkupSafe>=0.23 in c:\\python38\\lib\\site-packages (from jinja2->notebook>=4.4.1->widgetsnbextension~=3.5.0->ipywidgets) (1.1.1)\n",
      "Requirement already satisfied: mistune<2,>=0.8.1 in c:\\python38\\lib\\site-packages (from nbconvert->notebook>=4.4.1->widgetsnbextension~=3.5.0->ipywidgets) (0.8.4)\n",
      "Requirement already satisfied: defusedxml in c:\\python38\\lib\\site-packages (from nbconvert->notebook>=4.4.1->widgetsnbextension~=3.5.0->ipywidgets) (0.6.0)\n",
      "Requirement already satisfied: testpath in c:\\python38\\lib\\site-packages (from nbconvert->notebook>=4.4.1->widgetsnbextension~=3.5.0->ipywidgets) (0.4.4)\n",
      "Requirement already satisfied: pandocfilters>=1.4.1 in c:\\python38\\lib\\site-packages (from nbconvert->notebook>=4.4.1->widgetsnbextension~=3.5.0->ipywidgets) (1.4.2)\n",
      "Requirement already satisfied: entrypoints>=0.2.2 in c:\\python38\\lib\\site-packages (from nbconvert->notebook>=4.4.1->widgetsnbextension~=3.5.0->ipywidgets) (0.3)\n",
      "Requirement already satisfied: bleach in c:\\python38\\lib\\site-packages (from nbconvert->notebook>=4.4.1->widgetsnbextension~=3.5.0->ipywidgets) (3.1.5)\n",
      "Requirement already satisfied: pywinpty>=0.5; os_name == \"nt\" in c:\\python38\\lib\\site-packages (from terminado>=0.8.1->notebook>=4.4.1->widgetsnbextension~=3.5.0->ipywidgets) (0.5.7)\n",
      "Requirement already satisfied: packaging in c:\\python38\\lib\\site-packages (from bleach->nbconvert->notebook>=4.4.1->widgetsnbextension~=3.5.0->ipywidgets) (20.4)\n",
      "Requirement already satisfied: webencodings in c:\\python38\\lib\\site-packages (from bleach->nbconvert->notebook>=4.4.1->widgetsnbextension~=3.5.0->ipywidgets) (0.5.1)Note: you may need to restart the kernel to use updated packages.\n",
      "\n"
     ]
    }
   ],
   "source": [
    "%run network.ipynb"
   ]
  },
  {
   "cell_type": "code",
   "execution_count": 2,
   "metadata": {},
   "outputs": [],
   "source": [
    "%run data_loader.ipynb"
   ]
  },
  {
   "cell_type": "code",
   "execution_count": 3,
   "metadata": {},
   "outputs": [],
   "source": [
    "%run utils.ipynb"
   ]
  },
  {
   "cell_type": "code",
   "execution_count": 4,
   "metadata": {},
   "outputs": [],
   "source": [
    "import torch.nn as nn\n",
    "\n",
    "class CrowdCounter(nn.Module):\n",
    "    def __init__(self):\n",
    "        super(CrowdCounter, self).__init__()        \n",
    "        self.DME = MCNN()        \n",
    "        self.loss_fn = nn.MSELoss()\n",
    "        \n",
    "    @property\n",
    "    def loss(self):\n",
    "        return self.loss_mse\n",
    "    \n",
    "    def forward(self,  im_data, gt_data=None):        \n",
    "        im_data = np_to_variable(im_data, is_cuda=True, is_training=self.training)   \n",
    "        density_map = self.DME(im_data)\n",
    "        \n",
    "        if self.training:                        \n",
    "            gt_data = np_to_variable(gt_data, is_cuda=True, is_training=self.training)            \n",
    "            self.loss_mse = self.build_loss(density_map, gt_data)\n",
    "            \n",
    "        return density_map\n",
    "    \n",
    "    def build_loss(self, density_map, gt_data):\n",
    "        loss = self.loss_fn(density_map, gt_data)\n",
    "        return loss"
   ]
  },
  {
   "cell_type": "code",
   "execution_count": 5,
   "metadata": {},
   "outputs": [],
   "source": [
    "def evaluate_model(trained_model, data_loader):\n",
    "    net = CrowdCounter()\n",
    "    load_net(trained_model, net)\n",
    "    net.cuda()\n",
    "    net.eval()\n",
    "    mae = 0.0\n",
    "    mse = 0.0\n",
    "    for blob in data_loader:                        \n",
    "        im_data = blob['data'].numpy()\n",
    "        im_data = np.expand_dims(im_data, 1) \n",
    "        gt_data = blob['gt_density'].numpy()\n",
    "        gt_data = np.expand_dims(gt_data, 1)\n",
    "        density_map = net(im_data, gt_data)\n",
    "        density_map = density_map.data.cpu().numpy()\n",
    "        gt_count = np.sum(gt_data)\n",
    "        et_count = np.sum(density_map)\n",
    "        mae += abs(gt_count-et_count)\n",
    "        mse += ((gt_count-et_count)*(gt_count-et_count))        \n",
    "    mae = mae/len(data_loader)\n",
    "    mse = np.sqrt(mse/len(data_loader))\n",
    "    return mae,mse"
   ]
  },
  {
   "cell_type": "code",
   "execution_count": 6,
   "metadata": {},
   "outputs": [],
   "source": [
    "output_dir = '../saved_models_new/'\n",
    "train_path = '../ShanghaiTech/ShanghaiTech/part_B/train_data/images/'\n",
    "train_gt_path = '../ShanghaiTech/ShanghaiTech/part_B/train_data/ground-truth-h5/'\n",
    "val_path = '../ShanghaiTech/ShanghaiTech/part_B/train_data/val/'\n",
    "val_gt_path = '../ShanghaiTech/ShanghaiTech/part_B/train_data/val-den/'\n",
    "\n",
    "image_paths = os.listdir(train_path)\n",
    "\n",
    "index = -1\n",
    "for i in range(len(image_paths)):\n",
    "    if image_paths[i].find('.jpg') >= 0:\n",
    "        image_paths[i] = train_path + image_paths[i]\n",
    "    else:\n",
    "        index = i\n",
    "        \n",
    "del image_paths[index]\n",
    "\n",
    "target_paths = os.listdir(train_gt_path)\n",
    "for i in range(len(target_paths)):\n",
    "    if target_paths[i].find('.h5') >= 0:\n",
    "        target_paths[i] = train_gt_path + target_paths[i]\n",
    "    else:\n",
    "        index = i\n",
    "        \n",
    "del target_paths[index]\n",
    "    \n",
    "image_paths_val = os.listdir(val_path)\n",
    "for i in range(len(image_paths_val)):\n",
    "    image_paths_val[i] = val_path + image_paths_val[i]\n",
    "\n",
    "target_paths_val = os.listdir(val_gt_path)\n",
    "\n",
    "for i in range(len(target_paths_val)):\n",
    "    target_paths_val[i] = val_gt_path + target_paths_val[i]\n",
    "\n"
   ]
  },
  {
   "cell_type": "code",
   "execution_count": 7,
   "metadata": {},
   "outputs": [],
   "source": [
    "#data_loader = ImageDataLoader(train_path, train_gt_path, shuffle=True, gt_downsample=True, pre_load=True)\n",
    "#data_loader_val = ImageDataLoader(val_path, val_gt_path, shuffle=False, gt_downsample=True, pre_load=True)\n",
    "\n",
    "transform = transforms.Compose(\n",
    "    [\n",
    "    #transforms.Resize((256, 172), interpolation=2),\n",
    "    transforms.ToTensor(),\n",
    "     #transforms.CenterCrop(10),\n",
    "    #transforms.Normalize((.5, .5), (.5, .5))\n",
    "    ]\n",
    ")\n",
    "\n",
    "trainset = DatasetLoaderH5(image_paths, target_paths)\n",
    "trainloader = torch.utils.data.DataLoader(trainset, batch_size=1, shuffle=True, num_workers=0)\n",
    "\n",
    "trainset_val = DatasetLoaderH5(image_paths_val, target_paths_val)\n",
    "trainloader_val = torch.utils.data.DataLoader(trainset_val, batch_size=20, shuffle=False, num_workers=0)\n",
    "\n",
    "data_loader = iter(trainloader)\n",
    "data_loader_val = iter(trainloader_val)\n"
   ]
  },
  {
   "cell_type": "code",
   "execution_count": 8,
   "metadata": {},
   "outputs": [],
   "source": [
    "start_step = 0\n",
    "end_step = 500\n",
    "lr = 0.00001\n",
    "momentum = 0.9\n",
    "disp_interval = 4\n",
    "log_interval = 250"
   ]
  },
  {
   "cell_type": "code",
   "execution_count": 9,
   "metadata": {},
   "outputs": [],
   "source": [
    "rand_seed = 64678  \n",
    "if rand_seed is not None:\n",
    "    np.random.seed(rand_seed)\n",
    "    torch.manual_seed(rand_seed)\n",
    "    torch.cuda.manual_seed(rand_seed)\n",
    "\n",
    "\n",
    "# load net\n",
    "net = CrowdCounter()\n",
    "weights_normal_init(net, dev=0.01)\n",
    "net.cuda()\n",
    "net.train()\n",
    "\n",
    "params = list(net.parameters())\n",
    "optimizer = torch.optim.Adam(filter(lambda p: p.requires_grad, net.parameters()), lr=lr)\n",
    "\n",
    "if not os.path.exists(output_dir):\n",
    "    os.mkdir(output_dir)"
   ]
  },
  {
   "cell_type": "code",
   "execution_count": 10,
   "metadata": {
    "scrolled": true
   },
   "outputs": [
    {
     "name": "stderr",
     "output_type": "stream",
     "text": [
      "Train loss: 0.0003521870239637792: : 360it [00:13, 27.02it/s] \n",
      "Train loss: 1.3222420420788694e-06: : 3it [00:00, 26.29it/s]"
     ]
    },
    {
     "name": "stdout",
     "output_type": "stream",
     "text": [
      "EPOCH: 0, MAE: 387.4, MSE: 398.8\n",
      "BEST MAE: 387.4, BEST MSE: 398.8, BEST MODEL: MCNN_shtechB_0.h5\n"
     ]
    },
    {
     "name": "stderr",
     "output_type": "stream",
     "text": [
      "Train loss: 0.00034226838033646345: : 360it [00:12, 28.05it/s]\n",
      "Train loss: 0.0003393283986952156: : 360it [00:12, 27.98it/s] \n",
      "Train loss: 2.479318709447398e-06: : 3it [00:00, 28.55it/s] "
     ]
    },
    {
     "name": "stdout",
     "output_type": "stream",
     "text": [
      "EPOCH: 2, MAE: 363.9, MSE: 371.7\n",
      "BEST MAE: 363.9, BEST MSE: 371.7, BEST MODEL: MCNN_shtechB_2.h5\n"
     ]
    },
    {
     "name": "stderr",
     "output_type": "stream",
     "text": [
      "Train loss: 0.0003376800159458071: : 360it [00:12, 28.34it/s] \n",
      "Train loss: 0.00033502475707791746: : 360it [00:12, 28.35it/s]\n",
      "Train loss: 1.5090173292264808e-05: : 3it [00:00, 27.75it/s]"
     ]
    },
    {
     "name": "stdout",
     "output_type": "stream",
     "text": [
      "EPOCH: 4, MAE: 241.9, MSE: 261.1\n",
      "BEST MAE: 241.9, BEST MSE: 261.1, BEST MODEL: MCNN_shtechB_4.h5\n"
     ]
    },
    {
     "name": "stderr",
     "output_type": "stream",
     "text": [
      "Train loss: 0.000333596981363371: : 360it [00:12, 28.27it/s]  \n",
      "Train loss: 0.0003322324191685766: : 360it [00:12, 28.36it/s] \n",
      "Train loss: 9.262006415156065e-07: : 3it [00:00, 27.25it/s] "
     ]
    },
    {
     "name": "stdout",
     "output_type": "stream",
     "text": [
      "EPOCH: 6, MAE: 1202.6, MSE: 1205.4\n",
      "BEST MAE: 241.9, BEST MSE: 261.1, BEST MODEL: MCNN_shtechB_4.h5\n"
     ]
    },
    {
     "name": "stderr",
     "output_type": "stream",
     "text": [
      "Train loss: 0.0003305968130007386: : 360it [00:12, 28.37it/s] \n",
      "Train loss: 0.00032926572021096945: : 360it [00:12, 28.20it/s]\n",
      "Train loss: 5.798566235171165e-06: : 3it [00:00, 27.50it/s]"
     ]
    },
    {
     "name": "stdout",
     "output_type": "stream",
     "text": [
      "EPOCH: 8, MAE: 1918.3, MSE: 1922.6\n",
      "BEST MAE: 241.9, BEST MSE: 261.1, BEST MODEL: MCNN_shtechB_4.h5\n"
     ]
    },
    {
     "name": "stderr",
     "output_type": "stream",
     "text": [
      "Train loss: 0.0003291612083557993: : 360it [00:12, 28.12it/s] \n",
      "Train loss: 0.0003272276953794062: : 360it [00:12, 28.20it/s] \n",
      "Train loss: 2.493870169928414e-06: : 3it [00:00, 26.06it/s]"
     ]
    },
    {
     "name": "stdout",
     "output_type": "stream",
     "text": [
      "EPOCH: 10, MAE: 780.7, MSE: 786.7\n",
      "BEST MAE: 241.9, BEST MSE: 261.1, BEST MODEL: MCNN_shtechB_4.h5\n"
     ]
    },
    {
     "name": "stderr",
     "output_type": "stream",
     "text": [
      "Train loss: 0.00032671954249963164: : 360it [00:12, 28.24it/s]\n",
      "Train loss: 0.00032519118394702673: : 360it [00:12, 28.00it/s]\n",
      "Train loss: 2.6639349925972056e-06: : 3it [00:00, 26.29it/s]"
     ]
    },
    {
     "name": "stdout",
     "output_type": "stream",
     "text": [
      "EPOCH: 12, MAE: 1837.1, MSE: 1839.7\n",
      "BEST MAE: 241.9, BEST MSE: 261.1, BEST MODEL: MCNN_shtechB_4.h5\n"
     ]
    },
    {
     "name": "stderr",
     "output_type": "stream",
     "text": [
      "Train loss: 0.0003263674443587661: : 360it [00:12, 28.51it/s] \n",
      "Train loss: 0.00032441844814457: : 360it [00:12, 28.22it/s]   \n",
      "Train loss: 3.692597374538309e-06: : 3it [00:00, 27.00it/s] "
     ]
    },
    {
     "name": "stdout",
     "output_type": "stream",
     "text": [
      "EPOCH: 14, MAE: 487.2, MSE: 506.0\n",
      "BEST MAE: 241.9, BEST MSE: 261.1, BEST MODEL: MCNN_shtechB_4.h5\n"
     ]
    },
    {
     "name": "stderr",
     "output_type": "stream",
     "text": [
      "Train loss: 0.00032307126093655825: : 360it [00:12, 28.28it/s]\n",
      "Train loss: 0.00032304131309501827: : 360it [00:12, 28.26it/s]\n",
      "Train loss: 4.656837404581893e-07: : 3it [00:00, 26.76it/s]"
     ]
    },
    {
     "name": "stdout",
     "output_type": "stream",
     "text": [
      "EPOCH: 16, MAE: 254.0, MSE: 275.7\n",
      "BEST MAE: 241.9, BEST MSE: 261.1, BEST MODEL: MCNN_shtechB_4.h5\n"
     ]
    },
    {
     "name": "stderr",
     "output_type": "stream",
     "text": [
      "Train loss: 0.00032203298178501427: : 360it [00:12, 28.44it/s]\n",
      "Train loss: 0.000321861618431285: : 360it [00:12, 28.51it/s]  \n",
      "Train loss: 7.987714525370393e-06: : 3it [00:00, 25.84it/s] "
     ]
    },
    {
     "name": "stdout",
     "output_type": "stream",
     "text": [
      "EPOCH: 18, MAE: 1947.2, MSE: 1948.1\n",
      "BEST MAE: 241.9, BEST MSE: 261.1, BEST MODEL: MCNN_shtechB_4.h5\n"
     ]
    },
    {
     "name": "stderr",
     "output_type": "stream",
     "text": [
      "Train loss: 0.00032171563361771405: : 360it [00:12, 28.68it/s]\n",
      "Train loss: 0.000320429535349831: : 360it [00:12, 28.59it/s]  \n",
      "Train loss: 1.1357383300492074e-06: : 3it [00:00, 29.39it/s]"
     ]
    },
    {
     "name": "stdout",
     "output_type": "stream",
     "text": [
      "EPOCH: 20, MAE: 1523.1, MSE: 1526.5\n",
      "BEST MAE: 241.9, BEST MSE: 261.1, BEST MODEL: MCNN_shtechB_4.h5\n"
     ]
    },
    {
     "name": "stderr",
     "output_type": "stream",
     "text": [
      "Train loss: 0.0003206433611921966: : 360it [00:12, 28.40it/s] \n",
      "Train loss: 0.00032071355963125825: : 360it [00:12, 28.47it/s]\n",
      "Train loss: 3.2830744203238282e-06: : 3it [00:00, 26.29it/s]"
     ]
    },
    {
     "name": "stdout",
     "output_type": "stream",
     "text": [
      "EPOCH: 22, MAE: 634.1, MSE: 638.3\n",
      "BEST MAE: 241.9, BEST MSE: 261.1, BEST MODEL: MCNN_shtechB_4.h5\n"
     ]
    },
    {
     "name": "stderr",
     "output_type": "stream",
     "text": [
      "Train loss: 0.00031817425042390823: : 360it [00:12, 28.46it/s]\n",
      "Train loss: 0.0003167334070894867: : 360it [00:12, 28.50it/s] \n",
      "Train loss: 1.1596445119721466e-06: : 3it [00:00, 28.82it/s]"
     ]
    },
    {
     "name": "stdout",
     "output_type": "stream",
     "text": [
      "EPOCH: 24, MAE: 1676.3, MSE: 1678.3\n",
      "BEST MAE: 241.9, BEST MSE: 261.1, BEST MODEL: MCNN_shtechB_4.h5\n"
     ]
    },
    {
     "name": "stderr",
     "output_type": "stream",
     "text": [
      "Train loss: 0.0003167526738252491: : 360it [00:12, 28.58it/s] \n",
      "Train loss: 0.00031635205959901214: : 360it [00:12, 28.43it/s]\n",
      "Train loss: 7.5425491559144575e-06: : 3it [00:00, 25.40it/s]"
     ]
    },
    {
     "name": "stdout",
     "output_type": "stream",
     "text": [
      "EPOCH: 26, MAE: 535.7, MSE: 543.6\n",
      "BEST MAE: 241.9, BEST MSE: 261.1, BEST MODEL: MCNN_shtechB_4.h5\n"
     ]
    },
    {
     "name": "stderr",
     "output_type": "stream",
     "text": [
      "Train loss: 0.0003177990729454905: : 360it [00:12, 28.51it/s] \n",
      "Train loss: 0.00031610295991413295: : 360it [00:12, 28.51it/s]\n",
      "Train loss: 6.063427804292587e-07: : 3it [00:00, 28.01it/s]"
     ]
    },
    {
     "name": "stdout",
     "output_type": "stream",
     "text": [
      "EPOCH: 28, MAE: 722.3, MSE: 725.4\n",
      "BEST MAE: 241.9, BEST MSE: 261.1, BEST MODEL: MCNN_shtechB_4.h5\n"
     ]
    },
    {
     "name": "stderr",
     "output_type": "stream",
     "text": [
      "Train loss: 0.0003141034976579249: : 360it [00:12, 28.59it/s] \n",
      "Train loss: 0.0003141497727483511: : 360it [00:12, 28.56it/s] \n",
      "Train loss: 8.177964446076658e-06: : 3it [00:00, 26.29it/s]"
     ]
    },
    {
     "name": "stdout",
     "output_type": "stream",
     "text": [
      "EPOCH: 30, MAE: 970.0, MSE: 975.0\n",
      "BEST MAE: 241.9, BEST MSE: 261.1, BEST MODEL: MCNN_shtechB_4.h5\n"
     ]
    },
    {
     "name": "stderr",
     "output_type": "stream",
     "text": [
      "Train loss: 0.0003124746144749224: : 360it [00:12, 28.68it/s] \n",
      "Train loss: 0.00031243645935319364: : 360it [00:12, 28.68it/s]\n",
      "Train loss: 1.0512894732528366e-06: : 3it [00:00, 28.01it/s]"
     ]
    },
    {
     "name": "stdout",
     "output_type": "stream",
     "text": [
      "EPOCH: 32, MAE: 305.1, MSE: 314.4\n",
      "BEST MAE: 241.9, BEST MSE: 261.1, BEST MODEL: MCNN_shtechB_4.h5\n"
     ]
    },
    {
     "name": "stderr",
     "output_type": "stream",
     "text": [
      "Train loss: 0.0003134965954814106: : 360it [00:13, 26.74it/s] \n",
      "Train loss: 0.00031295540975406766: : 360it [00:13, 27.47it/s]\n",
      "Train loss: 1.0535916317166993e-06: : 3it [00:00, 25.19it/s]"
     ]
    },
    {
     "name": "stdout",
     "output_type": "stream",
     "text": [
      "EPOCH: 34, MAE: 47.5, MSE: 60.0\n",
      "BEST MAE: 47.5, BEST MSE: 60.0, BEST MODEL: MCNN_shtechB_34.h5\n"
     ]
    },
    {
     "name": "stderr",
     "output_type": "stream",
     "text": [
      "Train loss: 0.0003101342881564051: : 360it [00:12, 28.24it/s] \n",
      "Train loss: 0.00031032002880237997: : 360it [00:12, 28.15it/s]\n",
      "Train loss: 5.564392267842777e-06: : 3it [00:00, 28.55it/s] "
     ]
    },
    {
     "name": "stdout",
     "output_type": "stream",
     "text": [
      "EPOCH: 36, MAE: 330.8, MSE: 339.3\n",
      "BEST MAE: 47.5, BEST MSE: 60.0, BEST MODEL: MCNN_shtechB_34.h5\n"
     ]
    },
    {
     "name": "stderr",
     "output_type": "stream",
     "text": [
      "Train loss: 0.00031104599474929273: : 360it [00:12, 27.96it/s]\n",
      "Train loss: 0.00030876314849592745: : 360it [00:13, 27.37it/s]\n",
      "Train loss: 1.0784708592836978e-06: : 3it [00:00, 27.75it/s]"
     ]
    },
    {
     "name": "stdout",
     "output_type": "stream",
     "text": [
      "EPOCH: 38, MAE: 489.1, MSE: 493.6\n",
      "BEST MAE: 47.5, BEST MSE: 60.0, BEST MODEL: MCNN_shtechB_34.h5\n"
     ]
    },
    {
     "name": "stderr",
     "output_type": "stream",
     "text": [
      "Train loss: 0.00031143898377195: : 360it [00:12, 28.35it/s]   \n",
      "Train loss: 0.0003081445465795696: : 360it [00:12, 27.71it/s] \n",
      "Train loss: 1.1127074685646221e-05: : 3it [00:00, 26.29it/s]"
     ]
    },
    {
     "name": "stdout",
     "output_type": "stream",
     "text": [
      "EPOCH: 40, MAE: 1269.9, MSE: 1271.4\n",
      "BEST MAE: 47.5, BEST MSE: 60.0, BEST MODEL: MCNN_shtechB_34.h5\n"
     ]
    },
    {
     "name": "stderr",
     "output_type": "stream",
     "text": [
      "Train loss: 0.0003089766250923276: : 360it [00:13, 27.57it/s] \n",
      "Train loss: 0.0003069920639973134: : 360it [00:12, 28.12it/s] \n",
      "Train loss: 1.2669108400586993e-05: : 3it [00:00, 27.00it/s]"
     ]
    },
    {
     "name": "stdout",
     "output_type": "stream",
     "text": [
      "EPOCH: 42, MAE: 1350.5, MSE: 1350.5\n",
      "BEST MAE: 47.5, BEST MSE: 60.0, BEST MODEL: MCNN_shtechB_34.h5\n"
     ]
    },
    {
     "name": "stderr",
     "output_type": "stream",
     "text": [
      "Train loss: 0.0003063013427890837: : 360it [00:12, 28.47it/s] \n",
      "Train loss: 0.00030760338995605707: : 360it [00:12, 28.43it/s]\n",
      "Train loss: 2.092034264933318e-06: : 3it [00:00, 27.50it/s] "
     ]
    },
    {
     "name": "stdout",
     "output_type": "stream",
     "text": [
      "EPOCH: 44, MAE: 630.0, MSE: 632.1\n",
      "BEST MAE: 47.5, BEST MSE: 60.0, BEST MODEL: MCNN_shtechB_34.h5\n"
     ]
    },
    {
     "name": "stderr",
     "output_type": "stream",
     "text": [
      "Train loss: 0.0003057867579627782: : 360it [00:12, 28.54it/s] \n",
      "Train loss: 0.0003045164921786636: : 360it [00:12, 27.98it/s] \n",
      "Train loss: 1.0589933481242042e-06: : 3it [00:00, 27.25it/s]"
     ]
    },
    {
     "name": "stdout",
     "output_type": "stream",
     "text": [
      "EPOCH: 46, MAE: 1564.5, MSE: 1565.0\n",
      "BEST MAE: 47.5, BEST MSE: 60.0, BEST MODEL: MCNN_shtechB_34.h5\n"
     ]
    },
    {
     "name": "stderr",
     "output_type": "stream",
     "text": [
      "Train loss: 0.0003052449901588261: : 360it [00:13, 27.32it/s] \n",
      "Train loss: 0.00030328164575621486: : 360it [00:13, 26.53it/s]\n",
      "Train loss: 1.5880028513493016e-05: : 3it [00:00, 22.71it/s]"
     ]
    },
    {
     "name": "stdout",
     "output_type": "stream",
     "text": [
      "EPOCH: 48, MAE: 321.1, MSE: 329.0\n",
      "BEST MAE: 47.5, BEST MSE: 60.0, BEST MODEL: MCNN_shtechB_34.h5\n"
     ]
    },
    {
     "name": "stderr",
     "output_type": "stream",
     "text": [
      "Train loss: 0.0003019354771822691: : 360it [00:13, 27.18it/s] \n",
      "Train loss: 0.0003007025516126305: : 360it [00:12, 28.38it/s] \n",
      "Train loss: 2.5410395210201386e-06: : 3it [00:00, 27.50it/s]"
     ]
    },
    {
     "name": "stdout",
     "output_type": "stream",
     "text": [
      "EPOCH: 50, MAE: 321.7, MSE: 335.3\n",
      "BEST MAE: 47.5, BEST MSE: 60.0, BEST MODEL: MCNN_shtechB_34.h5\n"
     ]
    },
    {
     "name": "stderr",
     "output_type": "stream",
     "text": [
      "Train loss: 0.0003007486229762435: : 360it [00:12, 28.35it/s] \n",
      "Train loss: 0.0003001402074005455: : 360it [00:12, 28.98it/s] \n",
      "Train loss: 2.15374302570126e-06: : 3it [00:00, 27.75it/s]  "
     ]
    },
    {
     "name": "stdout",
     "output_type": "stream",
     "text": [
      "EPOCH: 52, MAE: 1403.4, MSE: 1403.6\n",
      "BEST MAE: 47.5, BEST MSE: 60.0, BEST MODEL: MCNN_shtechB_34.h5\n"
     ]
    },
    {
     "name": "stderr",
     "output_type": "stream",
     "text": [
      "Train loss: 0.00029824674129486084: : 360it [00:13, 27.05it/s]\n",
      "Train loss: 0.0002992356603499502: : 360it [00:12, 27.75it/s] \n",
      "Train loss: 4.34014282291173e-07: : 3it [00:00, 26.52it/s] "
     ]
    },
    {
     "name": "stdout",
     "output_type": "stream",
     "text": [
      "EPOCH: 54, MAE: 1126.3, MSE: 1126.7\n",
      "BEST MAE: 47.5, BEST MSE: 60.0, BEST MODEL: MCNN_shtechB_34.h5\n"
     ]
    },
    {
     "name": "stderr",
     "output_type": "stream",
     "text": [
      "Train loss: 0.00029692647513002157: : 360it [00:12, 28.27it/s]\n",
      "Train loss: 0.0002961473073810339: : 360it [00:13, 26.77it/s] \n",
      "Train loss: 6.825380296504591e-06: : 3it [00:00, 29.10it/s]"
     ]
    },
    {
     "name": "stdout",
     "output_type": "stream",
     "text": [
      "EPOCH: 56, MAE: 2888.5, MSE: 2889.3\n",
      "BEST MAE: 47.5, BEST MSE: 60.0, BEST MODEL: MCNN_shtechB_34.h5\n"
     ]
    },
    {
     "name": "stderr",
     "output_type": "stream",
     "text": [
      "Train loss: 0.0002986686595249921: : 360it [00:13, 27.69it/s] \n",
      "Train loss: 0.0002936295932158828: : 360it [00:12, 27.78it/s] \n",
      "Train loss: 4.775974957738072e-07: : 3it [00:00, 26.52it/s]"
     ]
    },
    {
     "name": "stdout",
     "output_type": "stream",
     "text": [
      "EPOCH: 58, MAE: 270.9, MSE: 277.8\n",
      "BEST MAE: 47.5, BEST MSE: 60.0, BEST MODEL: MCNN_shtechB_34.h5\n"
     ]
    },
    {
     "name": "stderr",
     "output_type": "stream",
     "text": [
      "Train loss: 0.0002951165079139173: : 360it [00:13, 27.08it/s] \n",
      "Train loss: 0.0002924321452155709: : 360it [00:13, 27.28it/s] \n",
      "Train loss: 4.18233685195446e-06: : 3it [00:00, 25.19it/s] "
     ]
    },
    {
     "name": "stdout",
     "output_type": "stream",
     "text": [
      "EPOCH: 60, MAE: 347.1, MSE: 347.1\n",
      "BEST MAE: 47.5, BEST MSE: 60.0, BEST MODEL: MCNN_shtechB_34.h5\n"
     ]
    },
    {
     "name": "stderr",
     "output_type": "stream",
     "text": [
      "Train loss: 0.0002922861312981695: : 360it [00:13, 27.02it/s] \n",
      "Train loss: 0.00028949938132427633: : 360it [00:13, 27.37it/s]\n",
      "Train loss: 6.936106728971936e-07: : 3it [00:00, 27.75it/s] "
     ]
    },
    {
     "name": "stdout",
     "output_type": "stream",
     "text": [
      "EPOCH: 62, MAE: 1250.5, MSE: 1250.5\n",
      "BEST MAE: 47.5, BEST MSE: 60.0, BEST MODEL: MCNN_shtechB_34.h5\n"
     ]
    },
    {
     "name": "stderr",
     "output_type": "stream",
     "text": [
      "Train loss: 0.0002900299150496721: : 360it [00:13, 27.21it/s] \n",
      "Train loss: 0.0002873244811780751: : 360it [00:13, 27.37it/s] \n",
      "Train loss: 1.7946048274097848e-06: : 3it [00:00, 25.62it/s]"
     ]
    },
    {
     "name": "stdout",
     "output_type": "stream",
     "text": [
      "EPOCH: 64, MAE: 669.1, MSE: 669.2\n",
      "BEST MAE: 47.5, BEST MSE: 60.0, BEST MODEL: MCNN_shtechB_34.h5\n"
     ]
    },
    {
     "name": "stderr",
     "output_type": "stream",
     "text": [
      "Train loss: 0.0002880208776332438: : 360it [00:12, 27.72it/s] \n",
      "Train loss: 0.00028737925458699465: : 360it [00:12, 27.71it/s]\n",
      "Train loss: 2.509330215616501e-06: : 3it [00:00, 25.19it/s]"
     ]
    },
    {
     "name": "stdout",
     "output_type": "stream",
     "text": [
      "EPOCH: 66, MAE: 664.1, MSE: 674.2\n",
      "BEST MAE: 47.5, BEST MSE: 60.0, BEST MODEL: MCNN_shtechB_34.h5\n"
     ]
    },
    {
     "name": "stderr",
     "output_type": "stream",
     "text": [
      "Train loss: 0.00028547225520014763: : 360it [00:12, 27.88it/s]\n",
      "Train loss: 0.0002848240837920457: : 360it [00:13, 26.82it/s] \n",
      "Train loss: 2.6214240733679617e-07: : 3it [00:00, 25.40it/s]"
     ]
    },
    {
     "name": "stdout",
     "output_type": "stream",
     "text": [
      "EPOCH: 68, MAE: 196.3, MSE: 230.0\n",
      "BEST MAE: 47.5, BEST MSE: 60.0, BEST MODEL: MCNN_shtechB_34.h5\n"
     ]
    },
    {
     "name": "stderr",
     "output_type": "stream",
     "text": [
      "Train loss: 0.0002862432738766074: : 360it [00:13, 26.93it/s] \n",
      "Train loss: 0.00028229443705640733: : 360it [00:13, 26.92it/s]\n",
      "Train loss: 1.452776814403478e-07: : 3it [00:00, 24.57it/s]"
     ]
    },
    {
     "name": "stdout",
     "output_type": "stream",
     "text": [
      "EPOCH: 70, MAE: 989.8, MSE: 993.2\n",
      "BEST MAE: 47.5, BEST MSE: 60.0, BEST MODEL: MCNN_shtechB_34.h5\n"
     ]
    },
    {
     "name": "stderr",
     "output_type": "stream",
     "text": [
      "Train loss: 0.0002811610174831003: : 360it [00:13, 26.94it/s] \n",
      "Train loss: 0.00027922523440793157: : 360it [00:13, 27.65it/s]\n",
      "Train loss: 2.1939333691989304e-06: : 3it [00:00, 26.06it/s]"
     ]
    },
    {
     "name": "stdout",
     "output_type": "stream",
     "text": [
      "EPOCH: 72, MAE: 1339.0, MSE: 1341.1\n",
      "BEST MAE: 47.5, BEST MSE: 60.0, BEST MODEL: MCNN_shtechB_34.h5\n"
     ]
    },
    {
     "name": "stderr",
     "output_type": "stream",
     "text": [
      "Train loss: 0.0002779980713967234: : 360it [00:13, 27.06it/s] \n",
      "Train loss: 0.0002783082891255617: : 360it [00:13, 27.69it/s] \n",
      "Train loss: 2.0141674212936778e-06: : 3it [00:00, 28.01it/s]"
     ]
    },
    {
     "name": "stdout",
     "output_type": "stream",
     "text": [
      "EPOCH: 74, MAE: 880.3, MSE: 888.9\n",
      "BEST MAE: 47.5, BEST MSE: 60.0, BEST MODEL: MCNN_shtechB_34.h5\n"
     ]
    },
    {
     "name": "stderr",
     "output_type": "stream",
     "text": [
      "Train loss: 0.00027915253303945065: : 360it [00:13, 27.48it/s]\n",
      "Train loss: 0.0002768989943433553: : 360it [00:12, 27.76it/s] \n",
      "Train loss: 1.49425045492535e-06: : 3it [00:00, 27.25it/s]  "
     ]
    },
    {
     "name": "stdout",
     "output_type": "stream",
     "text": [
      "EPOCH: 76, MAE: 1934.2, MSE: 1943.0\n",
      "BEST MAE: 47.5, BEST MSE: 60.0, BEST MODEL: MCNN_shtechB_34.h5\n"
     ]
    },
    {
     "name": "stderr",
     "output_type": "stream",
     "text": [
      "Train loss: 0.000273804267635569: : 360it [00:13, 27.40it/s]  \n",
      "Train loss: 0.0002741173666436225: : 360it [00:12, 27.70it/s] \n",
      "Train loss: 4.5896146616541955e-07: : 3it [00:00, 23.98it/s]"
     ]
    },
    {
     "name": "stdout",
     "output_type": "stream",
     "text": [
      "EPOCH: 78, MAE: 906.4, MSE: 907.6\n",
      "BEST MAE: 47.5, BEST MSE: 60.0, BEST MODEL: MCNN_shtechB_34.h5\n"
     ]
    },
    {
     "name": "stderr",
     "output_type": "stream",
     "text": [
      "Train loss: 0.0002707292151171714: : 360it [00:13, 27.62it/s] \n",
      "Train loss: 0.00027086303452961147: : 360it [00:13, 27.22it/s]\n",
      "Train loss: 1.6865483303263318e-06: : 3it [00:00, 25.40it/s]"
     ]
    },
    {
     "name": "stdout",
     "output_type": "stream",
     "text": [
      "EPOCH: 80, MAE: 1719.8, MSE: 1722.3\n",
      "BEST MAE: 47.5, BEST MSE: 60.0, BEST MODEL: MCNN_shtechB_34.h5\n"
     ]
    },
    {
     "name": "stderr",
     "output_type": "stream",
     "text": [
      "Train loss: 0.0002683786442503333: : 360it [00:13, 27.29it/s] \n",
      "Train loss: 0.00026774010621011257: : 360it [00:13, 27.48it/s]\n",
      "Train loss: 4.174798050371464e-06: : 3it [00:00, 26.52it/s]"
     ]
    },
    {
     "name": "stdout",
     "output_type": "stream",
     "text": [
      "EPOCH: 82, MAE: 995.7, MSE: 1011.2\n",
      "BEST MAE: 47.5, BEST MSE: 60.0, BEST MODEL: MCNN_shtechB_34.h5\n"
     ]
    },
    {
     "name": "stderr",
     "output_type": "stream",
     "text": [
      "Train loss: 0.0002659820020198822: : 360it [00:12, 27.82it/s] \n",
      "Train loss: 0.00026622595032677054: : 360it [00:12, 27.73it/s]\n",
      "Train loss: 6.341907919704681e-06: : 3it [00:00, 27.50it/s]"
     ]
    },
    {
     "name": "stdout",
     "output_type": "stream",
     "text": [
      "EPOCH: 84, MAE: 1046.8, MSE: 1073.4\n",
      "BEST MAE: 47.5, BEST MSE: 60.0, BEST MODEL: MCNN_shtechB_34.h5\n"
     ]
    },
    {
     "name": "stderr",
     "output_type": "stream",
     "text": [
      "Train loss: 0.00026585301384329796: : 360it [00:13, 27.29it/s]\n",
      "Train loss: 0.000264965055976063: : 360it [00:13, 27.00it/s]  \n",
      "Train loss: 8.543355761503335e-06: : 3it [00:00, 26.52it/s]"
     ]
    },
    {
     "name": "stdout",
     "output_type": "stream",
     "text": [
      "EPOCH: 86, MAE: 396.1, MSE: 449.9\n",
      "BEST MAE: 47.5, BEST MSE: 60.0, BEST MODEL: MCNN_shtechB_34.h5\n"
     ]
    },
    {
     "name": "stderr",
     "output_type": "stream",
     "text": [
      "Train loss: 0.00026213802630081773: : 360it [00:14, 25.62it/s]\n",
      "Train loss: 0.00026203825837001204: : 360it [00:13, 26.99it/s]\n",
      "Train loss: 1.5802215784788132e-06: : 3it [00:00, 26.06it/s]"
     ]
    },
    {
     "name": "stdout",
     "output_type": "stream",
     "text": [
      "EPOCH: 88, MAE: 1367.7, MSE: 1376.8\n",
      "BEST MAE: 47.5, BEST MSE: 60.0, BEST MODEL: MCNN_shtechB_34.h5\n"
     ]
    },
    {
     "name": "stderr",
     "output_type": "stream",
     "text": [
      "Train loss: 0.0002603058237582445: : 360it [00:13, 27.52it/s] \n",
      "Train loss: 0.000259608932537958: : 360it [00:12, 27.81it/s]  \n",
      "Train loss: 1.8258210729982238e-06: : 3it [00:00, 25.84it/s]"
     ]
    },
    {
     "name": "stdout",
     "output_type": "stream",
     "text": [
      "EPOCH: 90, MAE: 1299.4, MSE: 1302.0\n",
      "BEST MAE: 47.5, BEST MSE: 60.0, BEST MODEL: MCNN_shtechB_34.h5\n"
     ]
    },
    {
     "name": "stderr",
     "output_type": "stream",
     "text": [
      "Train loss: 0.0002578144776634872: : 360it [00:13, 26.86it/s] \n",
      "Train loss: 0.0002567092305980623: : 360it [00:13, 27.22it/s] \n",
      "Train loss: 4.419316610437818e-06: : 3it [00:00, 26.06it/s]"
     ]
    },
    {
     "name": "stdout",
     "output_type": "stream",
     "text": [
      "EPOCH: 92, MAE: 948.5, MSE: 962.2\n",
      "BEST MAE: 47.5, BEST MSE: 60.0, BEST MODEL: MCNN_shtechB_34.h5\n"
     ]
    },
    {
     "name": "stderr",
     "output_type": "stream",
     "text": [
      "Train loss: 0.00025624045520089567: : 360it [00:12, 27.83it/s]\n",
      "Train loss: 0.0002550302888266742: : 360it [00:13, 27.22it/s] \n",
      "Train loss: 1.5909704416117165e-06: : 3it [00:00, 25.40it/s]"
     ]
    },
    {
     "name": "stdout",
     "output_type": "stream",
     "text": [
      "EPOCH: 94, MAE: 893.0, MSE: 906.5\n",
      "BEST MAE: 47.5, BEST MSE: 60.0, BEST MODEL: MCNN_shtechB_34.h5\n"
     ]
    },
    {
     "name": "stderr",
     "output_type": "stream",
     "text": [
      "Train loss: 0.0002562206645961851: : 360it [00:13, 26.73it/s] \n",
      "Train loss: 0.0002528446784708649: : 360it [00:13, 27.67it/s] \n",
      "Train loss: 9.689795206213603e-07: : 3it [00:00, 24.98it/s]"
     ]
    },
    {
     "name": "stdout",
     "output_type": "stream",
     "text": [
      "EPOCH: 96, MAE: 374.7, MSE: 395.2\n",
      "BEST MAE: 47.5, BEST MSE: 60.0, BEST MODEL: MCNN_shtechB_34.h5\n"
     ]
    },
    {
     "name": "stderr",
     "output_type": "stream",
     "text": [
      "Train loss: 0.00025111876311711967: : 360it [00:13, 25.87it/s]\n",
      "Train loss: 0.0002509441983420402: : 360it [00:13, 27.43it/s] \n",
      "Train loss: 2.747005737546715e-06: : 3it [00:00, 26.52it/s]"
     ]
    },
    {
     "name": "stdout",
     "output_type": "stream",
     "text": [
      "EPOCH: 98, MAE: 484.3, MSE: 492.5\n",
      "BEST MAE: 47.5, BEST MSE: 60.0, BEST MODEL: MCNN_shtechB_34.h5\n"
     ]
    },
    {
     "name": "stderr",
     "output_type": "stream",
     "text": [
      "Train loss: 0.0002519821864552796: : 360it [00:13, 27.44it/s] \n",
      "Train loss: 0.0002487335295882076: : 360it [00:13, 27.20it/s] \n",
      "Train loss: 5.906090905227757e-07: : 3it [00:00, 24.57it/s]"
     ]
    },
    {
     "name": "stdout",
     "output_type": "stream",
     "text": [
      "EPOCH: 100, MAE: 264.1, MSE: 341.4\n",
      "BEST MAE: 47.5, BEST MSE: 60.0, BEST MODEL: MCNN_shtechB_34.h5\n"
     ]
    },
    {
     "name": "stderr",
     "output_type": "stream",
     "text": [
      "Train loss: 0.0002484601573087275: : 360it [00:13, 27.51it/s] \n",
      "Train loss: 0.0002476777008268982: : 360it [00:13, 27.09it/s] \n",
      "Train loss: 1.5096550214366289e-06: : 3it [00:00, 26.76it/s]"
     ]
    },
    {
     "name": "stdout",
     "output_type": "stream",
     "text": [
      "EPOCH: 102, MAE: 896.7, MSE: 912.5\n",
      "BEST MAE: 47.5, BEST MSE: 60.0, BEST MODEL: MCNN_shtechB_34.h5\n"
     ]
    },
    {
     "name": "stderr",
     "output_type": "stream",
     "text": [
      "Train loss: 0.0002525202289689332: : 360it [00:12, 27.99it/s] \n",
      "Train loss: 0.000245692819589749: : 360it [00:13, 27.44it/s]  \n",
      "Train loss: 5.587743544310797e-06: : 3it [00:00, 23.98it/s]"
     ]
    },
    {
     "name": "stdout",
     "output_type": "stream",
     "text": [
      "EPOCH: 104, MAE: 355.0, MSE: 388.8\n",
      "BEST MAE: 47.5, BEST MSE: 60.0, BEST MODEL: MCNN_shtechB_34.h5\n"
     ]
    },
    {
     "name": "stderr",
     "output_type": "stream",
     "text": [
      "Train loss: 0.00024753910838626325: : 360it [00:13, 27.60it/s]\n",
      "Train loss: 0.0002444973506499082: : 360it [00:13, 27.33it/s] \n",
      "Train loss: 2.329373728571227e-06: : 3it [00:00, 23.98it/s]"
     ]
    },
    {
     "name": "stdout",
     "output_type": "stream",
     "text": [
      "EPOCH: 106, MAE: 541.6, MSE: 562.1\n",
      "BEST MAE: 47.5, BEST MSE: 60.0, BEST MODEL: MCNN_shtechB_34.h5\n"
     ]
    },
    {
     "name": "stderr",
     "output_type": "stream",
     "text": [
      "Train loss: 0.00024333386681973934: : 360it [00:13, 27.07it/s]\n",
      "Train loss: 0.00024294963805004954: : 360it [00:13, 26.87it/s]\n",
      "Train loss: 5.680882964043121e-07: : 3it [00:00, 24.37it/s]"
     ]
    },
    {
     "name": "stdout",
     "output_type": "stream",
     "text": [
      "EPOCH: 108, MAE: 950.6, MSE: 958.8\n",
      "BEST MAE: 47.5, BEST MSE: 60.0, BEST MODEL: MCNN_shtechB_34.h5\n"
     ]
    },
    {
     "name": "stderr",
     "output_type": "stream",
     "text": [
      "Train loss: 0.00024405821750406176: : 360it [00:12, 27.88it/s]\n",
      "Train loss: 0.00024223607033491135: : 360it [00:12, 28.13it/s]\n",
      "Train loss: 3.1855196880314907e-07: : 3it [00:00, 26.52it/s]"
     ]
    },
    {
     "name": "stdout",
     "output_type": "stream",
     "text": [
      "EPOCH: 110, MAE: 365.3, MSE: 394.8\n",
      "BEST MAE: 47.5, BEST MSE: 60.0, BEST MODEL: MCNN_shtechB_34.h5\n"
     ]
    },
    {
     "name": "stderr",
     "output_type": "stream",
     "text": [
      "Train loss: 0.0002423243859084323: : 360it [00:13, 27.66it/s] \n",
      "Train loss: 0.00024075814872048795: : 360it [00:12, 28.02it/s]\n",
      "Train loss: 1.3653125563450885e-07: : 3it [00:00, 25.19it/s]"
     ]
    },
    {
     "name": "stdout",
     "output_type": "stream",
     "text": [
      "EPOCH: 112, MAE: 359.0, MSE: 388.7\n",
      "BEST MAE: 47.5, BEST MSE: 60.0, BEST MODEL: MCNN_shtechB_34.h5\n"
     ]
    },
    {
     "name": "stderr",
     "output_type": "stream",
     "text": [
      "Train loss: 0.00023929213057272136: : 360it [00:12, 28.28it/s]\n",
      "Train loss: 0.00023920240346342325: : 360it [00:12, 28.14it/s]\n",
      "Train loss: 6.088759619160555e-06: : 3it [00:00, 27.00it/s]"
     ]
    },
    {
     "name": "stdout",
     "output_type": "stream",
     "text": [
      "EPOCH: 114, MAE: 505.8, MSE: 521.0\n",
      "BEST MAE: 47.5, BEST MSE: 60.0, BEST MODEL: MCNN_shtechB_34.h5\n"
     ]
    },
    {
     "name": "stderr",
     "output_type": "stream",
     "text": [
      "Train loss: 0.00023921806132420897: : 360it [00:12, 28.03it/s]\n",
      "Train loss: 0.00023719895398244262: : 360it [00:12, 28.20it/s]\n",
      "Train loss: 1.013431983665214e-06: : 3it [00:00, 27.75it/s]"
     ]
    },
    {
     "name": "stdout",
     "output_type": "stream",
     "text": [
      "EPOCH: 116, MAE: 274.2, MSE: 320.7\n",
      "BEST MAE: 47.5, BEST MSE: 60.0, BEST MODEL: MCNN_shtechB_34.h5\n"
     ]
    },
    {
     "name": "stderr",
     "output_type": "stream",
     "text": [
      "Train loss: 0.00023831246653571725: : 360it [00:12, 28.18it/s]\n",
      "Train loss: 0.0002373886964051053: : 360it [00:12, 28.09it/s] \n",
      "Train loss: 5.564533239521552e-06: : 3it [00:00, 26.06it/s] "
     ]
    },
    {
     "name": "stdout",
     "output_type": "stream",
     "text": [
      "EPOCH: 118, MAE: 577.5, MSE: 601.2\n",
      "BEST MAE: 47.5, BEST MSE: 60.0, BEST MODEL: MCNN_shtechB_34.h5\n"
     ]
    },
    {
     "name": "stderr",
     "output_type": "stream",
     "text": [
      "Train loss: 0.00023604725720360875: : 360it [00:12, 28.12it/s]\n",
      "Train loss: 0.00023636773403268307: : 360it [00:12, 27.80it/s]\n",
      "Train loss: 5.000971214030869e-06: : 3it [00:00, 27.25it/s]"
     ]
    },
    {
     "name": "stdout",
     "output_type": "stream",
     "text": [
      "EPOCH: 120, MAE: 791.0, MSE: 799.2\n",
      "BEST MAE: 47.5, BEST MSE: 60.0, BEST MODEL: MCNN_shtechB_34.h5\n"
     ]
    },
    {
     "name": "stderr",
     "output_type": "stream",
     "text": [
      "Train loss: 0.00023684470215812325: : 360it [00:12, 27.70it/s]\n",
      "Train loss: 0.0002343982778256759: : 360it [00:12, 28.19it/s] \n",
      "Train loss: 5.117219643580029e-06: : 3it [00:00, 23.60it/s]"
     ]
    },
    {
     "name": "stdout",
     "output_type": "stream",
     "text": [
      "EPOCH: 122, MAE: 881.2, MSE: 883.2\n",
      "BEST MAE: 47.5, BEST MSE: 60.0, BEST MODEL: MCNN_shtechB_34.h5\n"
     ]
    },
    {
     "name": "stderr",
     "output_type": "stream",
     "text": [
      "Train loss: 0.00023451242304872721: : 360it [00:12, 28.37it/s]\n",
      "Train loss: 0.0002323463122593239: : 360it [00:12, 28.16it/s] \n",
      "Train loss: 2.940278420737741e-07: : 3it [00:00, 23.98it/s]"
     ]
    },
    {
     "name": "stdout",
     "output_type": "stream",
     "text": [
      "EPOCH: 124, MAE: 813.8, MSE: 821.4\n",
      "BEST MAE: 47.5, BEST MSE: 60.0, BEST MODEL: MCNN_shtechB_34.h5\n"
     ]
    },
    {
     "name": "stderr",
     "output_type": "stream",
     "text": [
      "Train loss: 0.00023356091696769: : 360it [00:12, 27.99it/s]   \n",
      "Train loss: 0.00023200370196718723: : 360it [00:12, 27.87it/s]\n",
      "Train loss: 1.0706171451602131e-06: : 3it [00:00, 25.84it/s]"
     ]
    },
    {
     "name": "stdout",
     "output_type": "stream",
     "text": [
      "EPOCH: 126, MAE: 542.2, MSE: 555.7\n",
      "BEST MAE: 47.5, BEST MSE: 60.0, BEST MODEL: MCNN_shtechB_34.h5\n"
     ]
    },
    {
     "name": "stderr",
     "output_type": "stream",
     "text": [
      "Train loss: 0.000231580575928092: : 360it [00:13, 27.38it/s]  \n",
      "Train loss: 0.00023175838578026742: : 360it [00:12, 28.07it/s]\n",
      "Train loss: 4.662962055590469e-06: : 3it [00:00, 28.55it/s]"
     ]
    },
    {
     "name": "stdout",
     "output_type": "stream",
     "text": [
      "EPOCH: 128, MAE: 558.2, MSE: 566.8\n",
      "BEST MAE: 47.5, BEST MSE: 60.0, BEST MODEL: MCNN_shtechB_34.h5\n"
     ]
    },
    {
     "name": "stderr",
     "output_type": "stream",
     "text": [
      "Train loss: 0.00023174907255452126: : 360it [00:12, 28.39it/s]\n",
      "Train loss: 0.00023025722475722432: : 360it [00:12, 28.13it/s]\n",
      "Train loss: 1.7837865016190335e-06: : 3it [00:00, 27.25it/s]"
     ]
    },
    {
     "name": "stdout",
     "output_type": "stream",
     "text": [
      "EPOCH: 130, MAE: 390.9, MSE: 408.6\n",
      "BEST MAE: 47.5, BEST MSE: 60.0, BEST MODEL: MCNN_shtechB_34.h5\n"
     ]
    },
    {
     "name": "stderr",
     "output_type": "stream",
     "text": [
      "Train loss: 0.00023083087580744177: : 360it [00:12, 28.25it/s]\n",
      "Train loss: 0.00023360343766398728: : 360it [00:12, 28.40it/s]\n",
      "Train loss: 3.35435015585972e-06: : 3it [00:00, 28.28it/s] "
     ]
    },
    {
     "name": "stdout",
     "output_type": "stream",
     "text": [
      "EPOCH: 132, MAE: 567.2, MSE: 574.1\n",
      "BEST MAE: 47.5, BEST MSE: 60.0, BEST MODEL: MCNN_shtechB_34.h5\n"
     ]
    },
    {
     "name": "stderr",
     "output_type": "stream",
     "text": [
      "Train loss: 0.0002288320247316733: : 360it [00:12, 28.26it/s] \n",
      "Train loss: 0.00022970109421294183: : 360it [00:12, 28.27it/s]\n",
      "Train loss: 2.9389215683295333e-07: : 3it [00:00, 26.06it/s]"
     ]
    },
    {
     "name": "stdout",
     "output_type": "stream",
     "text": [
      "EPOCH: 134, MAE: 481.0, MSE: 495.9\n",
      "BEST MAE: 47.5, BEST MSE: 60.0, BEST MODEL: MCNN_shtechB_34.h5\n"
     ]
    },
    {
     "name": "stderr",
     "output_type": "stream",
     "text": [
      "Train loss: 0.0002285152586409822: : 360it [00:12, 28.01it/s] \n",
      "Train loss: 0.00023441329540219158: : 360it [00:12, 27.97it/s]\n",
      "Train loss: 3.6079798064747592e-06: : 3it [00:00, 25.40it/s]"
     ]
    },
    {
     "name": "stdout",
     "output_type": "stream",
     "text": [
      "EPOCH: 136, MAE: 493.1, MSE: 507.8\n",
      "BEST MAE: 47.5, BEST MSE: 60.0, BEST MODEL: MCNN_shtechB_34.h5\n"
     ]
    },
    {
     "name": "stderr",
     "output_type": "stream",
     "text": [
      "Train loss: 0.00022782792802900076: : 360it [00:12, 28.49it/s]\n",
      "Train loss: 0.00022850408277008682: : 360it [00:12, 28.35it/s]\n",
      "Train loss: 3.0319761208374985e-06: : 3it [00:00, 26.52it/s]"
     ]
    },
    {
     "name": "stdout",
     "output_type": "stream",
     "text": [
      "EPOCH: 138, MAE: 586.4, MSE: 595.8\n",
      "BEST MAE: 47.5, BEST MSE: 60.0, BEST MODEL: MCNN_shtechB_34.h5\n"
     ]
    },
    {
     "name": "stderr",
     "output_type": "stream",
     "text": [
      "Train loss: 0.00022678593813907355: : 360it [00:12, 28.41it/s]\n",
      "Train loss: 0.0002258551976410672: : 360it [00:12, 28.42it/s] \n",
      "Train loss: 3.8099969970062375e-06: : 3it [00:00, 26.06it/s]"
     ]
    },
    {
     "name": "stdout",
     "output_type": "stream",
     "text": [
      "EPOCH: 140, MAE: 652.2, MSE: 660.5\n",
      "BEST MAE: 47.5, BEST MSE: 60.0, BEST MODEL: MCNN_shtechB_34.h5\n"
     ]
    },
    {
     "name": "stderr",
     "output_type": "stream",
     "text": [
      "Train loss: 0.0002251132536912337: : 360it [00:12, 28.42it/s] \n",
      "Train loss: 0.0002263654605485499: : 360it [00:12, 28.49it/s] \n",
      "Train loss: 1.0015593261414324e-06: : 3it [00:00, 29.10it/s]"
     ]
    },
    {
     "name": "stdout",
     "output_type": "stream",
     "text": [
      "EPOCH: 142, MAE: 674.9, MSE: 679.4\n",
      "BEST MAE: 47.5, BEST MSE: 60.0, BEST MODEL: MCNN_shtechB_34.h5\n"
     ]
    },
    {
     "name": "stderr",
     "output_type": "stream",
     "text": [
      "Train loss: 0.00022459439060185105: : 360it [00:12, 28.39it/s]\n",
      "Train loss: 0.00022498219914268702: : 360it [00:12, 28.51it/s]\n",
      "Train loss: 7.3161886575690005e-06: : 3it [00:00, 28.28it/s]"
     ]
    },
    {
     "name": "stdout",
     "output_type": "stream",
     "text": [
      "EPOCH: 144, MAE: 187.5, MSE: 226.7\n",
      "BEST MAE: 47.5, BEST MSE: 60.0, BEST MODEL: MCNN_shtechB_34.h5\n"
     ]
    },
    {
     "name": "stderr",
     "output_type": "stream",
     "text": [
      "Train loss: 0.00022567111591342837: : 360it [00:12, 28.50it/s]\n",
      "Train loss: 0.00022367393830791116: : 360it [00:12, 28.40it/s]\n",
      "Train loss: 1.007746504910756e-06: : 3it [00:00, 26.29it/s] "
     ]
    },
    {
     "name": "stdout",
     "output_type": "stream",
     "text": [
      "EPOCH: 146, MAE: 553.5, MSE: 557.0\n",
      "BEST MAE: 47.5, BEST MSE: 60.0, BEST MODEL: MCNN_shtechB_34.h5\n"
     ]
    },
    {
     "name": "stderr",
     "output_type": "stream",
     "text": [
      "Train loss: 0.0002243562339572236: : 360it [00:12, 28.39it/s] \n",
      "Train loss: 0.00022264143626671284: : 360it [00:12, 28.39it/s]\n",
      "Train loss: 1.2409033445237583e-07: : 3it [00:00, 26.29it/s]"
     ]
    },
    {
     "name": "stdout",
     "output_type": "stream",
     "text": [
      "EPOCH: 148, MAE: 511.0, MSE: 518.2\n",
      "BEST MAE: 47.5, BEST MSE: 60.0, BEST MODEL: MCNN_shtechB_34.h5\n"
     ]
    },
    {
     "name": "stderr",
     "output_type": "stream",
     "text": [
      "Train loss: 0.00022428290685638785: : 360it [00:12, 27.95it/s]\n",
      "Train loss: 0.00022172581520862877: : 360it [00:12, 28.44it/s]\n",
      "Train loss: 1.127009340962104e-06: : 3it [00:00, 26.52it/s]"
     ]
    },
    {
     "name": "stdout",
     "output_type": "stream",
     "text": [
      "EPOCH: 150, MAE: 560.3, MSE: 563.7\n",
      "BEST MAE: 47.5, BEST MSE: 60.0, BEST MODEL: MCNN_shtechB_34.h5\n"
     ]
    },
    {
     "name": "stderr",
     "output_type": "stream",
     "text": [
      "Train loss: 0.00022261322010308504: : 360it [00:12, 28.02it/s]\n",
      "Train loss: 0.00022224520216695964: : 360it [00:12, 27.97it/s]\n",
      "Train loss: 3.3415321354368643e-07: : 3it [00:00, 28.94it/s]"
     ]
    },
    {
     "name": "stdout",
     "output_type": "stream",
     "text": [
      "EPOCH: 152, MAE: 674.8, MSE: 682.0\n",
      "BEST MAE: 47.5, BEST MSE: 60.0, BEST MODEL: MCNN_shtechB_34.h5\n"
     ]
    },
    {
     "name": "stderr",
     "output_type": "stream",
     "text": [
      "Train loss: 0.00022135855397209525: : 360it [00:12, 28.32it/s]\n",
      "Train loss: 0.0002212081162724644: : 360it [00:12, 28.19it/s] \n",
      "Train loss: 1.7687059425952611e-06: : 3it [00:00, 26.29it/s]"
     ]
    },
    {
     "name": "stdout",
     "output_type": "stream",
     "text": [
      "EPOCH: 154, MAE: 774.4, MSE: 776.4\n",
      "BEST MAE: 47.5, BEST MSE: 60.0, BEST MODEL: MCNN_shtechB_34.h5\n"
     ]
    },
    {
     "name": "stderr",
     "output_type": "stream",
     "text": [
      "Train loss: 0.00021990624372847378: : 360it [00:13, 27.57it/s]\n",
      "Train loss: 0.00022244341380428523: : 360it [00:12, 28.58it/s]\n",
      "Train loss: 5.395407697506016e-06: : 3it [00:00, 26.76it/s]"
     ]
    },
    {
     "name": "stdout",
     "output_type": "stream",
     "text": [
      "EPOCH: 156, MAE: 570.5, MSE: 576.6\n",
      "BEST MAE: 47.5, BEST MSE: 60.0, BEST MODEL: MCNN_shtechB_34.h5\n"
     ]
    },
    {
     "name": "stderr",
     "output_type": "stream",
     "text": [
      "Train loss: 0.00022105748939793557: : 360it [00:12, 28.27it/s]\n",
      "Train loss: 0.00022450988763011992: : 360it [00:12, 28.61it/s]\n",
      "Train loss: 2.0629623520562745e-07: : 3it [00:00, 25.84it/s]"
     ]
    },
    {
     "name": "stdout",
     "output_type": "stream",
     "text": [
      "EPOCH: 158, MAE: 550.0, MSE: 551.1\n",
      "BEST MAE: 47.5, BEST MSE: 60.0, BEST MODEL: MCNN_shtechB_34.h5\n"
     ]
    },
    {
     "name": "stderr",
     "output_type": "stream",
     "text": [
      "Train loss: 0.0002197331195930019: : 360it [00:12, 28.42it/s] \n",
      "Train loss: 0.00021800180547870696: : 360it [00:12, 28.47it/s]\n",
      "Train loss: 1.701647960317132e-07: : 3it [00:00, 27.00it/s] "
     ]
    },
    {
     "name": "stdout",
     "output_type": "stream",
     "text": [
      "EPOCH: 160, MAE: 522.9, MSE: 527.8\n",
      "BEST MAE: 47.5, BEST MSE: 60.0, BEST MODEL: MCNN_shtechB_34.h5\n"
     ]
    },
    {
     "name": "stderr",
     "output_type": "stream",
     "text": [
      "Train loss: 0.00022120604990050197: : 360it [00:12, 28.44it/s]\n",
      "Train loss: 0.00022389812511391938: : 360it [00:12, 28.56it/s]\n",
      "Train loss: 8.481998520437628e-06: : 3it [00:00, 26.52it/s]"
     ]
    },
    {
     "name": "stdout",
     "output_type": "stream",
     "text": [
      "EPOCH: 162, MAE: 669.8, MSE: 677.8\n",
      "BEST MAE: 47.5, BEST MSE: 60.0, BEST MODEL: MCNN_shtechB_34.h5\n"
     ]
    },
    {
     "name": "stderr",
     "output_type": "stream",
     "text": [
      "Train loss: 0.00021838091197423637: : 360it [00:12, 28.66it/s]\n",
      "Train loss: 0.00021764441044069827: : 360it [00:12, 28.60it/s]\n",
      "Train loss: 2.161728161809151e-06: : 3it [00:00, 28.28it/s] "
     ]
    },
    {
     "name": "stdout",
     "output_type": "stream",
     "text": [
      "EPOCH: 164, MAE: 371.1, MSE: 380.2\n",
      "BEST MAE: 47.5, BEST MSE: 60.0, BEST MODEL: MCNN_shtechB_34.h5\n"
     ]
    },
    {
     "name": "stderr",
     "output_type": "stream",
     "text": [
      "Train loss: 0.00021745565754827112: : 360it [00:13, 26.90it/s]\n",
      "Train loss: 0.00021962243772577494: : 360it [00:13, 26.64it/s]\n",
      "Train loss: 1.9036592675547581e-06: : 3it [00:00, 27.25it/s]"
     ]
    },
    {
     "name": "stdout",
     "output_type": "stream",
     "text": [
      "EPOCH: 166, MAE: 857.9, MSE: 857.9\n",
      "BEST MAE: 47.5, BEST MSE: 60.0, BEST MODEL: MCNN_shtechB_34.h5\n"
     ]
    },
    {
     "name": "stderr",
     "output_type": "stream",
     "text": [
      "Train loss: 0.0002217009459855035: : 360it [00:13, 27.61it/s] \n",
      "Train loss: 0.00021665706299245358: : 360it [00:13, 26.75it/s]\n",
      "Train loss: 2.0235447664163075e-06: : 3it [00:00, 28.28it/s]"
     ]
    },
    {
     "name": "stdout",
     "output_type": "stream",
     "text": [
      "EPOCH: 168, MAE: 491.3, MSE: 493.8\n",
      "BEST MAE: 47.5, BEST MSE: 60.0, BEST MODEL: MCNN_shtechB_34.h5\n"
     ]
    },
    {
     "name": "stderr",
     "output_type": "stream",
     "text": [
      "Train loss: 0.00021568461670540273: : 360it [00:13, 26.17it/s]\n",
      "Train loss: 0.0002164540346711874: : 360it [00:12, 27.83it/s] \n",
      "Train loss: 3.82280319399797e-07: : 3it [00:00, 29.10it/s] "
     ]
    },
    {
     "name": "stdout",
     "output_type": "stream",
     "text": [
      "EPOCH: 170, MAE: 762.9, MSE: 764.1\n",
      "BEST MAE: 47.5, BEST MSE: 60.0, BEST MODEL: MCNN_shtechB_34.h5\n"
     ]
    },
    {
     "name": "stderr",
     "output_type": "stream",
     "text": [
      "Train loss: 0.00021561137691605836: : 360it [00:12, 27.99it/s]\n",
      "Train loss: 0.00021600427862722427: : 360it [00:12, 27.80it/s]\n",
      "Train loss: 8.006809935068304e-07: : 3it [00:00, 27.50it/s]"
     ]
    },
    {
     "name": "stdout",
     "output_type": "stream",
     "text": [
      "EPOCH: 172, MAE: 689.8, MSE: 691.5\n",
      "BEST MAE: 47.5, BEST MSE: 60.0, BEST MODEL: MCNN_shtechB_34.h5\n"
     ]
    },
    {
     "name": "stderr",
     "output_type": "stream",
     "text": [
      "Train loss: 0.0002173853717977181: : 360it [00:12, 28.09it/s] \n",
      "Train loss: 0.00022286402236204594: : 360it [00:12, 27.75it/s]\n",
      "Train loss: 9.474510079598986e-06: : 3it [00:00, 26.52it/s]"
     ]
    },
    {
     "name": "stdout",
     "output_type": "stream",
     "text": [
      "EPOCH: 174, MAE: 814.9, MSE: 814.9\n",
      "BEST MAE: 47.5, BEST MSE: 60.0, BEST MODEL: MCNN_shtechB_34.h5\n"
     ]
    },
    {
     "name": "stderr",
     "output_type": "stream",
     "text": [
      "Train loss: 0.00021476631809491664: : 360it [00:12, 27.77it/s]\n",
      "Train loss: 0.00021713788737542927: : 360it [00:13, 26.43it/s]\n",
      "Train loss: 2.1180467228987254e-06: : 3it [00:00, 25.84it/s]"
     ]
    },
    {
     "name": "stdout",
     "output_type": "stream",
     "text": [
      "EPOCH: 176, MAE: 626.7, MSE: 631.9\n",
      "BEST MAE: 47.5, BEST MSE: 60.0, BEST MODEL: MCNN_shtechB_34.h5\n"
     ]
    },
    {
     "name": "stderr",
     "output_type": "stream",
     "text": [
      "Train loss: 0.0002141867153113708: : 360it [00:13, 26.87it/s] \n",
      "Train loss: 0.00021369797468651086: : 360it [00:12, 27.82it/s]\n",
      "Train loss: 5.453327958093723e-07: : 3it [00:00, 27.50it/s]"
     ]
    },
    {
     "name": "stdout",
     "output_type": "stream",
     "text": [
      "EPOCH: 178, MAE: 1096.6, MSE: 1096.7\n",
      "BEST MAE: 47.5, BEST MSE: 60.0, BEST MODEL: MCNN_shtechB_34.h5\n"
     ]
    },
    {
     "name": "stderr",
     "output_type": "stream",
     "text": [
      "Train loss: 0.00021678935445379466: : 360it [00:13, 26.84it/s]\n",
      "Train loss: 0.00021388650930020958: : 360it [00:13, 27.32it/s]\n",
      "Train loss: 1.4847569218545686e-06: : 3it [00:00, 28.01it/s]"
     ]
    },
    {
     "name": "stdout",
     "output_type": "stream",
     "text": [
      "EPOCH: 180, MAE: 694.2, MSE: 697.3\n",
      "BEST MAE: 47.5, BEST MSE: 60.0, BEST MODEL: MCNN_shtechB_34.h5\n"
     ]
    },
    {
     "name": "stderr",
     "output_type": "stream",
     "text": [
      "Train loss: 0.00021567409567069262: : 360it [00:13, 27.23it/s]\n",
      "Train loss: 0.00021597738668788224: : 360it [00:12, 28.01it/s]\n",
      "Train loss: 1.9814319784927648e-06: : 3it [00:00, 28.01it/s]"
     ]
    },
    {
     "name": "stdout",
     "output_type": "stream",
     "text": [
      "EPOCH: 182, MAE: 728.7, MSE: 729.7\n",
      "BEST MAE: 47.5, BEST MSE: 60.0, BEST MODEL: MCNN_shtechB_34.h5\n"
     ]
    },
    {
     "name": "stderr",
     "output_type": "stream",
     "text": [
      "Train loss: 0.00021311896853148937: : 360it [00:12, 28.30it/s]\n",
      "Train loss: 0.00021252261649351567: : 360it [00:12, 28.46it/s]\n",
      "Train loss: 3.7885597521380987e-06: : 3it [00:00, 26.06it/s]"
     ]
    },
    {
     "name": "stdout",
     "output_type": "stream",
     "text": [
      "EPOCH: 184, MAE: 429.4, MSE: 438.3\n",
      "BEST MAE: 47.5, BEST MSE: 60.0, BEST MODEL: MCNN_shtechB_34.h5\n"
     ]
    },
    {
     "name": "stderr",
     "output_type": "stream",
     "text": [
      "Train loss: 0.00021279824431985617: : 360it [00:12, 28.40it/s]\n",
      "Train loss: 0.00021356239449232817: : 360it [00:12, 28.62it/s]\n",
      "Train loss: 1.2895400232082466e-06: : 3it [00:00, 26.29it/s]"
     ]
    },
    {
     "name": "stdout",
     "output_type": "stream",
     "text": [
      "EPOCH: 186, MAE: 834.2, MSE: 835.7\n",
      "BEST MAE: 47.5, BEST MSE: 60.0, BEST MODEL: MCNN_shtechB_34.h5\n"
     ]
    },
    {
     "name": "stderr",
     "output_type": "stream",
     "text": [
      "Train loss: 0.00021489514620043337: : 360it [00:12, 28.49it/s]\n",
      "Train loss: 0.00021117317373864353: : 360it [00:12, 28.48it/s]\n",
      "Train loss: 9.666166533861542e-07: : 3it [00:00, 26.29it/s]"
     ]
    },
    {
     "name": "stdout",
     "output_type": "stream",
     "text": [
      "EPOCH: 188, MAE: 740.3, MSE: 741.0\n",
      "BEST MAE: 47.5, BEST MSE: 60.0, BEST MODEL: MCNN_shtechB_34.h5\n"
     ]
    },
    {
     "name": "stderr",
     "output_type": "stream",
     "text": [
      "Train loss: 0.00021082379680592567: : 360it [00:12, 28.55it/s]\n",
      "Train loss: 0.00021236660541035235: : 360it [00:12, 28.44it/s]\n",
      "Train loss: 3.173410277668154e-06: : 3it [00:00, 25.40it/s] "
     ]
    },
    {
     "name": "stdout",
     "output_type": "stream",
     "text": [
      "EPOCH: 190, MAE: 698.2, MSE: 701.6\n",
      "BEST MAE: 47.5, BEST MSE: 60.0, BEST MODEL: MCNN_shtechB_34.h5\n"
     ]
    },
    {
     "name": "stderr",
     "output_type": "stream",
     "text": [
      "Train loss: 0.00021134201961103827: : 360it [00:12, 28.34it/s]\n",
      "Train loss: 0.0002117535623256117: : 360it [00:12, 28.47it/s] \n",
      "Train loss: 1.4536676644638646e-06: : 3it [00:00, 27.50it/s]"
     ]
    },
    {
     "name": "stdout",
     "output_type": "stream",
     "text": [
      "EPOCH: 192, MAE: 432.7, MSE: 436.4\n",
      "BEST MAE: 47.5, BEST MSE: 60.0, BEST MODEL: MCNN_shtechB_34.h5\n"
     ]
    },
    {
     "name": "stderr",
     "output_type": "stream",
     "text": [
      "Train loss: 0.0002104610321111977: : 360it [00:12, 28.36it/s] \n",
      "Train loss: 0.00021159849711693823: : 360it [00:12, 28.18it/s]\n",
      "Train loss: 2.7009234599972842e-06: : 3it [00:00, 25.40it/s]"
     ]
    },
    {
     "name": "stdout",
     "output_type": "stream",
     "text": [
      "EPOCH: 194, MAE: 796.7, MSE: 796.7\n",
      "BEST MAE: 47.5, BEST MSE: 60.0, BEST MODEL: MCNN_shtechB_34.h5\n"
     ]
    },
    {
     "name": "stderr",
     "output_type": "stream",
     "text": [
      "Train loss: 0.00021053655655123293: : 360it [00:12, 28.49it/s]\n",
      "Train loss: 0.00021133555856067687: : 360it [00:12, 28.62it/s]\n",
      "Train loss: 4.97936582632974e-07: : 3it [00:00, 25.84it/s] "
     ]
    },
    {
     "name": "stdout",
     "output_type": "stream",
     "text": [
      "EPOCH: 196, MAE: 873.3, MSE: 873.5\n",
      "BEST MAE: 47.5, BEST MSE: 60.0, BEST MODEL: MCNN_shtechB_34.h5\n"
     ]
    },
    {
     "name": "stderr",
     "output_type": "stream",
     "text": [
      "Train loss: 0.00021181610645726323: : 360it [00:12, 28.77it/s]\n",
      "Train loss: 0.00021005558664910495: : 360it [00:12, 28.71it/s]\n",
      "Train loss: 8.033971994336753e-07: : 3it [00:00, 27.50it/s]"
     ]
    },
    {
     "name": "stdout",
     "output_type": "stream",
     "text": [
      "EPOCH: 198, MAE: 737.9, MSE: 738.4\n",
      "BEST MAE: 47.5, BEST MSE: 60.0, BEST MODEL: MCNN_shtechB_34.h5\n"
     ]
    },
    {
     "name": "stderr",
     "output_type": "stream",
     "text": [
      "Train loss: 0.00021208054386079311: : 360it [00:12, 28.70it/s]\n",
      "Train loss: 0.00021006743190810084: : 360it [00:12, 28.77it/s]\n",
      "Train loss: 3.4325362321396824e-06: : 3it [00:00, 26.06it/s]"
     ]
    },
    {
     "name": "stdout",
     "output_type": "stream",
     "text": [
      "EPOCH: 200, MAE: 216.3, MSE: 228.0\n",
      "BEST MAE: 47.5, BEST MSE: 60.0, BEST MODEL: MCNN_shtechB_34.h5\n"
     ]
    },
    {
     "name": "stderr",
     "output_type": "stream",
     "text": [
      "Train loss: 0.00020954612409695983: : 360it [00:12, 28.61it/s]\n",
      "Train loss: 0.00020838147611357272: : 360it [00:12, 28.60it/s]\n",
      "Train loss: 7.698640729358885e-06: : 3it [00:00, 26.76it/s] "
     ]
    },
    {
     "name": "stdout",
     "output_type": "stream",
     "text": [
      "EPOCH: 202, MAE: 557.6, MSE: 560.7\n",
      "BEST MAE: 47.5, BEST MSE: 60.0, BEST MODEL: MCNN_shtechB_34.h5\n"
     ]
    },
    {
     "name": "stderr",
     "output_type": "stream",
     "text": [
      "Train loss: 0.00021184052457101643: : 360it [00:12, 28.19it/s]\n",
      "Train loss: 0.00020860608492512256: : 360it [00:12, 27.79it/s]\n",
      "Train loss: 5.773495104222093e-06: : 3it [00:00, 28.82it/s]"
     ]
    },
    {
     "name": "stdout",
     "output_type": "stream",
     "text": [
      "EPOCH: 204, MAE: 724.9, MSE: 725.2\n",
      "BEST MAE: 47.5, BEST MSE: 60.0, BEST MODEL: MCNN_shtechB_34.h5\n"
     ]
    },
    {
     "name": "stderr",
     "output_type": "stream",
     "text": [
      "Train loss: 0.0002082165883621201: : 360it [00:12, 27.88it/s] \n",
      "Train loss: 0.0002125705505022779: : 360it [00:13, 26.96it/s] \n",
      "Train loss: 2.163986891901004e-07: : 3it [00:00, 26.06it/s]"
     ]
    },
    {
     "name": "stdout",
     "output_type": "stream",
     "text": [
      "EPOCH: 206, MAE: 542.6, MSE: 543.4\n",
      "BEST MAE: 47.5, BEST MSE: 60.0, BEST MODEL: MCNN_shtechB_34.h5\n"
     ]
    },
    {
     "name": "stderr",
     "output_type": "stream",
     "text": [
      "Train loss: 0.00020829727873206139: : 360it [00:12, 27.77it/s]\n",
      "Train loss: 0.00020857443450950086: : 360it [00:13, 27.63it/s]\n",
      "Train loss: 3.6287920011091046e-06: : 3it [00:00, 27.50it/s]"
     ]
    },
    {
     "name": "stdout",
     "output_type": "stream",
     "text": [
      "EPOCH: 208, MAE: 476.5, MSE: 481.0\n",
      "BEST MAE: 47.5, BEST MSE: 60.0, BEST MODEL: MCNN_shtechB_34.h5\n"
     ]
    },
    {
     "name": "stderr",
     "output_type": "stream",
     "text": [
      "Train loss: 0.000209720223210752: : 360it [00:13, 27.42it/s]  \n",
      "Train loss: 0.0002113610680680722: : 360it [00:13, 27.59it/s] \n",
      "Train loss: 2.3669895199418534e-06: : 3it [00:00, 27.00it/s]"
     ]
    },
    {
     "name": "stdout",
     "output_type": "stream",
     "text": [
      "EPOCH: 210, MAE: 691.3, MSE: 693.6\n",
      "BEST MAE: 47.5, BEST MSE: 60.0, BEST MODEL: MCNN_shtechB_34.h5\n"
     ]
    },
    {
     "name": "stderr",
     "output_type": "stream",
     "text": [
      "Train loss: 0.00020782557839993387: : 360it [00:12, 27.85it/s]\n",
      "Train loss: 0.00020663379109464586: : 360it [00:12, 28.14it/s]\n",
      "Train loss: 6.074297971281339e-07: : 3it [00:00, 28.82it/s] "
     ]
    },
    {
     "name": "stdout",
     "output_type": "stream",
     "text": [
      "EPOCH: 212, MAE: 717.7, MSE: 718.5\n",
      "BEST MAE: 47.5, BEST MSE: 60.0, BEST MODEL: MCNN_shtechB_34.h5\n"
     ]
    },
    {
     "name": "stderr",
     "output_type": "stream",
     "text": [
      "Train loss: 0.000206148368306458: : 360it [00:12, 28.25it/s]  \n",
      "Train loss: 0.00021277929772622883: : 360it [00:13, 27.52it/s]\n",
      "Train loss: 3.854678709558357e-07: : 3it [00:00, 25.84it/s]"
     ]
    },
    {
     "name": "stdout",
     "output_type": "stream",
     "text": [
      "EPOCH: 214, MAE: 552.5, MSE: 553.9\n",
      "BEST MAE: 47.5, BEST MSE: 60.0, BEST MODEL: MCNN_shtechB_34.h5\n"
     ]
    },
    {
     "name": "stderr",
     "output_type": "stream",
     "text": [
      "Train loss: 0.00020855836919508874: : 360it [00:13, 26.40it/s]\n",
      "Train loss: 0.0002064619620796293: : 360it [00:12, 27.88it/s] \n",
      "Train loss: 1.7635937865634332e-06: : 3it [00:00, 24.98it/s]"
     ]
    },
    {
     "name": "stdout",
     "output_type": "stream",
     "text": [
      "EPOCH: 216, MAE: 601.8, MSE: 601.9\n",
      "BEST MAE: 47.5, BEST MSE: 60.0, BEST MODEL: MCNN_shtechB_34.h5\n"
     ]
    },
    {
     "name": "stderr",
     "output_type": "stream",
     "text": [
      "Train loss: 0.00020530626352410764: : 360it [00:13, 27.59it/s]\n",
      "Train loss: 0.00020727993978653103: : 360it [00:12, 27.90it/s]\n",
      "Train loss: 3.7280556171026547e-06: : 3it [00:00, 25.84it/s]"
     ]
    },
    {
     "name": "stdout",
     "output_type": "stream",
     "text": [
      "EPOCH: 218, MAE: 635.9, MSE: 635.9\n",
      "BEST MAE: 47.5, BEST MSE: 60.0, BEST MODEL: MCNN_shtechB_34.h5\n"
     ]
    },
    {
     "name": "stderr",
     "output_type": "stream",
     "text": [
      "Train loss: 0.00020549693726934493: : 360it [00:12, 28.12it/s]\n",
      "Train loss: 0.000205238742637448: : 360it [00:12, 28.40it/s]  \n",
      "Train loss: 1.6742321804485982e-06: : 3it [00:00, 26.29it/s]"
     ]
    },
    {
     "name": "stdout",
     "output_type": "stream",
     "text": [
      "EPOCH: 220, MAE: 203.1, MSE: 214.9\n",
      "BEST MAE: 47.5, BEST MSE: 60.0, BEST MODEL: MCNN_shtechB_34.h5\n"
     ]
    },
    {
     "name": "stderr",
     "output_type": "stream",
     "text": [
      "Train loss: 0.0002083620784105733: : 360it [00:12, 28.48it/s] \n",
      "Train loss: 0.00020812028378713876: : 360it [00:12, 28.02it/s]\n",
      "Train loss: 5.398139251155953e-07: : 3it [00:00, 26.29it/s]"
     ]
    },
    {
     "name": "stdout",
     "output_type": "stream",
     "text": [
      "EPOCH: 222, MAE: 871.4, MSE: 871.4\n",
      "BEST MAE: 47.5, BEST MSE: 60.0, BEST MODEL: MCNN_shtechB_34.h5\n"
     ]
    },
    {
     "name": "stderr",
     "output_type": "stream",
     "text": [
      "Train loss: 0.00020779427723027766: : 360it [00:12, 28.23it/s]\n",
      "Train loss: 0.00020577479153871536: : 360it [00:12, 28.46it/s]\n",
      "Train loss: 3.9827929754210345e-07: : 3it [00:00, 27.50it/s]"
     ]
    },
    {
     "name": "stdout",
     "output_type": "stream",
     "text": [
      "EPOCH: 224, MAE: 659.2, MSE: 660.5\n",
      "BEST MAE: 47.5, BEST MSE: 60.0, BEST MODEL: MCNN_shtechB_34.h5\n"
     ]
    },
    {
     "name": "stderr",
     "output_type": "stream",
     "text": [
      "Train loss: 0.00020486362336669117: : 360it [00:12, 28.28it/s]\n",
      "Train loss: 0.00020471536845434457: : 360it [00:12, 28.45it/s]\n",
      "Train loss: 6.8323579398565926e-06: : 3it [00:00, 27.25it/s]"
     ]
    },
    {
     "name": "stdout",
     "output_type": "stream",
     "text": [
      "EPOCH: 226, MAE: 444.0, MSE: 445.1\n",
      "BEST MAE: 47.5, BEST MSE: 60.0, BEST MODEL: MCNN_shtechB_34.h5\n"
     ]
    },
    {
     "name": "stderr",
     "output_type": "stream",
     "text": [
      "Train loss: 0.00020503351697698236: : 360it [00:12, 28.09it/s]\n",
      "Train loss: 0.0002047059388132766: : 360it [00:12, 28.30it/s] \n",
      "Train loss: 8.000801017260528e-07: : 3it [00:00, 27.50it/s] "
     ]
    },
    {
     "name": "stdout",
     "output_type": "stream",
     "text": [
      "EPOCH: 228, MAE: 640.9, MSE: 641.1\n",
      "BEST MAE: 47.5, BEST MSE: 60.0, BEST MODEL: MCNN_shtechB_34.h5\n"
     ]
    },
    {
     "name": "stderr",
     "output_type": "stream",
     "text": [
      "Train loss: 0.00020502100232988596: : 360it [00:12, 28.42it/s]\n",
      "Train loss: 0.0002047704329015687: : 360it [00:12, 27.80it/s] \n",
      "Train loss: 8.567763529754302e-07: : 3it [00:00, 27.25it/s]"
     ]
    },
    {
     "name": "stdout",
     "output_type": "stream",
     "text": [
      "EPOCH: 230, MAE: 463.2, MSE: 464.7\n",
      "BEST MAE: 47.5, BEST MSE: 60.0, BEST MODEL: MCNN_shtechB_34.h5\n"
     ]
    },
    {
     "name": "stderr",
     "output_type": "stream",
     "text": [
      "Train loss: 0.0002043490530923009: : 360it [00:13, 26.52it/s] \n",
      "Train loss: 0.00020538046373985708: : 360it [00:13, 26.76it/s]\n",
      "Train loss: 1.1031527265004115e-06: : 3it [00:00, 23.06it/s]"
     ]
    },
    {
     "name": "stdout",
     "output_type": "stream",
     "text": [
      "EPOCH: 232, MAE: 617.4, MSE: 617.9\n",
      "BEST MAE: 47.5, BEST MSE: 60.0, BEST MODEL: MCNN_shtechB_34.h5\n"
     ]
    },
    {
     "name": "stderr",
     "output_type": "stream",
     "text": [
      "Train loss: 0.00020415267499629408: : 360it [00:13, 26.77it/s]\n",
      "Train loss: 0.0002059877588180825: : 360it [00:13, 27.38it/s] \n",
      "Train loss: 1.4977741784605314e-06: : 3it [00:00, 25.40it/s]"
     ]
    },
    {
     "name": "stdout",
     "output_type": "stream",
     "text": [
      "EPOCH: 234, MAE: 595.1, MSE: 595.7\n",
      "BEST MAE: 47.5, BEST MSE: 60.0, BEST MODEL: MCNN_shtechB_34.h5\n"
     ]
    },
    {
     "name": "stderr",
     "output_type": "stream",
     "text": [
      "Train loss: 0.00020426406990736723: : 360it [00:12, 28.52it/s]\n",
      "Train loss: 0.00020377679902594537: : 360it [00:12, 28.58it/s]\n",
      "Train loss: 1.7501081401860574e-06: : 3it [00:00, 29.10it/s]"
     ]
    },
    {
     "name": "stdout",
     "output_type": "stream",
     "text": [
      "EPOCH: 236, MAE: 589.5, MSE: 589.9\n",
      "BEST MAE: 47.5, BEST MSE: 60.0, BEST MODEL: MCNN_shtechB_34.h5\n"
     ]
    },
    {
     "name": "stderr",
     "output_type": "stream",
     "text": [
      "Train loss: 0.00020225787011440843: : 360it [00:12, 28.45it/s]\n",
      "Train loss: 0.00020276660507079214: : 360it [00:12, 28.12it/s]\n",
      "Train loss: 4.528216777544003e-06: : 3it [00:00, 28.01it/s] "
     ]
    },
    {
     "name": "stdout",
     "output_type": "stream",
     "text": [
      "EPOCH: 238, MAE: 577.7, MSE: 578.6\n",
      "BEST MAE: 47.5, BEST MSE: 60.0, BEST MODEL: MCNN_shtechB_34.h5\n"
     ]
    },
    {
     "name": "stderr",
     "output_type": "stream",
     "text": [
      "Train loss: 0.00020310281252022833: : 360it [00:12, 28.47it/s]\n",
      "Train loss: 0.00020518034580163658: : 360it [00:12, 27.84it/s]\n",
      "Train loss: 6.258038069972827e-07: : 3it [00:00, 29.10it/s]"
     ]
    },
    {
     "name": "stdout",
     "output_type": "stream",
     "text": [
      "EPOCH: 240, MAE: 554.8, MSE: 556.2\n",
      "BEST MAE: 47.5, BEST MSE: 60.0, BEST MODEL: MCNN_shtechB_34.h5\n"
     ]
    },
    {
     "name": "stderr",
     "output_type": "stream",
     "text": [
      "Train loss: 0.00020366553508210927: : 360it [00:12, 28.51it/s]\n",
      "Train loss: 0.00020175536337774247: : 360it [00:12, 28.79it/s]\n",
      "Train loss: 9.557245448377216e-07: : 3it [00:00, 29.10it/s]"
     ]
    },
    {
     "name": "stdout",
     "output_type": "stream",
     "text": [
      "EPOCH: 242, MAE: 667.9, MSE: 668.1\n",
      "BEST MAE: 47.5, BEST MSE: 60.0, BEST MODEL: MCNN_shtechB_34.h5\n"
     ]
    },
    {
     "name": "stderr",
     "output_type": "stream",
     "text": [
      "Train loss: 0.00020334729924798012: : 360it [00:12, 28.48it/s]\n",
      "Train loss: 0.00020361162023618817: : 360it [00:13, 26.63it/s]\n",
      "Train loss: 1.589176235938794e-06: : 3it [00:00, 23.42it/s] "
     ]
    },
    {
     "name": "stdout",
     "output_type": "stream",
     "text": [
      "EPOCH: 244, MAE: 590.1, MSE: 590.1\n",
      "BEST MAE: 47.5, BEST MSE: 60.0, BEST MODEL: MCNN_shtechB_34.h5\n"
     ]
    },
    {
     "name": "stderr",
     "output_type": "stream",
     "text": [
      "Train loss: 0.00020277123257983476: : 360it [00:12, 27.80it/s]\n",
      "Train loss: 0.0002020307001657784: : 360it [00:13, 26.37it/s] \n",
      "Train loss: 1.5041841834317893e-06: : 3it [00:00, 25.62it/s]"
     ]
    },
    {
     "name": "stdout",
     "output_type": "stream",
     "text": [
      "EPOCH: 246, MAE: 758.6, MSE: 758.6\n",
      "BEST MAE: 47.5, BEST MSE: 60.0, BEST MODEL: MCNN_shtechB_34.h5\n"
     ]
    },
    {
     "name": "stderr",
     "output_type": "stream",
     "text": [
      "Train loss: 0.00020304156350903213: : 360it [00:14, 25.20it/s]\n",
      "Train loss: 0.00020308321109041572: : 360it [00:13, 27.18it/s]\n",
      "Train loss: 8.495426300214604e-07: : 3it [00:00, 25.19it/s]"
     ]
    },
    {
     "name": "stdout",
     "output_type": "stream",
     "text": [
      "EPOCH: 248, MAE: 682.4, MSE: 682.9\n",
      "BEST MAE: 47.5, BEST MSE: 60.0, BEST MODEL: MCNN_shtechB_34.h5\n"
     ]
    },
    {
     "name": "stderr",
     "output_type": "stream",
     "text": [
      "Train loss: 0.0002031086478382349: : 360it [00:13, 27.66it/s] \n",
      "Train loss: 0.00020577693067025393: : 360it [00:13, 27.50it/s]\n",
      "Train loss: 5.383514576351445e-07: : 3it [00:00, 26.29it/s] "
     ]
    },
    {
     "name": "stdout",
     "output_type": "stream",
     "text": [
      "EPOCH: 250, MAE: 659.5, MSE: 659.5\n",
      "BEST MAE: 47.5, BEST MSE: 60.0, BEST MODEL: MCNN_shtechB_34.h5\n"
     ]
    },
    {
     "name": "stderr",
     "output_type": "stream",
     "text": [
      "Train loss: 0.00020277634030207992: : 360it [00:12, 28.38it/s]\n",
      "Train loss: 0.00020414433674886823: : 360it [00:12, 28.31it/s]\n",
      "Train loss: 6.82744712321437e-07: : 3it [00:00, 25.40it/s] "
     ]
    },
    {
     "name": "stdout",
     "output_type": "stream",
     "text": [
      "EPOCH: 252, MAE: 736.0, MSE: 736.1\n",
      "BEST MAE: 47.5, BEST MSE: 60.0, BEST MODEL: MCNN_shtechB_34.h5\n"
     ]
    },
    {
     "name": "stderr",
     "output_type": "stream",
     "text": [
      "Train loss: 0.00020075362408533692: : 360it [00:12, 28.43it/s]\n",
      "Train loss: 0.00020043610129505396: : 360it [00:13, 27.62it/s]\n",
      "Train loss: 5.652993422700092e-06: : 3it [00:00, 25.40it/s]"
     ]
    },
    {
     "name": "stdout",
     "output_type": "stream",
     "text": [
      "EPOCH: 254, MAE: 604.6, MSE: 605.3\n",
      "BEST MAE: 47.5, BEST MSE: 60.0, BEST MODEL: MCNN_shtechB_34.h5\n"
     ]
    },
    {
     "name": "stderr",
     "output_type": "stream",
     "text": [
      "Train loss: 0.00019991898443549871: : 360it [00:12, 28.38it/s]\n",
      "Train loss: 0.00019973848247900605: : 360it [00:13, 27.06it/s]\n",
      "Train loss: 2.347463350815815e-06: : 3it [00:00, 24.98it/s] "
     ]
    },
    {
     "name": "stdout",
     "output_type": "stream",
     "text": [
      "EPOCH: 256, MAE: 678.5, MSE: 678.5\n",
      "BEST MAE: 47.5, BEST MSE: 60.0, BEST MODEL: MCNN_shtechB_34.h5\n"
     ]
    },
    {
     "name": "stderr",
     "output_type": "stream",
     "text": [
      "Train loss: 0.00020418265194166452: : 360it [00:13, 26.72it/s]\n",
      "Train loss: 0.0002041392435785383: : 360it [00:13, 26.85it/s] \n",
      "Train loss: 1.2688919923675712e-06: : 3it [00:00, 22.71it/s]"
     ]
    },
    {
     "name": "stdout",
     "output_type": "stream",
     "text": [
      "EPOCH: 258, MAE: 716.6, MSE: 717.1\n",
      "BEST MAE: 47.5, BEST MSE: 60.0, BEST MODEL: MCNN_shtechB_34.h5\n"
     ]
    },
    {
     "name": "stderr",
     "output_type": "stream",
     "text": [
      "Train loss: 0.00020310089166741818: : 360it [00:13, 27.07it/s]\n",
      "Train loss: 0.00020028748258482665: : 360it [00:12, 28.19it/s]\n",
      "Train loss: 1.4498680229735328e-06: : 3it [00:00, 27.50it/s]"
     ]
    },
    {
     "name": "stdout",
     "output_type": "stream",
     "text": [
      "EPOCH: 260, MAE: 697.0, MSE: 698.3\n",
      "BEST MAE: 47.5, BEST MSE: 60.0, BEST MODEL: MCNN_shtechB_34.h5\n"
     ]
    },
    {
     "name": "stderr",
     "output_type": "stream",
     "text": [
      "Train loss: 0.00019906589295715094: : 360it [00:12, 27.93it/s]\n",
      "Train loss: 0.00020012234745081514: : 360it [00:12, 27.95it/s]\n",
      "Train loss: 4.469633267945028e-07: : 3it [00:00, 28.82it/s]"
     ]
    },
    {
     "name": "stdout",
     "output_type": "stream",
     "text": [
      "EPOCH: 262, MAE: 689.4, MSE: 689.5\n",
      "BEST MAE: 47.5, BEST MSE: 60.0, BEST MODEL: MCNN_shtechB_34.h5\n"
     ]
    },
    {
     "name": "stderr",
     "output_type": "stream",
     "text": [
      "Train loss: 0.00020029344887007028: : 360it [00:12, 28.17it/s]\n",
      "Train loss: 0.0002032101183431223: : 360it [00:12, 28.42it/s] \n",
      "Train loss: 1.0120065780938603e-06: : 3it [00:00, 28.28it/s]"
     ]
    },
    {
     "name": "stdout",
     "output_type": "stream",
     "text": [
      "EPOCH: 264, MAE: 82.9, MSE: 93.8\n",
      "BEST MAE: 47.5, BEST MSE: 60.0, BEST MODEL: MCNN_shtechB_34.h5\n"
     ]
    },
    {
     "name": "stderr",
     "output_type": "stream",
     "text": [
      "Train loss: 0.00020450942975003272: : 360it [00:12, 28.68it/s]\n",
      "Train loss: 0.00019956626056227833: : 360it [00:13, 26.42it/s]\n",
      "Train loss: 2.9331017685763072e-06: : 3it [00:00, 26.29it/s]"
     ]
    },
    {
     "name": "stdout",
     "output_type": "stream",
     "text": [
      "EPOCH: 266, MAE: 694.1, MSE: 694.5\n",
      "BEST MAE: 47.5, BEST MSE: 60.0, BEST MODEL: MCNN_shtechB_34.h5\n"
     ]
    },
    {
     "name": "stderr",
     "output_type": "stream",
     "text": [
      "Train loss: 0.00019820003944914788: : 360it [00:12, 28.24it/s]\n",
      "Train loss: 0.00019864796195179224: : 360it [00:12, 28.38it/s]\n",
      "Train loss: 2.528520099076559e-06: : 3it [00:00, 27.75it/s] "
     ]
    },
    {
     "name": "stdout",
     "output_type": "stream",
     "text": [
      "EPOCH: 268, MAE: 647.7, MSE: 647.9\n",
      "BEST MAE: 47.5, BEST MSE: 60.0, BEST MODEL: MCNN_shtechB_34.h5\n"
     ]
    },
    {
     "name": "stderr",
     "output_type": "stream",
     "text": [
      "Train loss: 0.00019966026593465358: : 360it [00:12, 28.11it/s]\n",
      "Train loss: 0.00020573457004502416: : 360it [00:13, 27.12it/s]\n",
      "Train loss: 1.7418891502529732e-06: : 3it [00:00, 27.75it/s]"
     ]
    },
    {
     "name": "stdout",
     "output_type": "stream",
     "text": [
      "EPOCH: 270, MAE: 820.3, MSE: 820.9\n",
      "BEST MAE: 47.5, BEST MSE: 60.0, BEST MODEL: MCNN_shtechB_34.h5\n"
     ]
    },
    {
     "name": "stderr",
     "output_type": "stream",
     "text": [
      "Train loss: 0.00020158618281129748: : 360it [00:13, 27.14it/s]\n",
      "Train loss: 0.00019877735758200288: : 360it [00:12, 28.29it/s]\n",
      "Train loss: 1.1709347518262803e-06: : 3it [00:00, 28.01it/s]"
     ]
    },
    {
     "name": "stdout",
     "output_type": "stream",
     "text": [
      "EPOCH: 272, MAE: 585.0, MSE: 585.2\n",
      "BEST MAE: 47.5, BEST MSE: 60.0, BEST MODEL: MCNN_shtechB_34.h5\n"
     ]
    },
    {
     "name": "stderr",
     "output_type": "stream",
     "text": [
      "Train loss: 0.00019765767501667142: : 360it [00:12, 28.17it/s]\n",
      "Train loss: 0.00019706672173924744: : 360it [00:12, 28.51it/s]\n",
      "Train loss: 1.7571494481671834e-07: : 3it [00:00, 27.50it/s]"
     ]
    },
    {
     "name": "stdout",
     "output_type": "stream",
     "text": [
      "EPOCH: 274, MAE: 632.3, MSE: 632.3\n",
      "BEST MAE: 47.5, BEST MSE: 60.0, BEST MODEL: MCNN_shtechB_34.h5\n"
     ]
    },
    {
     "name": "stderr",
     "output_type": "stream",
     "text": [
      "Train loss: 0.00019741253345273435: : 360it [00:12, 27.73it/s]\n",
      "Train loss: 0.00019724313460756093: : 360it [00:12, 27.99it/s]\n",
      "Train loss: 1.2581706414493965e-06: : 3it [00:00, 26.52it/s]"
     ]
    },
    {
     "name": "stdout",
     "output_type": "stream",
     "text": [
      "EPOCH: 276, MAE: 627.4, MSE: 627.4\n",
      "BEST MAE: 47.5, BEST MSE: 60.0, BEST MODEL: MCNN_shtechB_34.h5\n"
     ]
    },
    {
     "name": "stderr",
     "output_type": "stream",
     "text": [
      "Train loss: 0.00020411316654644907: : 360it [00:12, 28.12it/s]\n",
      "Train loss: 0.00020106938609387726: : 360it [00:12, 28.09it/s]\n",
      "Train loss: 4.590906996781996e-07: : 3it [00:00, 29.10it/s]"
     ]
    },
    {
     "name": "stdout",
     "output_type": "stream",
     "text": [
      "EPOCH: 278, MAE: 658.3, MSE: 658.4\n",
      "BEST MAE: 47.5, BEST MSE: 60.0, BEST MODEL: MCNN_shtechB_34.h5\n"
     ]
    },
    {
     "name": "stderr",
     "output_type": "stream",
     "text": [
      "Train loss: 0.00019830590463243425: : 360it [00:12, 28.05it/s]\n",
      "Train loss: 0.0001979429362108931: : 360it [00:12, 27.96it/s] \n",
      "Train loss: 1.7860439811556716e-06: : 3it [00:00, 27.50it/s]"
     ]
    },
    {
     "name": "stdout",
     "output_type": "stream",
     "text": [
      "EPOCH: 280, MAE: 674.3, MSE: 674.3\n",
      "BEST MAE: 47.5, BEST MSE: 60.0, BEST MODEL: MCNN_shtechB_34.h5\n"
     ]
    },
    {
     "name": "stderr",
     "output_type": "stream",
     "text": [
      "Train loss: 0.0001967459247680381: : 360it [00:12, 28.25it/s] \n",
      "Train loss: 0.00020035613852087408: : 360it [00:12, 28.33it/s]\n",
      "Train loss: 4.3459192511363653e-07: : 3it [00:00, 25.84it/s]"
     ]
    },
    {
     "name": "stdout",
     "output_type": "stream",
     "text": [
      "EPOCH: 282, MAE: 682.4, MSE: 682.4\n",
      "BEST MAE: 47.5, BEST MSE: 60.0, BEST MODEL: MCNN_shtechB_34.h5\n"
     ]
    },
    {
     "name": "stderr",
     "output_type": "stream",
     "text": [
      "Train loss: 0.0001982509420486167: : 360it [00:13, 27.08it/s] \n",
      "Train loss: 0.00019667917513288558: : 360it [00:13, 27.37it/s]\n",
      "Train loss: 3.4654337923711864e-06: : 3it [00:00, 26.52it/s]"
     ]
    },
    {
     "name": "stdout",
     "output_type": "stream",
     "text": [
      "EPOCH: 284, MAE: 738.1, MSE: 738.2\n",
      "BEST MAE: 47.5, BEST MSE: 60.0, BEST MODEL: MCNN_shtechB_34.h5\n"
     ]
    },
    {
     "name": "stderr",
     "output_type": "stream",
     "text": [
      "Train loss: 0.0001991798635572195: : 360it [00:12, 28.03it/s] \n",
      "Train loss: 0.0001986927818506956: : 360it [00:13, 27.66it/s] \n",
      "Train loss: 6.64230401525856e-06: : 3it [00:00, 27.00it/s]  "
     ]
    },
    {
     "name": "stdout",
     "output_type": "stream",
     "text": [
      "EPOCH: 286, MAE: 601.3, MSE: 601.4\n",
      "BEST MAE: 47.5, BEST MSE: 60.0, BEST MODEL: MCNN_shtechB_34.h5\n"
     ]
    },
    {
     "name": "stderr",
     "output_type": "stream",
     "text": [
      "Train loss: 0.00019794603576883674: : 360it [00:12, 28.11it/s]\n",
      "Train loss: 0.00020168420451227576: : 360it [00:12, 28.30it/s]\n",
      "Train loss: 4.811953658645507e-06: : 3it [00:00, 27.25it/s]"
     ]
    },
    {
     "name": "stdout",
     "output_type": "stream",
     "text": [
      "EPOCH: 288, MAE: 847.4, MSE: 848.3\n",
      "BEST MAE: 47.5, BEST MSE: 60.0, BEST MODEL: MCNN_shtechB_34.h5\n"
     ]
    },
    {
     "name": "stderr",
     "output_type": "stream",
     "text": [
      "Train loss: 0.00019888681708835065: : 360it [00:12, 27.88it/s]\n",
      "Train loss: 0.0001970771118067205: : 360it [00:12, 28.12it/s] \n",
      "Train loss: 4.771197836817009e-07: : 3it [00:00, 26.29it/s] "
     ]
    },
    {
     "name": "stdout",
     "output_type": "stream",
     "text": [
      "EPOCH: 290, MAE: 692.3, MSE: 692.4\n",
      "BEST MAE: 47.5, BEST MSE: 60.0, BEST MODEL: MCNN_shtechB_34.h5\n"
     ]
    },
    {
     "name": "stderr",
     "output_type": "stream",
     "text": [
      "Train loss: 0.0001977465144591406: : 360it [00:13, 27.64it/s] \n",
      "Train loss: 0.00019790545047726482: : 360it [00:13, 27.68it/s]\n",
      "Train loss: 1.8733660454017809e-06: : 3it [00:00, 28.82it/s]"
     ]
    },
    {
     "name": "stdout",
     "output_type": "stream",
     "text": [
      "EPOCH: 292, MAE: 690.3, MSE: 690.3\n",
      "BEST MAE: 47.5, BEST MSE: 60.0, BEST MODEL: MCNN_shtechB_34.h5\n"
     ]
    },
    {
     "name": "stderr",
     "output_type": "stream",
     "text": [
      "Train loss: 0.00019788190547842532: : 360it [00:12, 27.82it/s]\n",
      "Train loss: 0.00019592548778746277: : 360it [00:12, 27.92it/s]\n",
      "Train loss: 6.256191227294039e-07: : 3it [00:00, 25.40it/s]"
     ]
    },
    {
     "name": "stdout",
     "output_type": "stream",
     "text": [
      "EPOCH: 294, MAE: 712.2, MSE: 712.2\n",
      "BEST MAE: 47.5, BEST MSE: 60.0, BEST MODEL: MCNN_shtechB_34.h5\n"
     ]
    },
    {
     "name": "stderr",
     "output_type": "stream",
     "text": [
      "Train loss: 0.00019560100918170065: : 360it [00:12, 28.03it/s]\n",
      "Train loss: 0.00019630775204859674: : 360it [00:12, 27.82it/s]\n",
      "Train loss: 1.2149944268458057e-05: : 3it [00:00, 26.76it/s]"
     ]
    },
    {
     "name": "stdout",
     "output_type": "stream",
     "text": [
      "EPOCH: 296, MAE: 493.3, MSE: 494.1\n",
      "BEST MAE: 47.5, BEST MSE: 60.0, BEST MODEL: MCNN_shtechB_34.h5\n"
     ]
    },
    {
     "name": "stderr",
     "output_type": "stream",
     "text": [
      "Train loss: 0.00019917915051337332: : 360it [00:13, 27.45it/s]\n",
      "Train loss: 0.0001977819629246369: : 360it [00:12, 28.16it/s] \n",
      "Train loss: 6.935780220373999e-06: : 3it [00:00, 28.01it/s] "
     ]
    },
    {
     "name": "stdout",
     "output_type": "stream",
     "text": [
      "EPOCH: 298, MAE: 794.2, MSE: 794.3\n",
      "BEST MAE: 47.5, BEST MSE: 60.0, BEST MODEL: MCNN_shtechB_34.h5\n"
     ]
    },
    {
     "name": "stderr",
     "output_type": "stream",
     "text": [
      "Train loss: 0.00019712545326910913: : 360it [00:12, 28.10it/s]\n",
      "Train loss: 0.00019589530711527914: : 360it [00:13, 27.53it/s]\n",
      "Train loss: 7.740364935671096e-07: : 3it [00:00, 27.25it/s]"
     ]
    },
    {
     "name": "stdout",
     "output_type": "stream",
     "text": [
      "EPOCH: 300, MAE: 567.6, MSE: 567.6\n",
      "BEST MAE: 47.5, BEST MSE: 60.0, BEST MODEL: MCNN_shtechB_34.h5\n"
     ]
    },
    {
     "name": "stderr",
     "output_type": "stream",
     "text": [
      "Train loss: 0.0001961420348379761: : 360it [00:13, 27.36it/s] \n",
      "Train loss: 0.00019706026068888605: : 360it [00:13, 27.11it/s]\n",
      "Train loss: 5.5869163588795345e-06: : 3it [00:00, 26.06it/s]"
     ]
    },
    {
     "name": "stdout",
     "output_type": "stream",
     "text": [
      "EPOCH: 302, MAE: 505.8, MSE: 505.9\n",
      "BEST MAE: 47.5, BEST MSE: 60.0, BEST MODEL: MCNN_shtechB_34.h5\n"
     ]
    },
    {
     "name": "stderr",
     "output_type": "stream",
     "text": [
      "Train loss: 0.0001963666290976107: : 360it [00:12, 27.96it/s] \n",
      "Train loss: 0.00019614184566307813: : 360it [00:13, 27.56it/s]\n",
      "Train loss: 6.048664090485545e-06: : 3it [00:00, 25.84it/s]"
     ]
    },
    {
     "name": "stdout",
     "output_type": "stream",
     "text": [
      "EPOCH: 304, MAE: 658.9, MSE: 658.9\n",
      "BEST MAE: 47.5, BEST MSE: 60.0, BEST MODEL: MCNN_shtechB_34.h5\n"
     ]
    },
    {
     "name": "stderr",
     "output_type": "stream",
     "text": [
      "Train loss: 0.00019509518460836262: : 360it [00:12, 28.10it/s]\n",
      "Train loss: 0.0001945423719007522: : 360it [00:12, 27.72it/s] \n",
      "Train loss: 3.372875198692782e-06: : 3it [00:00, 25.62it/s]"
     ]
    },
    {
     "name": "stdout",
     "output_type": "stream",
     "text": [
      "EPOCH: 306, MAE: 641.0, MSE: 641.0\n",
      "BEST MAE: 47.5, BEST MSE: 60.0, BEST MODEL: MCNN_shtechB_34.h5\n"
     ]
    },
    {
     "name": "stderr",
     "output_type": "stream",
     "text": [
      "Train loss: 0.00019429565872997046: : 360it [00:12, 28.05it/s]\n",
      "Train loss: 0.00019461878400761634: : 360it [00:12, 28.02it/s]\n",
      "Train loss: 1.2355953913356643e-06: : 3it [00:00, 28.55it/s]"
     ]
    },
    {
     "name": "stdout",
     "output_type": "stream",
     "text": [
      "EPOCH: 308, MAE: 613.3, MSE: 613.4\n",
      "BEST MAE: 47.5, BEST MSE: 60.0, BEST MODEL: MCNN_shtechB_34.h5\n"
     ]
    },
    {
     "name": "stderr",
     "output_type": "stream",
     "text": [
      "Train loss: 0.00019761484873015434: : 360it [00:12, 27.76it/s]\n",
      "Train loss: 0.00020028025028295815: : 360it [00:12, 28.02it/s]\n",
      "Train loss: 5.890354259463493e-06: : 3it [00:00, 28.55it/s]"
     ]
    },
    {
     "name": "stdout",
     "output_type": "stream",
     "text": [
      "EPOCH: 310, MAE: 782.6, MSE: 782.7\n",
      "BEST MAE: 47.5, BEST MSE: 60.0, BEST MODEL: MCNN_shtechB_34.h5\n"
     ]
    },
    {
     "name": "stderr",
     "output_type": "stream",
     "text": [
      "Train loss: 0.00019426461949478835: : 360it [00:13, 27.66it/s]\n",
      "Train loss: 0.00019402719044592232: : 360it [00:13, 27.66it/s]\n",
      "Train loss: 1.2704235814453568e-06: : 3it [00:00, 28.28it/s]"
     ]
    },
    {
     "name": "stdout",
     "output_type": "stream",
     "text": [
      "EPOCH: 312, MAE: 709.1, MSE: 709.1\n",
      "BEST MAE: 47.5, BEST MSE: 60.0, BEST MODEL: MCNN_shtechB_34.h5\n"
     ]
    },
    {
     "name": "stderr",
     "output_type": "stream",
     "text": [
      "Train loss: 0.00019759050337597728: : 360it [00:13, 27.63it/s]\n",
      "Train loss: 0.00019552050798665732: : 360it [00:13, 27.23it/s]\n",
      "Train loss: 7.033468136796728e-07: : 3it [00:00, 25.40it/s]"
     ]
    },
    {
     "name": "stdout",
     "output_type": "stream",
     "text": [
      "EPOCH: 314, MAE: 643.5, MSE: 643.6\n",
      "BEST MAE: 47.5, BEST MSE: 60.0, BEST MODEL: MCNN_shtechB_34.h5\n"
     ]
    },
    {
     "name": "stderr",
     "output_type": "stream",
     "text": [
      "Train loss: 0.00019599821825977415: : 360it [00:12, 28.20it/s]\n",
      "Train loss: 0.00019425612117629498: : 360it [00:12, 28.19it/s]\n",
      "Train loss: 1.2705372682830784e-06: : 3it [00:00, 26.71it/s]"
     ]
    },
    {
     "name": "stdout",
     "output_type": "stream",
     "text": [
      "EPOCH: 316, MAE: 587.2, MSE: 587.2\n",
      "BEST MAE: 47.5, BEST MSE: 60.0, BEST MODEL: MCNN_shtechB_34.h5\n"
     ]
    },
    {
     "name": "stderr",
     "output_type": "stream",
     "text": [
      "Train loss: 0.00019533374870661646: : 360it [00:13, 27.64it/s]\n",
      "Train loss: 0.00019481807248666883: : 360it [00:12, 29.07it/s]\n",
      "Train loss: 5.767941502199392e-07: : 3it [00:00, 27.00it/s]"
     ]
    },
    {
     "name": "stdout",
     "output_type": "stream",
     "text": [
      "EPOCH: 318, MAE: 652.7, MSE: 652.8\n",
      "BEST MAE: 47.5, BEST MSE: 60.0, BEST MODEL: MCNN_shtechB_34.h5\n"
     ]
    },
    {
     "name": "stderr",
     "output_type": "stream",
     "text": [
      "Train loss: 0.00019439526658970863: : 360it [00:12, 28.30it/s]\n",
      "Train loss: 0.00019820791203528643: : 360it [00:12, 28.34it/s]\n",
      "Train loss: 3.536772965162527e-06: : 3it [00:00, 27.11it/s] "
     ]
    },
    {
     "name": "stdout",
     "output_type": "stream",
     "text": [
      "EPOCH: 320, MAE: 645.2, MSE: 645.3\n",
      "BEST MAE: 47.5, BEST MSE: 60.0, BEST MODEL: MCNN_shtechB_34.h5\n"
     ]
    },
    {
     "name": "stderr",
     "output_type": "stream",
     "text": [
      "Train loss: 0.00019610147865023464: : 360it [00:12, 28.23it/s]\n",
      "Train loss: 0.0002013265184359625: : 360it [00:12, 28.22it/s] \n",
      "Train loss: 4.645297337901866e-07: : 3it [00:00, 27.50it/s]"
     ]
    },
    {
     "name": "stdout",
     "output_type": "stream",
     "text": [
      "EPOCH: 322, MAE: 666.0, MSE: 666.0\n",
      "BEST MAE: 47.5, BEST MSE: 60.0, BEST MODEL: MCNN_shtechB_34.h5\n"
     ]
    },
    {
     "name": "stderr",
     "output_type": "stream",
     "text": [
      "Train loss: 0.00013852912525180727: : 239it [00:08, 28.31it/s]\n"
     ]
    },
    {
     "ename": "KeyboardInterrupt",
     "evalue": "",
     "output_type": "error",
     "traceback": [
      "\u001b[1;31m---------------------------------------------------------------------------\u001b[0m",
      "\u001b[1;31mKeyboardInterrupt\u001b[0m                         Traceback (most recent call last)",
      "\u001b[1;32m<ipython-input-10-710cbb6fb59d>\u001b[0m in \u001b[0;36m<module>\u001b[1;34m\u001b[0m\n\u001b[0;32m     26\u001b[0m         \u001b[0moptimizer\u001b[0m\u001b[1;33m.\u001b[0m\u001b[0mzero_grad\u001b[0m\u001b[1;33m(\u001b[0m\u001b[1;33m)\u001b[0m\u001b[1;33m\u001b[0m\u001b[1;33m\u001b[0m\u001b[0m\n\u001b[0;32m     27\u001b[0m         \u001b[0mloss\u001b[0m\u001b[1;33m.\u001b[0m\u001b[0mbackward\u001b[0m\u001b[1;33m(\u001b[0m\u001b[1;33m)\u001b[0m\u001b[1;33m\u001b[0m\u001b[1;33m\u001b[0m\u001b[0m\n\u001b[1;32m---> 28\u001b[1;33m         \u001b[0moptimizer\u001b[0m\u001b[1;33m.\u001b[0m\u001b[0mstep\u001b[0m\u001b[1;33m(\u001b[0m\u001b[1;33m)\u001b[0m\u001b[1;33m\u001b[0m\u001b[1;33m\u001b[0m\u001b[0m\n\u001b[0m\u001b[0;32m     29\u001b[0m \u001b[1;33m\u001b[0m\u001b[0m\n\u001b[0;32m     30\u001b[0m         \u001b[1;32mif\u001b[0m \u001b[0mstep\u001b[0m \u001b[1;33m%\u001b[0m \u001b[0mdisp_interval\u001b[0m \u001b[1;33m==\u001b[0m \u001b[1;36m0\u001b[0m\u001b[1;33m:\u001b[0m\u001b[1;33m\u001b[0m\u001b[1;33m\u001b[0m\u001b[0m\n",
      "\u001b[1;32mc:\\python38\\lib\\site-packages\\torch\\autograd\\grad_mode.py\u001b[0m in \u001b[0;36mdecorate_context\u001b[1;34m(*args, **kwargs)\u001b[0m\n\u001b[0;32m     13\u001b[0m         \u001b[1;32mdef\u001b[0m \u001b[0mdecorate_context\u001b[0m\u001b[1;33m(\u001b[0m\u001b[1;33m*\u001b[0m\u001b[0margs\u001b[0m\u001b[1;33m,\u001b[0m \u001b[1;33m**\u001b[0m\u001b[0mkwargs\u001b[0m\u001b[1;33m)\u001b[0m\u001b[1;33m:\u001b[0m\u001b[1;33m\u001b[0m\u001b[1;33m\u001b[0m\u001b[0m\n\u001b[0;32m     14\u001b[0m             \u001b[1;32mwith\u001b[0m \u001b[0mself\u001b[0m\u001b[1;33m:\u001b[0m\u001b[1;33m\u001b[0m\u001b[1;33m\u001b[0m\u001b[0m\n\u001b[1;32m---> 15\u001b[1;33m                 \u001b[1;32mreturn\u001b[0m \u001b[0mfunc\u001b[0m\u001b[1;33m(\u001b[0m\u001b[1;33m*\u001b[0m\u001b[0margs\u001b[0m\u001b[1;33m,\u001b[0m \u001b[1;33m**\u001b[0m\u001b[0mkwargs\u001b[0m\u001b[1;33m)\u001b[0m\u001b[1;33m\u001b[0m\u001b[1;33m\u001b[0m\u001b[0m\n\u001b[0m\u001b[0;32m     16\u001b[0m         \u001b[1;32mreturn\u001b[0m \u001b[0mdecorate_context\u001b[0m\u001b[1;33m\u001b[0m\u001b[1;33m\u001b[0m\u001b[0m\n\u001b[0;32m     17\u001b[0m \u001b[1;33m\u001b[0m\u001b[0m\n",
      "\u001b[1;32mc:\\python38\\lib\\site-packages\\torch\\optim\\adam.py\u001b[0m in \u001b[0;36mstep\u001b[1;34m(self, closure)\u001b[0m\n\u001b[0;32m    105\u001b[0m                     \u001b[0mdenom\u001b[0m \u001b[1;33m=\u001b[0m \u001b[1;33m(\u001b[0m\u001b[0mmax_exp_avg_sq\u001b[0m\u001b[1;33m.\u001b[0m\u001b[0msqrt\u001b[0m\u001b[1;33m(\u001b[0m\u001b[1;33m)\u001b[0m \u001b[1;33m/\u001b[0m \u001b[0mmath\u001b[0m\u001b[1;33m.\u001b[0m\u001b[0msqrt\u001b[0m\u001b[1;33m(\u001b[0m\u001b[0mbias_correction2\u001b[0m\u001b[1;33m)\u001b[0m\u001b[1;33m)\u001b[0m\u001b[1;33m.\u001b[0m\u001b[0madd_\u001b[0m\u001b[1;33m(\u001b[0m\u001b[0mgroup\u001b[0m\u001b[1;33m[\u001b[0m\u001b[1;34m'eps'\u001b[0m\u001b[1;33m]\u001b[0m\u001b[1;33m)\u001b[0m\u001b[1;33m\u001b[0m\u001b[1;33m\u001b[0m\u001b[0m\n\u001b[0;32m    106\u001b[0m                 \u001b[1;32melse\u001b[0m\u001b[1;33m:\u001b[0m\u001b[1;33m\u001b[0m\u001b[1;33m\u001b[0m\u001b[0m\n\u001b[1;32m--> 107\u001b[1;33m                     \u001b[0mdenom\u001b[0m \u001b[1;33m=\u001b[0m \u001b[1;33m(\u001b[0m\u001b[0mexp_avg_sq\u001b[0m\u001b[1;33m.\u001b[0m\u001b[0msqrt\u001b[0m\u001b[1;33m(\u001b[0m\u001b[1;33m)\u001b[0m \u001b[1;33m/\u001b[0m \u001b[0mmath\u001b[0m\u001b[1;33m.\u001b[0m\u001b[0msqrt\u001b[0m\u001b[1;33m(\u001b[0m\u001b[0mbias_correction2\u001b[0m\u001b[1;33m)\u001b[0m\u001b[1;33m)\u001b[0m\u001b[1;33m.\u001b[0m\u001b[0madd_\u001b[0m\u001b[1;33m(\u001b[0m\u001b[0mgroup\u001b[0m\u001b[1;33m[\u001b[0m\u001b[1;34m'eps'\u001b[0m\u001b[1;33m]\u001b[0m\u001b[1;33m)\u001b[0m\u001b[1;33m\u001b[0m\u001b[1;33m\u001b[0m\u001b[0m\n\u001b[0m\u001b[0;32m    108\u001b[0m \u001b[1;33m\u001b[0m\u001b[0m\n\u001b[0;32m    109\u001b[0m                 \u001b[0mstep_size\u001b[0m \u001b[1;33m=\u001b[0m \u001b[0mgroup\u001b[0m\u001b[1;33m[\u001b[0m\u001b[1;34m'lr'\u001b[0m\u001b[1;33m]\u001b[0m \u001b[1;33m/\u001b[0m \u001b[0mbias_correction1\u001b[0m\u001b[1;33m\u001b[0m\u001b[1;33m\u001b[0m\u001b[0m\n",
      "\u001b[1;31mKeyboardInterrupt\u001b[0m: "
     ]
    }
   ],
   "source": [
    "import sys\n",
    "from tqdm import tqdm\n",
    "\n",
    "# training\n",
    "train_loss = 0\n",
    "step_cnt = 0\n",
    "best_mae = sys.maxsize * 2 + 1\n",
    "method = 'MCNN'\n",
    "dataset_name = 'shtechB'\n",
    "\n",
    "for epoch in range(start_step, end_step+1):    \n",
    "    step = -1\n",
    "    train_loss = 0\n",
    "    run = tqdm(enumerate(data_loader, 0))\n",
    "    for i, blob in run:                \n",
    "        step += 1\n",
    "        im_data = blob['data'].numpy()\n",
    "        im_data = np.expand_dims(im_data, 1) \n",
    "        gt_data = blob['gt_density'].numpy()\n",
    "        gt_data = np.expand_dims(gt_data, 1)\n",
    "        #print(np.sum(gt_data))\n",
    "        density_map = net(im_data, gt_data)\n",
    "        loss = net.loss\n",
    "        train_loss += loss.data\n",
    "        step_cnt += 1\n",
    "        optimizer.zero_grad()\n",
    "        loss.backward()\n",
    "        optimizer.step()\n",
    "        \n",
    "        if step % disp_interval == 0:            \n",
    "            gt_count = np.sum(gt_data)\n",
    "            density_map = density_map.data.cpu().numpy()\n",
    "            et_count = np.sum(density_map)\n",
    "            #print('Crowd count(et, gt):', et_count, gt_count)\n",
    "            save_results(im_data,gt_data,density_map, output_dir)\n",
    "            \n",
    "        run.set_description(\"Train loss: {}\".format(train_loss))\n",
    "        run.refresh() # to show immediately the update\n",
    "    \n",
    "    data_loader = iter(trainloader)\n",
    "    if (epoch % 2 == 0):\n",
    "        save_name = os.path.join(output_dir, '{}_{}_{}.h5'.format(method,dataset_name,epoch))\n",
    "        save_net(save_name, net)     \n",
    "        #calculate error on the validation dataset \n",
    "        mae,mse = evaluate_model(save_name, data_loader_val)\n",
    "        data_loader_val = iter(trainloader_val)\n",
    "        if mae < best_mae:\n",
    "            best_mae = mae\n",
    "            best_mse = mse\n",
    "            best_model = '{}_{}_{}.h5'.format(method,dataset_name,epoch)\n",
    "        log_text = 'EPOCH: %d, MAE: %.1f, MSE: %0.1f' % (epoch,mae,mse)\n",
    "        print(log_text)\n",
    "        log_text = 'BEST MAE: %0.1f, BEST MSE: %0.1f, BEST MODEL: %s' % (best_mae,best_mse, best_model)\n",
    "        print(log_text)"
   ]
  },
  {
   "cell_type": "code",
   "execution_count": null,
   "metadata": {},
   "outputs": [],
   "source": []
  }
 ],
 "metadata": {
  "kernelspec": {
   "display_name": "Python 3",
   "language": "python",
   "name": "python3"
  },
  "language_info": {
   "codemirror_mode": {
    "name": "ipython",
    "version": 3
   },
   "file_extension": ".py",
   "mimetype": "text/x-python",
   "name": "python",
   "nbconvert_exporter": "python",
   "pygments_lexer": "ipython3",
   "version": "3.8.2"
  }
 },
 "nbformat": 4,
 "nbformat_minor": 4
}
