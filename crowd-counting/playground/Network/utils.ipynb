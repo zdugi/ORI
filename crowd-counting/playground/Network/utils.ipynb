{
 "cells": [
  {
   "cell_type": "code",
   "execution_count": 1,
   "metadata": {},
   "outputs": [],
   "source": [
    "import cv2\n",
    "import numpy as np\n",
    "import os\n",
    "\n",
    "def save_results(input_img, gt_data,density_map,output_dir, fname='results.png'):\n",
    "    input_img = input_img[0][0]\n",
    "    gt_data = 255*gt_data/np.max(gt_data)\n",
    "    density_map = 255*density_map/np.max(density_map)\n",
    "    gt_data = gt_data[0][0]\n",
    "    density_map= density_map[0][0]\n",
    "    if density_map.shape[1] != input_img.shape[1]:\n",
    "        density_map = cv2.resize(density_map, (input_img.shape[1],input_img.shape[0]))\n",
    "        gt_data = cv2.resize(gt_data, (input_img.shape[1],input_img.shape[0]))\n",
    "    result_img = np.hstack((input_img,gt_data,density_map))\n",
    "    cv2.imwrite(os.path.join(output_dir,fname),result_img)\n",
    "    \n",
    "\n",
    "def save_density_map(density_map,output_dir, fname='results.png'):    \n",
    "    density_map = 255*density_map/np.max(density_map)\n",
    "    density_map= density_map[0][0]\n",
    "    cv2.imwrite(os.path.join(output_dir,fname),density_map)\n",
    "    \n",
    "def display_results(input_img, gt_data,density_map):\n",
    "    input_img = input_img[0][0]\n",
    "    gt_data = 255*gt_data/np.max(gt_data)\n",
    "    density_map = 255*density_map/np.max(density_map)\n",
    "    gt_data = gt_data[0][0]\n",
    "    density_map= density_map[0][0]\n",
    "    if density_map.shape[1] != input_img.shape[1]:\n",
    "         input_img = cv2.resize(input_img, (density_map.shape[1],density_map.shape[0]))\n",
    "    result_img = np.hstack((input_img,gt_data,density_map))\n",
    "    result_img  = result_img.astype(np.uint8, copy=False)\n",
    "    cv2.imshow('Result', result_img)\n",
    "    cv2.waitKey(0)"
   ]
  },
  {
   "cell_type": "code",
   "execution_count": null,
   "metadata": {},
   "outputs": [],
   "source": []
  }
 ],
 "metadata": {
  "kernelspec": {
   "display_name": "Python 3",
   "language": "python",
   "name": "python3"
  },
  "language_info": {
   "codemirror_mode": {
    "name": "ipython",
    "version": 3
   },
   "file_extension": ".py",
   "mimetype": "text/x-python",
   "name": "python",
   "nbconvert_exporter": "python",
   "pygments_lexer": "ipython3",
   "version": "3.8.2"
  }
 },
 "nbformat": 4,
 "nbformat_minor": 4
}
