{
 "cells": [
  {
   "cell_type": "code",
   "execution_count": 1,
   "metadata": {},
   "outputs": [
    {
     "name": "stdout",
     "output_type": "stream",
     "text": [
      "Looking in links: https://download.pytorch.org/whl/torch_stable.htmlNote: you may need to restart the kernel to use updated packages.\n",
      "Requirement already satisfied: torch===1.5.1 in c:\\python38\\lib\\site-packages (1.5.1)\n",
      "Requirement already satisfied: torchvision===0.6.1 in c:\\python38\\lib\\site-packages (0.6.1)\n",
      "Requirement already satisfied: ipywidgets in c:\\python38\\lib\\site-packages (7.5.1)\n",
      "Requirement already satisfied: numpy in c:\\python38\\lib\\site-packages (1.19.0)\n",
      "Requirement already satisfied: matplotlib in c:\\python38\\lib\\site-packages (3.2.2)\n",
      "Requirement already satisfied: future in c:\\python38\\lib\\site-packages (from torch===1.5.1) (0.18.2)\n",
      "Requirement already satisfied: pillow>=4.1.1 in c:\\python38\\lib\\site-packages (from torchvision===0.6.1) (7.2.0)\n",
      "Requirement already satisfied: traitlets>=4.3.1 in c:\\python38\\lib\\site-packages (from ipywidgets) (4.3.3)\n",
      "Requirement already satisfied: nbformat>=4.2.0 in c:\\python38\\lib\\site-packages (from ipywidgets) (5.0.7)\n",
      "Requirement already satisfied: ipykernel>=4.5.1 in c:\\python38\\lib\\site-packages (from ipywidgets) (5.3.0)\n",
      "Requirement already satisfied: widgetsnbextension~=3.5.0 in c:\\python38\\lib\\site-packages (from ipywidgets) (3.5.1)\n",
      "Requirement already satisfied: ipython>=4.0.0; python_version >= \"3.3\" in c:\\python38\\lib\\site-packages (from ipywidgets) (7.16.1)\n",
      "Requirement already satisfied: pyparsing!=2.0.4,!=2.1.2,!=2.1.6,>=2.0.1 in c:\\python38\\lib\\site-packages (from matplotlib) (2.4.7)\n",
      "Requirement already satisfied: cycler>=0.10 in c:\\python38\\lib\\site-packages (from matplotlib) (0.10.0)\n",
      "Requirement already satisfied: kiwisolver>=1.0.1 in c:\\python38\\lib\\site-packages (from matplotlib) (1.2.0)\n",
      "Requirement already satisfied: python-dateutil>=2.1 in c:\\python38\\lib\\site-packages (from matplotlib) (2.8.1)\n",
      "Requirement already satisfied: decorator in c:\\python38\\lib\\site-packages (from traitlets>=4.3.1->ipywidgets) (4.4.2)\n",
      "Requirement already satisfied: six in c:\\python38\\lib\\site-packages (from traitlets>=4.3.1->ipywidgets) (1.15.0)\n",
      "Requirement already satisfied: ipython-genutils in c:\\python38\\lib\\site-packages (from traitlets>=4.3.1->ipywidgets) (0.2.0)\n",
      "Requirement already satisfied: jsonschema!=2.5.0,>=2.4 in c:\\python38\\lib\\site-packages (from nbformat>=4.2.0->ipywidgets) (3.2.0)\n",
      "Requirement already satisfied: jupyter-core in c:\\python38\\lib\\site-packages (from nbformat>=4.2.0->ipywidgets) (4.6.3)\n",
      "Requirement already satisfied: jupyter-client in c:\\python38\\lib\\site-packages (from ipykernel>=4.5.1->ipywidgets) (6.1.5)\n",
      "Requirement already satisfied: tornado>=4.2 in c:\\python38\\lib\\site-packages (from ipykernel>=4.5.1->ipywidgets) (6.0.4)\n",
      "Requirement already satisfied: notebook>=4.4.1 in c:\\python38\\lib\\site-packages (from widgetsnbextension~=3.5.0->ipywidgets) (6.0.3)\n",
      "Requirement already satisfied: backcall in c:\\python38\\lib\\site-packages (from ipython>=4.0.0; python_version >= \"3.3\"->ipywidgets) (0.2.0)\n",
      "Requirement already satisfied: pygments in c:\\python38\\lib\\site-packages (from ipython>=4.0.0; python_version >= \"3.3\"->ipywidgets) (2.6.1)\n",
      "Requirement already satisfied: pickleshare in c:\\python38\\lib\\site-packages (from ipython>=4.0.0; python_version >= \"3.3\"->ipywidgets) (0.7.5)\n",
      "Requirement already satisfied: prompt-toolkit!=3.0.0,!=3.0.1,<3.1.0,>=2.0.0 in c:\\python38\\lib\\site-packages (from ipython>=4.0.0; python_version >= \"3.3\"->ipywidgets) (3.0.5)\n",
      "Requirement already satisfied: colorama; sys_platform == \"win32\" in c:\\python38\\lib\\site-packages (from ipython>=4.0.0; python_version >= \"3.3\"->ipywidgets) (0.4.3)\n",
      "Requirement already satisfied: jedi>=0.10 in c:\\python38\\lib\\site-packages (from ipython>=4.0.0; python_version >= \"3.3\"->ipywidgets) (0.17.1)\n",
      "Requirement already satisfied: setuptools>=18.5 in c:\\python38\\lib\\site-packages (from ipython>=4.0.0; python_version >= \"3.3\"->ipywidgets) (41.2.0)\n",
      "Requirement already satisfied: attrs>=17.4.0 in c:\\python38\\lib\\site-packages (from jsonschema!=2.5.0,>=2.4->nbformat>=4.2.0->ipywidgets) (19.3.0)\n",
      "Requirement already satisfied: pyrsistent>=0.14.0 in c:\\python38\\lib\\site-packages (from jsonschema!=2.5.0,>=2.4->nbformat>=4.2.0->ipywidgets) (0.16.0)\n",
      "Requirement already satisfied: pywin32>=1.0; sys_platform == \"win32\" in c:\\python38\\lib\\site-packages (from jupyter-core->nbformat>=4.2.0->ipywidgets) (228)\n",
      "Requirement already satisfied: pyzmq>=13 in c:\\python38\\lib\\site-packages (from jupyter-client->ipykernel>=4.5.1->ipywidgets) (19.0.1)\n",
      "Requirement already satisfied: jinja2 in c:\\python38\\lib\\site-packages (from notebook>=4.4.1->widgetsnbextension~=3.5.0->ipywidgets) (2.11.2)\n",
      "Requirement already satisfied: terminado>=0.8.1 in c:\\python38\\lib\\site-packages (from notebook>=4.4.1->widgetsnbextension~=3.5.0->ipywidgets) (0.8.3)\n",
      "Requirement already satisfied: nbconvert in c:\\python38\\lib\\site-packages (from notebook>=4.4.1->widgetsnbextension~=3.5.0->ipywidgets) (5.6.1)\n",
      "Requirement already satisfied: Send2Trash in c:\\python38\\lib\\site-packages (from notebook>=4.4.1->widgetsnbextension~=3.5.0->ipywidgets) (1.5.0)\n",
      "Requirement already satisfied: prometheus-client in c:\\python38\\lib\\site-packages (from notebook>=4.4.1->widgetsnbextension~=3.5.0->ipywidgets) (0.8.0)\n",
      "Requirement already satisfied: wcwidth in c:\\python38\\lib\\site-packages (from prompt-toolkit!=3.0.0,!=3.0.1,<3.1.0,>=2.0.0->ipython>=4.0.0; python_version >= \"3.3\"->ipywidgets) (0.2.5)\n",
      "Requirement already satisfied: parso<0.8.0,>=0.7.0 in c:\\python38\\lib\\site-packages (from jedi>=0.10->ipython>=4.0.0; python_version >= \"3.3\"->ipywidgets) (0.7.0)\n",
      "Requirement already satisfied: MarkupSafe>=0.23 in c:\\python38\\lib\\site-packages (from jinja2->notebook>=4.4.1->widgetsnbextension~=3.5.0->ipywidgets) (1.1.1)\n",
      "Requirement already satisfied: pywinpty>=0.5; os_name == \"nt\" in c:\\python38\\lib\\site-packages (from terminado>=0.8.1->notebook>=4.4.1->widgetsnbextension~=3.5.0->ipywidgets) (0.5.7)\n",
      "Requirement already satisfied: mistune<2,>=0.8.1 in c:\\python38\\lib\\site-packages (from nbconvert->notebook>=4.4.1->widgetsnbextension~=3.5.0->ipywidgets) (0.8.4)\n",
      "Requirement already satisfied: defusedxml in c:\\python38\\lib\\site-packages (from nbconvert->notebook>=4.4.1->widgetsnbextension~=3.5.0->ipywidgets) (0.6.0)\n",
      "Requirement already satisfied: entrypoints>=0.2.2 in c:\\python38\\lib\\site-packages (from nbconvert->notebook>=4.4.1->widgetsnbextension~=3.5.0->ipywidgets) (0.3)\n",
      "Requirement already satisfied: bleach in c:\\python38\\lib\\site-packages (from nbconvert->notebook>=4.4.1->widgetsnbextension~=3.5.0->ipywidgets) (3.1.5)\n",
      "Requirement already satisfied: testpath in c:\\python38\\lib\\site-packages (from nbconvert->notebook>=4.4.1->widgetsnbextension~=3.5.0->ipywidgets) (0.4.4)\n",
      "Requirement already satisfied: pandocfilters>=1.4.1 in c:\\python38\\lib\\site-packages (from nbconvert->notebook>=4.4.1->widgetsnbextension~=3.5.0->ipywidgets) (1.4.2)\n",
      "Requirement already satisfied: packaging in c:\\python38\\lib\\site-packages (from bleach->nbconvert->notebook>=4.4.1->widgetsnbextension~=3.5.0->ipywidgets) (20.4)\n",
      "Requirement already satisfied: webencodings in c:\\python38\\lib\\site-packages (from bleach->nbconvert->notebook>=4.4.1->widgetsnbextension~=3.5.0->ipywidgets) (0.5.1)\n",
      "\n"
     ]
    }
   ],
   "source": [
    "%run network.ipynb"
   ]
  },
  {
   "cell_type": "code",
   "execution_count": 2,
   "metadata": {},
   "outputs": [],
   "source": [
    "%run data_loader.ipynb"
   ]
  },
  {
   "cell_type": "code",
   "execution_count": 3,
   "metadata": {},
   "outputs": [],
   "source": [
    "%run utils.ipynb"
   ]
  },
  {
   "cell_type": "code",
   "execution_count": 4,
   "metadata": {},
   "outputs": [],
   "source": [
    "import torch.nn as nn\n",
    "\n",
    "class CrowdCounter(nn.Module):\n",
    "    def __init__(self):\n",
    "        super(CrowdCounter, self).__init__()        \n",
    "        self.DME = MCNN()        \n",
    "        self.loss_fn = nn.MSELoss()\n",
    "        \n",
    "    @property\n",
    "    def loss(self):\n",
    "        return self.loss_mse\n",
    "    \n",
    "    def forward(self,  im_data, gt_data=None):        \n",
    "        im_data = np_to_variable(im_data, is_cuda=True, is_training=self.training)   \n",
    "        density_map = self.DME(im_data)\n",
    "        \n",
    "        if self.training:                        \n",
    "            gt_data = np_to_variable(gt_data, is_cuda=True, is_training=self.training)            \n",
    "            self.loss_mse = self.build_loss(density_map, gt_data)\n",
    "            \n",
    "        return density_map\n",
    "    \n",
    "    def build_loss(self, density_map, gt_data):\n",
    "        loss = self.loss_fn(density_map, gt_data)\n",
    "        return loss"
   ]
  },
  {
   "cell_type": "code",
   "execution_count": 5,
   "metadata": {},
   "outputs": [],
   "source": [
    "def evaluate_model(trained_model, data_loader):\n",
    "    net = CrowdCounter()\n",
    "    load_net(trained_model, net)\n",
    "    net.cuda()\n",
    "    net.eval()\n",
    "    mae = 0.0\n",
    "    mse = 0.0\n",
    "    for blob in data_loader:                        \n",
    "        im_data = blob['data'].numpy()\n",
    "        im_data = np.expand_dims(im_data, 1) \n",
    "        gt_data = blob['gt_density'].numpy()\n",
    "        gt_data = np.expand_dims(gt_data, 1)\n",
    "        density_map = net(im_data, gt_data)\n",
    "        density_map = density_map.data.cpu().numpy()\n",
    "        gt_count = np.sum(gt_data)\n",
    "        et_count = np.sum(density_map)\n",
    "        mae += abs(gt_count-et_count)\n",
    "        mse += ((gt_count-et_count)*(gt_count-et_count))        \n",
    "    mae = mae/len(data_loader)\n",
    "    mse = np.sqrt(mse/len(data_loader))\n",
    "    return mae,mse"
   ]
  },
  {
   "cell_type": "code",
   "execution_count": 6,
   "metadata": {},
   "outputs": [],
   "source": [
    "output_dir = '../saved_models/'\n",
    "train_path = '../ShanghaiTech/ShanghaiTech/part_B/train_data/shanghaitech_part_B_patches_9/train/'\n",
    "train_gt_path = '../ShanghaiTech/ShanghaiTech/part_B/train_data/shanghaitech_part_B_patches_9/train_den/'\n",
    "val_path = '../ShanghaiTech/ShanghaiTech/part_B/train_data/shanghaitech_part_B_patches_9/val/'\n",
    "val_gt_path = '../ShanghaiTech/ShanghaiTech/part_B/train_data/shanghaitech_part_B_patches_9/val_den/'\n",
    "\n",
    "image_paths = os.listdir(train_path)\n",
    "\n",
    "for i in range(len(image_paths)):\n",
    "    image_paths[i] = train_path + image_paths[i]\n",
    "\n",
    "target_paths = os.listdir(train_gt_path)\n",
    "\n",
    "for i in range(len(target_paths)):\n",
    "    target_paths[i] = train_gt_path + target_paths[i]\n",
    "    \n",
    "image_paths_val = os.listdir(val_path)\n",
    "\n",
    "for i in range(len(image_paths_val)):\n",
    "    image_paths_val[i] = val_path + image_paths_val[i]\n",
    "\n",
    "target_paths_val = os.listdir(val_gt_path)\n",
    "\n",
    "for i in range(len(target_paths_val)):\n",
    "    target_paths_val[i] = val_gt_path + target_paths_val[i]\n",
    "\n"
   ]
  },
  {
   "cell_type": "code",
   "execution_count": 7,
   "metadata": {},
   "outputs": [],
   "source": [
    "#data_loader = ImageDataLoader(train_path, train_gt_path, shuffle=True, gt_downsample=True, pre_load=True)\n",
    "#data_loader_val = ImageDataLoader(val_path, val_gt_path, shuffle=False, gt_downsample=True, pre_load=True)\n",
    "\n",
    "transform = transforms.Compose(\n",
    "    [\n",
    "    #transforms.Resize((256, 172), interpolation=2),\n",
    "    transforms.ToTensor(),\n",
    "     #transforms.CenterCrop(10),\n",
    "    #transforms.Normalize((.5, .5), (.5, .5))\n",
    "    ]\n",
    ")\n",
    "\n",
    "trainset = MyDataset(image_paths, target_paths)\n",
    "trainloader = torch.utils.data.DataLoader(trainset, batch_size=70, shuffle=True, num_workers=0)\n",
    "\n",
    "trainset_val = MyDataset(image_paths_val, target_paths_val)\n",
    "trainloader_val = torch.utils.data.DataLoader(trainset_val, batch_size=50, shuffle=False, num_workers=0)\n",
    "\n",
    "data_loader = iter(trainloader)\n",
    "data_loader_val = iter(trainloader_val)\n"
   ]
  },
  {
   "cell_type": "code",
   "execution_count": 8,
   "metadata": {},
   "outputs": [],
   "source": [
    "start_step = 0\n",
    "end_step = 500\n",
    "lr = 0.00001\n",
    "momentum = 0.9\n",
    "disp_interval = 500\n",
    "log_interval = 250"
   ]
  },
  {
   "cell_type": "code",
   "execution_count": 9,
   "metadata": {},
   "outputs": [],
   "source": [
    "rand_seed = 64678  \n",
    "if rand_seed is not None:\n",
    "    np.random.seed(rand_seed)\n",
    "    torch.manual_seed(rand_seed)\n",
    "    torch.cuda.manual_seed(rand_seed)\n",
    "\n",
    "\n",
    "# load net\n",
    "net = CrowdCounter()\n",
    "weights_normal_init(net, dev=0.01)\n",
    "net.cuda()\n",
    "net.train()\n",
    "\n",
    "params = list(net.parameters())\n",
    "optimizer = torch.optim.Adam(filter(lambda p: p.requires_grad, net.parameters()), lr=lr)\n",
    "\n",
    "if not os.path.exists(output_dir):\n",
    "    os.mkdir(output_dir)"
   ]
  },
  {
   "cell_type": "code",
   "execution_count": null,
   "metadata": {},
   "outputs": [
    {
     "name": "stderr",
     "output_type": "stream",
     "text": [
      "Train loss: 9.100467650569044e-07: : 1it [00:01,  1.78s/it]"
     ]
    },
    {
     "name": "stdout",
     "output_type": "stream",
     "text": [
      "Crowd count(et, gt): 933.56525 393.89545\n"
     ]
    },
    {
     "name": "stderr",
     "output_type": "stream",
     "text": [
      "Train loss: 3.6706293030874804e-05: : 47it [01:15,  1.61s/it]\n",
      "0it [00:00, ?it/s]"
     ]
    },
    {
     "name": "stdout",
     "output_type": "stream",
     "text": [
      "EPOCH: 0, MAE: 163.5, MSE: 201.0\n",
      "BEST MAE: 163.5, BEST MSE: 201.0, BEST MODEL: MCNN_shtechA_0.h5\n"
     ]
    },
    {
     "name": "stderr",
     "output_type": "stream",
     "text": [
      "Train loss: 8.986453963188978e-07: : 1it [00:01,  1.23s/it]"
     ]
    },
    {
     "name": "stdout",
     "output_type": "stream",
     "text": [
      "Crowd count(et, gt): 209.16928 428.05652\n"
     ]
    },
    {
     "name": "stderr",
     "output_type": "stream",
     "text": [
      "Train loss: 3.531474430928938e-05: : 47it [00:54,  1.16s/it] \n",
      "Train loss: 6.572893198608654e-07: : 1it [00:01,  1.17s/it]"
     ]
    },
    {
     "name": "stdout",
     "output_type": "stream",
     "text": [
      "Crowd count(et, gt): 377.06924 341.91748\n"
     ]
    },
    {
     "name": "stderr",
     "output_type": "stream",
     "text": [
      "Train loss: 3.5215467505622655e-05: : 47it [00:53,  1.15s/it]\n",
      "0it [00:00, ?it/s]"
     ]
    },
    {
     "name": "stdout",
     "output_type": "stream",
     "text": [
      "EPOCH: 2, MAE: 90.9, MSE: 114.0\n",
      "BEST MAE: 90.9, BEST MSE: 114.0, BEST MODEL: MCNN_shtechA_2.h5\n"
     ]
    },
    {
     "name": "stderr",
     "output_type": "stream",
     "text": [
      "Train loss: 4.275746903203981e-07: : 1it [00:01,  1.19s/it]"
     ]
    },
    {
     "name": "stdout",
     "output_type": "stream",
     "text": [
      "Crowd count(et, gt): 397.84155 228.66307\n"
     ]
    },
    {
     "name": "stderr",
     "output_type": "stream",
     "text": [
      "Train loss: 3.514041964081116e-05: : 47it [00:54,  1.15s/it] \n",
      "Train loss: 6.600613460250315e-07: : 1it [00:01,  1.16s/it]"
     ]
    },
    {
     "name": "stdout",
     "output_type": "stream",
     "text": [
      "Crowd count(et, gt): 390.80038 315.01694\n"
     ]
    },
    {
     "name": "stderr",
     "output_type": "stream",
     "text": [
      "Train loss: 3.5324334021424875e-05: : 47it [00:54,  1.16s/it]\n",
      "0it [00:00, ?it/s]"
     ]
    },
    {
     "name": "stdout",
     "output_type": "stream",
     "text": [
      "EPOCH: 4, MAE: 91.3, MSE: 114.6\n",
      "BEST MAE: 90.9, BEST MSE: 114.0, BEST MODEL: MCNN_shtechA_2.h5\n"
     ]
    },
    {
     "name": "stderr",
     "output_type": "stream",
     "text": [
      "Train loss: 5.0439308552086e-07: : 1it [00:01,  1.19s/it]"
     ]
    },
    {
     "name": "stdout",
     "output_type": "stream",
     "text": [
      "Crowd count(et, gt): 424.63644 265.05417\n"
     ]
    },
    {
     "name": "stderr",
     "output_type": "stream",
     "text": [
      "Train loss: 3.510333044687286e-05: : 47it [00:53,  1.14s/it] \n",
      "Train loss: 7.415047207359748e-07: : 1it [00:01,  1.17s/it]"
     ]
    },
    {
     "name": "stdout",
     "output_type": "stream",
     "text": [
      "Crowd count(et, gt): 399.91302 397.3059\n"
     ]
    },
    {
     "name": "stderr",
     "output_type": "stream",
     "text": [
      "Train loss: 3.4835382393794134e-05: : 47it [00:53,  1.14s/it]\n",
      "0it [00:00, ?it/s]"
     ]
    },
    {
     "name": "stdout",
     "output_type": "stream",
     "text": [
      "EPOCH: 6, MAE: 109.1, MSE: 131.6\n",
      "BEST MAE: 90.9, BEST MSE: 114.0, BEST MODEL: MCNN_shtechA_2.h5\n"
     ]
    },
    {
     "name": "stderr",
     "output_type": "stream",
     "text": [
      "Train loss: 7.572004392386589e-07: : 1it [00:01,  1.18s/it]"
     ]
    },
    {
     "name": "stdout",
     "output_type": "stream",
     "text": [
      "Crowd count(et, gt): 304.53644 379.3768\n"
     ]
    },
    {
     "name": "stderr",
     "output_type": "stream",
     "text": [
      "Train loss: 3.494323027553037e-05: : 47it [00:53,  1.14s/it] \n",
      "Train loss: 8.280584324893425e-07: : 1it [00:01,  1.50s/it]"
     ]
    },
    {
     "name": "stdout",
     "output_type": "stream",
     "text": [
      "Crowd count(et, gt): 147.59467 392.4754\n"
     ]
    },
    {
     "name": "stderr",
     "output_type": "stream",
     "text": [
      "Train loss: 3.487923095235601e-05: : 47it [01:13,  1.56s/it] \n",
      "0it [00:00, ?it/s]"
     ]
    },
    {
     "name": "stdout",
     "output_type": "stream",
     "text": [
      "EPOCH: 8, MAE: 103.7, MSE: 124.2\n",
      "BEST MAE: 90.9, BEST MSE: 114.0, BEST MODEL: MCNN_shtechA_2.h5\n"
     ]
    },
    {
     "name": "stderr",
     "output_type": "stream",
     "text": [
      "Train loss: 5.855148401678889e-07: : 1it [00:01,  1.20s/it]"
     ]
    },
    {
     "name": "stdout",
     "output_type": "stream",
     "text": [
      "Crowd count(et, gt): 289.7482 313.3856\n"
     ]
    },
    {
     "name": "stderr",
     "output_type": "stream",
     "text": [
      "Train loss: 3.556775482138619e-05: : 47it [00:53,  1.14s/it] \n",
      "Train loss: 7.389004963442858e-07: : 1it [00:01,  1.17s/it]"
     ]
    },
    {
     "name": "stdout",
     "output_type": "stream",
     "text": [
      "Crowd count(et, gt): 329.71814 373.16122\n"
     ]
    },
    {
     "name": "stderr",
     "output_type": "stream",
     "text": [
      "Train loss: 3.543738785083406e-05: : 47it [00:53,  1.14s/it] \n",
      "0it [00:00, ?it/s]"
     ]
    },
    {
     "name": "stdout",
     "output_type": "stream",
     "text": [
      "EPOCH: 10, MAE: 103.6, MSE: 123.6\n",
      "BEST MAE: 90.9, BEST MSE: 114.0, BEST MODEL: MCNN_shtechA_2.h5\n"
     ]
    },
    {
     "name": "stderr",
     "output_type": "stream",
     "text": [
      "Train loss: 8.214501576730981e-07: : 1it [00:01,  1.20s/it]"
     ]
    },
    {
     "name": "stdout",
     "output_type": "stream",
     "text": [
      "Crowd count(et, gt): 337.82162 408.4437\n"
     ]
    },
    {
     "name": "stderr",
     "output_type": "stream",
     "text": [
      "Train loss: 3.514719719532877e-05: : 47it [00:53,  1.15s/it] \n",
      "Train loss: 4.984061092727643e-07: : 1it [00:01,  1.16s/it]"
     ]
    },
    {
     "name": "stdout",
     "output_type": "stream",
     "text": [
      "Crowd count(et, gt): 251.66315 266.07843\n"
     ]
    },
    {
     "name": "stderr",
     "output_type": "stream",
     "text": [
      "Train loss: 3.467797068879008e-05: : 47it [00:53,  1.14s/it] \n",
      "0it [00:00, ?it/s]"
     ]
    },
    {
     "name": "stdout",
     "output_type": "stream",
     "text": [
      "EPOCH: 12, MAE: 144.6, MSE: 171.9\n",
      "BEST MAE: 90.9, BEST MSE: 114.0, BEST MODEL: MCNN_shtechA_2.h5\n"
     ]
    },
    {
     "name": "stderr",
     "output_type": "stream",
     "text": [
      "Train loss: 7.622637667736853e-07: : 1it [00:01,  1.17s/it]"
     ]
    },
    {
     "name": "stdout",
     "output_type": "stream",
     "text": [
      "Crowd count(et, gt): 249.92569 373.40543\n"
     ]
    },
    {
     "name": "stderr",
     "output_type": "stream",
     "text": [
      "Train loss: 3.480376108200289e-05: : 47it [00:53,  1.14s/it] \n",
      "Train loss: 4.79082018500776e-07: : 1it [00:01,  1.17s/it]"
     ]
    },
    {
     "name": "stdout",
     "output_type": "stream",
     "text": [
      "Crowd count(et, gt): 192.44057 258.22305\n"
     ]
    },
    {
     "name": "stderr",
     "output_type": "stream",
     "text": [
      "Train loss: 3.473579272395e-05: : 47it [00:54,  1.15s/it]    \n",
      "0it [00:00, ?it/s]"
     ]
    },
    {
     "name": "stdout",
     "output_type": "stream",
     "text": [
      "EPOCH: 14, MAE: 135.6, MSE: 161.0\n",
      "BEST MAE: 90.9, BEST MSE: 114.0, BEST MODEL: MCNN_shtechA_2.h5\n"
     ]
    },
    {
     "name": "stderr",
     "output_type": "stream",
     "text": [
      "Train loss: 7.086496793817787e-07: : 1it [00:01,  1.18s/it]"
     ]
    },
    {
     "name": "stdout",
     "output_type": "stream",
     "text": [
      "Crowd count(et, gt): 271.45993 362.42996\n"
     ]
    },
    {
     "name": "stderr",
     "output_type": "stream",
     "text": [
      "Train loss: 3.468066279310733e-05: : 47it [00:53,  1.14s/it] \n",
      "Train loss: 6.39271263480623e-07: : 1it [00:01,  1.17s/it]"
     ]
    },
    {
     "name": "stdout",
     "output_type": "stream",
     "text": [
      "Crowd count(et, gt): 202.76018 348.1851\n"
     ]
    },
    {
     "name": "stderr",
     "output_type": "stream",
     "text": [
      "Train loss: 3.50641566910781e-05: : 47it [00:53,  1.15s/it]  \n",
      "0it [00:00, ?it/s]"
     ]
    },
    {
     "name": "stdout",
     "output_type": "stream",
     "text": [
      "EPOCH: 16, MAE: 87.0, MSE: 114.1\n",
      "BEST MAE: 87.0, BEST MSE: 114.1, BEST MODEL: MCNN_shtechA_16.h5\n"
     ]
    },
    {
     "name": "stderr",
     "output_type": "stream",
     "text": [
      "Train loss: 5.197812242840882e-07: : 1it [00:01,  1.20s/it]"
     ]
    },
    {
     "name": "stdout",
     "output_type": "stream",
     "text": [
      "Crowd count(et, gt): 447.605 274.2469\n"
     ]
    },
    {
     "name": "stderr",
     "output_type": "stream",
     "text": [
      "Train loss: 3.483726686681621e-05: : 47it [01:00,  1.30s/it] \n",
      "Train loss: 6.502855285361875e-07: : 1it [00:01,  1.16s/it]"
     ]
    },
    {
     "name": "stdout",
     "output_type": "stream",
     "text": [
      "Crowd count(et, gt): 135.70166 353.50403\n"
     ]
    },
    {
     "name": "stderr",
     "output_type": "stream",
     "text": [
      "Train loss: 3.486097921268083e-05: : 47it [00:54,  1.15s/it] \n",
      "0it [00:00, ?it/s]"
     ]
    },
    {
     "name": "stdout",
     "output_type": "stream",
     "text": [
      "EPOCH: 18, MAE: 100.3, MSE: 119.7\n",
      "BEST MAE: 87.0, BEST MSE: 114.1, BEST MODEL: MCNN_shtechA_16.h5\n"
     ]
    },
    {
     "name": "stderr",
     "output_type": "stream",
     "text": [
      "Train loss: 1.0299634141119896e-06: : 1it [00:01,  1.20s/it]"
     ]
    },
    {
     "name": "stdout",
     "output_type": "stream",
     "text": [
      "Crowd count(et, gt): 371.02527 506.50922\n"
     ]
    },
    {
     "name": "stderr",
     "output_type": "stream",
     "text": [
      "Train loss: 3.470156298135407e-05: : 47it [00:54,  1.15s/it] \n",
      "Train loss: 5.729112899643951e-07: : 1it [00:01,  1.17s/it]"
     ]
    },
    {
     "name": "stdout",
     "output_type": "stream",
     "text": [
      "Crowd count(et, gt): 361.011 268.7794\n"
     ]
    },
    {
     "name": "stderr",
     "output_type": "stream",
     "text": [
      "Train loss: 3.4635926567716524e-05: : 47it [00:54,  1.15s/it]\n",
      "0it [00:00, ?it/s]"
     ]
    },
    {
     "name": "stdout",
     "output_type": "stream",
     "text": [
      "EPOCH: 20, MAE: 120.4, MSE: 143.8\n",
      "BEST MAE: 87.0, BEST MSE: 114.1, BEST MODEL: MCNN_shtechA_16.h5\n"
     ]
    },
    {
     "name": "stderr",
     "output_type": "stream",
     "text": [
      "Train loss: 5.620741490020009e-07: : 1it [00:01,  1.19s/it]"
     ]
    },
    {
     "name": "stdout",
     "output_type": "stream",
     "text": [
      "Crowd count(et, gt): 286.4726 298.63895\n"
     ]
    },
    {
     "name": "stderr",
     "output_type": "stream",
     "text": [
      "Train loss: 3.463997563812882e-05: : 47it [00:53,  1.14s/it] \n",
      "Train loss: 1.1575574490052531e-06: : 1it [00:01,  1.17s/it]"
     ]
    },
    {
     "name": "stdout",
     "output_type": "stream",
     "text": [
      "Crowd count(et, gt): 478.5097 584.28015\n"
     ]
    },
    {
     "name": "stderr",
     "output_type": "stream",
     "text": [
      "Train loss: 3.4550750569906086e-05: : 47it [00:53,  1.15s/it]\n",
      "0it [00:00, ?it/s]"
     ]
    },
    {
     "name": "stdout",
     "output_type": "stream",
     "text": [
      "EPOCH: 22, MAE: 85.8, MSE: 105.4\n",
      "BEST MAE: 85.8, BEST MSE: 105.4, BEST MODEL: MCNN_shtechA_22.h5\n"
     ]
    },
    {
     "name": "stderr",
     "output_type": "stream",
     "text": [
      "Train loss: 8.26722839519789e-07: : 1it [00:01,  1.19s/it]"
     ]
    },
    {
     "name": "stdout",
     "output_type": "stream",
     "text": [
      "Crowd count(et, gt): 462.25482 412.38895\n"
     ]
    },
    {
     "name": "stderr",
     "output_type": "stream",
     "text": [
      "Train loss: 3.4813314414350316e-05: : 47it [00:54,  1.15s/it]\n",
      "Train loss: 5.09510527990642e-07: : 1it [00:01,  1.17s/it]"
     ]
    },
    {
     "name": "stdout",
     "output_type": "stream",
     "text": [
      "Crowd count(et, gt): 311.31372 274.76184\n"
     ]
    },
    {
     "name": "stderr",
     "output_type": "stream",
     "text": [
      "Train loss: 3.4736724046524614e-05: : 47it [00:53,  1.15s/it]\n",
      "0it [00:00, ?it/s]"
     ]
    },
    {
     "name": "stdout",
     "output_type": "stream",
     "text": [
      "EPOCH: 24, MAE: 109.4, MSE: 132.3\n",
      "BEST MAE: 85.8, BEST MSE: 105.4, BEST MODEL: MCNN_shtechA_22.h5\n"
     ]
    },
    {
     "name": "stderr",
     "output_type": "stream",
     "text": [
      "Train loss: 1.0164151262870291e-06: : 1it [00:01,  1.19s/it]"
     ]
    },
    {
     "name": "stdout",
     "output_type": "stream",
     "text": [
      "Crowd count(et, gt): 224.761 387.52087\n"
     ]
    },
    {
     "name": "stderr",
     "output_type": "stream",
     "text": [
      "Train loss: 3.4663858968997374e-05: : 47it [00:54,  1.16s/it]\n",
      "Train loss: 9.590039553586394e-07: : 1it [00:01,  1.57s/it]"
     ]
    },
    {
     "name": "stdout",
     "output_type": "stream",
     "text": [
      "Crowd count(et, gt): 200.4588 470.14398\n"
     ]
    },
    {
     "name": "stderr",
     "output_type": "stream",
     "text": [
      "Train loss: 3.4619690268300474e-05: : 47it [01:00,  1.28s/it]\n",
      "0it [00:00, ?it/s]"
     ]
    },
    {
     "name": "stdout",
     "output_type": "stream",
     "text": [
      "EPOCH: 26, MAE: 98.6, MSE: 116.8\n",
      "BEST MAE: 85.8, BEST MSE: 105.4, BEST MODEL: MCNN_shtechA_22.h5\n"
     ]
    },
    {
     "name": "stderr",
     "output_type": "stream",
     "text": [
      "Train loss: 6.526796028083481e-07: : 1it [00:01,  1.19s/it]"
     ]
    },
    {
     "name": "stdout",
     "output_type": "stream",
     "text": [
      "Crowd count(et, gt): 300.16733 309.73685\n"
     ]
    },
    {
     "name": "stderr",
     "output_type": "stream",
     "text": [
      "Train loss: 3.456546619418077e-05: : 47it [01:08,  1.46s/it] \n",
      "Train loss: 5.456678309201379e-07: : 1it [00:01,  1.19s/it]"
     ]
    },
    {
     "name": "stdout",
     "output_type": "stream",
     "text": [
      "Crowd count(et, gt): 263.79092 303.11417\n"
     ]
    },
    {
     "name": "stderr",
     "output_type": "stream",
     "text": [
      "Train loss: 3.476061829132959e-05: : 47it [00:54,  1.15s/it] \n",
      "0it [00:00, ?it/s]"
     ]
    },
    {
     "name": "stdout",
     "output_type": "stream",
     "text": [
      "EPOCH: 28, MAE: 84.6, MSE: 103.9\n",
      "BEST MAE: 84.6, BEST MSE: 103.9, BEST MODEL: MCNN_shtechA_28.h5\n"
     ]
    },
    {
     "name": "stderr",
     "output_type": "stream",
     "text": [
      "Train loss: 1.3624789971800055e-06: : 1it [00:01,  1.20s/it]"
     ]
    },
    {
     "name": "stdout",
     "output_type": "stream",
     "text": [
      "Crowd count(et, gt): 407.5792 632.6448\n"
     ]
    },
    {
     "name": "stderr",
     "output_type": "stream",
     "text": [
      "Train loss: 3.435589314904064e-05: : 47it [00:54,  1.15s/it] \n",
      "Train loss: 1.010776259136037e-06: : 1it [00:01,  1.20s/it]"
     ]
    },
    {
     "name": "stdout",
     "output_type": "stream",
     "text": [
      "Crowd count(et, gt): 406.40036 485.4844\n"
     ]
    },
    {
     "name": "stderr",
     "output_type": "stream",
     "text": [
      "Train loss: 3.475580524536781e-05: : 47it [00:54,  1.16s/it] \n",
      "0it [00:00, ?it/s]"
     ]
    },
    {
     "name": "stdout",
     "output_type": "stream",
     "text": [
      "EPOCH: 30, MAE: 90.6, MSE: 121.4\n",
      "BEST MAE: 84.6, BEST MSE: 103.9, BEST MODEL: MCNN_shtechA_28.h5\n"
     ]
    },
    {
     "name": "stderr",
     "output_type": "stream",
     "text": [
      "Train loss: 4.1740727851902193e-07: : 1it [00:01,  1.24s/it]"
     ]
    },
    {
     "name": "stdout",
     "output_type": "stream",
     "text": [
      "Crowd count(et, gt): 491.1827 220.14589\n"
     ]
    },
    {
     "name": "stderr",
     "output_type": "stream",
     "text": [
      "Train loss: 3.491096867946908e-05: : 47it [00:54,  1.16s/it] \n",
      "Train loss: 4.938430606671318e-07: : 1it [00:01,  1.17s/it]"
     ]
    },
    {
     "name": "stdout",
     "output_type": "stream",
     "text": [
      "Crowd count(et, gt): 219.43364 268.10666\n"
     ]
    },
    {
     "name": "stderr",
     "output_type": "stream",
     "text": [
      "Train loss: 3.481142266537063e-05: : 47it [00:54,  1.15s/it] \n",
      "0it [00:00, ?it/s]"
     ]
    },
    {
     "name": "stdout",
     "output_type": "stream",
     "text": [
      "EPOCH: 32, MAE: 126.3, MSE: 149.6\n",
      "BEST MAE: 84.6, BEST MSE: 103.9, BEST MODEL: MCNN_shtechA_28.h5\n"
     ]
    },
    {
     "name": "stderr",
     "output_type": "stream",
     "text": [
      "Train loss: 7.277999429788906e-07: : 1it [00:01,  1.17s/it]"
     ]
    },
    {
     "name": "stdout",
     "output_type": "stream",
     "text": [
      "Crowd count(et, gt): 241.25403 348.61163\n"
     ]
    },
    {
     "name": "stderr",
     "output_type": "stream",
     "text": [
      "Train loss: 3.453855970292352e-05: : 47it [00:54,  1.15s/it] \n",
      "Train loss: 7.469816978300514e-07: : 1it [00:01,  1.17s/it]"
     ]
    },
    {
     "name": "stdout",
     "output_type": "stream",
     "text": [
      "Crowd count(et, gt): 246.28 377.40427\n"
     ]
    },
    {
     "name": "stderr",
     "output_type": "stream",
     "text": [
      "Train loss: 3.483239561319351e-05: : 47it [00:56,  1.20s/it] \n",
      "0it [00:00, ?it/s]"
     ]
    },
    {
     "name": "stdout",
     "output_type": "stream",
     "text": [
      "EPOCH: 34, MAE: 80.4, MSE: 104.2\n",
      "BEST MAE: 80.4, BEST MSE: 104.2, BEST MODEL: MCNN_shtechA_34.h5\n"
     ]
    },
    {
     "name": "stderr",
     "output_type": "stream",
     "text": [
      "Train loss: 5.804017177979404e-07: : 1it [00:01,  1.21s/it]"
     ]
    },
    {
     "name": "stdout",
     "output_type": "stream",
     "text": [
      "Crowd count(et, gt): 408.62094 314.38913\n"
     ]
    },
    {
     "name": "stderr",
     "output_type": "stream",
     "text": [
      "Train loss: 3.449050200288184e-05: : 47it [00:54,  1.17s/it] \n",
      "Train loss: 1.0411465609649895e-06: : 1it [00:01,  1.18s/it]"
     ]
    },
    {
     "name": "stdout",
     "output_type": "stream",
     "text": [
      "Crowd count(et, gt): 468.37836 482.41678\n"
     ]
    },
    {
     "name": "stderr",
     "output_type": "stream",
     "text": [
      "Train loss: 3.4562861401354894e-05: : 47it [00:55,  1.17s/it]\n",
      "0it [00:00, ?it/s]"
     ]
    },
    {
     "name": "stdout",
     "output_type": "stream",
     "text": [
      "EPOCH: 36, MAE: 86.7, MSE: 104.5\n",
      "BEST MAE: 80.4, BEST MSE: 104.2, BEST MODEL: MCNN_shtechA_34.h5\n"
     ]
    },
    {
     "name": "stderr",
     "output_type": "stream",
     "text": [
      "Train loss: 5.827949394188181e-07: : 1it [00:01,  1.22s/it]"
     ]
    },
    {
     "name": "stdout",
     "output_type": "stream",
     "text": [
      "Crowd count(et, gt): 341.94327 317.59753\n"
     ]
    },
    {
     "name": "stderr",
     "output_type": "stream",
     "text": [
      "Train loss: 3.49765396094881e-05: : 47it [00:53,  1.15s/it]  \n",
      "Train loss: 5.635041020468634e-07: : 1it [00:01,  1.15s/it]"
     ]
    },
    {
     "name": "stdout",
     "output_type": "stream",
     "text": [
      "Crowd count(et, gt): 479.08542 304.64246\n"
     ]
    },
    {
     "name": "stderr",
     "output_type": "stream",
     "text": [
      "Train loss: 3.4529322874732316e-05: : 47it [00:52,  1.13s/it]\n",
      "0it [00:00, ?it/s]"
     ]
    },
    {
     "name": "stdout",
     "output_type": "stream",
     "text": [
      "EPOCH: 38, MAE: 86.8, MSE: 116.1\n",
      "BEST MAE: 80.4, BEST MSE: 104.2, BEST MODEL: MCNN_shtechA_34.h5\n"
     ]
    },
    {
     "name": "stderr",
     "output_type": "stream",
     "text": [
      "Train loss: 6.950038482500531e-07: : 1it [00:01,  1.18s/it]"
     ]
    },
    {
     "name": "stdout",
     "output_type": "stream",
     "text": [
      "Crowd count(et, gt): 516.8683 344.3706\n"
     ]
    },
    {
     "name": "stderr",
     "output_type": "stream",
     "text": [
      "Train loss: 3.5161017876816913e-05: : 47it [00:52,  1.13s/it]\n",
      "Train loss: 8.31226884656644e-07: : 1it [00:01,  1.15s/it]"
     ]
    },
    {
     "name": "stdout",
     "output_type": "stream",
     "text": [
      "Crowd count(et, gt): 273.1936 398.83987\n"
     ]
    },
    {
     "name": "stderr",
     "output_type": "stream",
     "text": [
      "Train loss: 3.525959618855268e-05: : 47it [00:53,  1.13s/it] \n",
      "0it [00:00, ?it/s]"
     ]
    },
    {
     "name": "stdout",
     "output_type": "stream",
     "text": [
      "EPOCH: 40, MAE: 79.4, MSE: 100.4\n",
      "BEST MAE: 79.4, BEST MSE: 100.4, BEST MODEL: MCNN_shtechA_40.h5\n"
     ]
    },
    {
     "name": "stderr",
     "output_type": "stream",
     "text": [
      "Train loss: 5.324274638951465e-07: : 1it [00:01,  1.16s/it]"
     ]
    },
    {
     "name": "stdout",
     "output_type": "stream",
     "text": [
      "Crowd count(et, gt): 397.48404 292.7668\n"
     ]
    },
    {
     "name": "stderr",
     "output_type": "stream",
     "text": [
      "Train loss: 3.463567918515764e-05: : 47it [00:53,  1.13s/it] \n",
      "Train loss: 7.062844247229805e-07: : 1it [00:01,  1.16s/it]"
     ]
    },
    {
     "name": "stdout",
     "output_type": "stream",
     "text": [
      "Crowd count(et, gt): 118.13217 371.57205\n"
     ]
    },
    {
     "name": "stderr",
     "output_type": "stream",
     "text": [
      "Train loss: 3.4780343412421644e-05: : 47it [00:53,  1.13s/it]\n",
      "0it [00:00, ?it/s]"
     ]
    },
    {
     "name": "stdout",
     "output_type": "stream",
     "text": [
      "EPOCH: 42, MAE: 94.4, MSE: 110.9\n",
      "BEST MAE: 79.4, BEST MSE: 100.4, BEST MODEL: MCNN_shtechA_40.h5\n"
     ]
    },
    {
     "name": "stderr",
     "output_type": "stream",
     "text": [
      "Train loss: 4.983209009878919e-07: : 1it [00:01,  1.16s/it]"
     ]
    },
    {
     "name": "stdout",
     "output_type": "stream",
     "text": [
      "Crowd count(et, gt): 346.6726 262.12128\n"
     ]
    },
    {
     "name": "stderr",
     "output_type": "stream",
     "text": [
      "Train loss: 3.455140540609136e-05: : 47it [00:52,  1.13s/it] \n",
      "Train loss: 7.331049118874944e-07: : 1it [00:01,  1.15s/it]"
     ]
    },
    {
     "name": "stdout",
     "output_type": "stream",
     "text": [
      "Crowd count(et, gt): 278.8148 367.17755\n"
     ]
    },
    {
     "name": "stderr",
     "output_type": "stream",
     "text": [
      "Train loss: 3.446573464316316e-05: : 47it [00:52,  1.13s/it] \n",
      "0it [00:00, ?it/s]"
     ]
    },
    {
     "name": "stdout",
     "output_type": "stream",
     "text": [
      "EPOCH: 44, MAE: 118.6, MSE: 140.6\n",
      "BEST MAE: 79.4, BEST MSE: 100.4, BEST MODEL: MCNN_shtechA_40.h5\n"
     ]
    },
    {
     "name": "stderr",
     "output_type": "stream",
     "text": [
      "Train loss: 5.405030378824449e-07: : 1it [00:01,  1.16s/it]"
     ]
    },
    {
     "name": "stdout",
     "output_type": "stream",
     "text": [
      "Crowd count(et, gt): 261.61658 292.9181\n"
     ]
    },
    {
     "name": "stderr",
     "output_type": "stream",
     "text": [
      "Train loss: 3.426676266826689e-05: : 47it [00:52,  1.13s/it] \n",
      "Train loss: 6.237704610612127e-07: : 1it [00:01,  1.15s/it]"
     ]
    },
    {
     "name": "stdout",
     "output_type": "stream",
     "text": [
      "Crowd count(et, gt): 232.15796 341.46652\n"
     ]
    },
    {
     "name": "stderr",
     "output_type": "stream",
     "text": [
      "Train loss: 3.4580396459205076e-05: : 47it [00:52,  1.13s/it]\n",
      "0it [00:00, ?it/s]"
     ]
    },
    {
     "name": "stdout",
     "output_type": "stream",
     "text": [
      "EPOCH: 46, MAE: 114.5, MSE: 148.1\n",
      "BEST MAE: 79.4, BEST MSE: 100.4, BEST MODEL: MCNN_shtechA_40.h5\n"
     ]
    },
    {
     "name": "stderr",
     "output_type": "stream",
     "text": [
      "Train loss: 1.132554757532489e-06: : 1it [00:01,  1.16s/it]"
     ]
    },
    {
     "name": "stdout",
     "output_type": "stream",
     "text": [
      "Crowd count(et, gt): 549.58514 462.76044\n"
     ]
    },
    {
     "name": "stderr",
     "output_type": "stream",
     "text": [
      "Train loss: 3.481671592453495e-05: : 47it [00:52,  1.13s/it] \n",
      "Train loss: 8.81402229424566e-07: : 1it [00:01,  1.15s/it]"
     ]
    },
    {
     "name": "stdout",
     "output_type": "stream",
     "text": [
      "Crowd count(et, gt): 382.78778 468.4019\n"
     ]
    },
    {
     "name": "stderr",
     "output_type": "stream",
     "text": [
      "Train loss: 3.4364929888397455e-05: : 47it [00:52,  1.13s/it]\n",
      "0it [00:00, ?it/s]"
     ]
    },
    {
     "name": "stdout",
     "output_type": "stream",
     "text": [
      "EPOCH: 48, MAE: 157.3, MSE: 187.7\n",
      "BEST MAE: 79.4, BEST MSE: 100.4, BEST MODEL: MCNN_shtechA_40.h5\n"
     ]
    },
    {
     "name": "stderr",
     "output_type": "stream",
     "text": [
      "Train loss: 8.14587792774546e-07: : 1it [00:01,  1.16s/it]"
     ]
    },
    {
     "name": "stdout",
     "output_type": "stream",
     "text": [
      "Crowd count(et, gt): 212.53772 417.71832\n"
     ]
    },
    {
     "name": "stderr",
     "output_type": "stream",
     "text": [
      "Train loss: 3.4680608223425224e-05: : 47it [00:52,  1.13s/it]\n",
      "Train loss: 5.535838454306941e-07: : 1it [00:01,  1.16s/it]"
     ]
    },
    {
     "name": "stdout",
     "output_type": "stream",
     "text": [
      "Crowd count(et, gt): 390.24323 298.96417\n"
     ]
    },
    {
     "name": "stderr",
     "output_type": "stream",
     "text": [
      "Train loss: 3.4417156712152064e-05: : 47it [00:53,  1.13s/it]\n",
      "0it [00:00, ?it/s]"
     ]
    },
    {
     "name": "stdout",
     "output_type": "stream",
     "text": [
      "EPOCH: 50, MAE: 235.4, MSE: 266.1\n",
      "BEST MAE: 79.4, BEST MSE: 100.4, BEST MODEL: MCNN_shtechA_40.h5\n"
     ]
    },
    {
     "name": "stderr",
     "output_type": "stream",
     "text": [
      "Train loss: 9.460229648539098e-07: : 1it [00:01,  1.18s/it]"
     ]
    },
    {
     "name": "stdout",
     "output_type": "stream",
     "text": [
      "Crowd count(et, gt): 127.939415 461.9284\n"
     ]
    },
    {
     "name": "stderr",
     "output_type": "stream",
     "text": [
      "Train loss: 3.444271351327188e-05: : 47it [00:53,  1.13s/it] \n",
      "Train loss: 7.35460616851924e-07: : 1it [00:01,  1.15s/it]"
     ]
    },
    {
     "name": "stdout",
     "output_type": "stream",
     "text": [
      "Crowd count(et, gt): 396.0229 385.2805\n"
     ]
    },
    {
     "name": "stderr",
     "output_type": "stream",
     "text": [
      "Train loss: 3.460756124695763e-05: : 47it [00:52,  1.13s/it] \n",
      "0it [00:00, ?it/s]"
     ]
    },
    {
     "name": "stdout",
     "output_type": "stream",
     "text": [
      "EPOCH: 52, MAE: 128.5, MSE: 151.8\n",
      "BEST MAE: 79.4, BEST MSE: 100.4, BEST MODEL: MCNN_shtechA_40.h5\n"
     ]
    },
    {
     "name": "stderr",
     "output_type": "stream",
     "text": [
      "Train loss: 8.039635872592044e-07: : 1it [00:01,  1.16s/it]"
     ]
    },
    {
     "name": "stdout",
     "output_type": "stream",
     "text": [
      "Crowd count(et, gt): 243.48566 366.62494\n"
     ]
    },
    {
     "name": "stderr",
     "output_type": "stream",
     "text": [
      "Train loss: 3.4287022572243586e-05: : 47it [00:52,  1.13s/it]\n",
      "Train loss: 6.997634045546874e-07: : 1it [00:01,  1.15s/it]"
     ]
    },
    {
     "name": "stdout",
     "output_type": "stream",
     "text": [
      "Crowd count(et, gt): 298.03204 378.6324\n"
     ]
    },
    {
     "name": "stderr",
     "output_type": "stream",
     "text": [
      "Train loss: 3.454177203821018e-05: : 47it [00:52,  1.12s/it] \n",
      "0it [00:00, ?it/s]"
     ]
    },
    {
     "name": "stdout",
     "output_type": "stream",
     "text": [
      "EPOCH: 54, MAE: 158.1, MSE: 188.4\n",
      "BEST MAE: 79.4, BEST MSE: 100.4, BEST MODEL: MCNN_shtechA_40.h5\n"
     ]
    },
    {
     "name": "stderr",
     "output_type": "stream",
     "text": [
      "Train loss: 8.483618216814648e-07: : 1it [00:01,  1.18s/it]"
     ]
    },
    {
     "name": "stdout",
     "output_type": "stream",
     "text": [
      "Crowd count(et, gt): 182.90634 441.8497\n"
     ]
    },
    {
     "name": "stderr",
     "output_type": "stream",
     "text": [
      "Train loss: 3.442585511947982e-05: : 47it [00:52,  1.13s/it] \n",
      "Train loss: 6.657888320660277e-07: : 1it [00:01,  1.15s/it]"
     ]
    },
    {
     "name": "stdout",
     "output_type": "stream",
     "text": [
      "Crowd count(et, gt): 359.22437 360.4427\n"
     ]
    },
    {
     "name": "stderr",
     "output_type": "stream",
     "text": [
      "Train loss: 3.457655475358479e-05: : 47it [00:52,  1.12s/it] \n",
      "0it [00:00, ?it/s]"
     ]
    },
    {
     "name": "stdout",
     "output_type": "stream",
     "text": [
      "EPOCH: 56, MAE: 94.7, MSE: 110.7\n",
      "BEST MAE: 79.4, BEST MSE: 100.4, BEST MODEL: MCNN_shtechA_40.h5\n"
     ]
    },
    {
     "name": "stderr",
     "output_type": "stream",
     "text": [
      "Train loss: 5.727762300011818e-07: : 1it [00:01,  1.18s/it]"
     ]
    },
    {
     "name": "stdout",
     "output_type": "stream",
     "text": [
      "Crowd count(et, gt): 317.4003 306.54974\n"
     ]
    },
    {
     "name": "stderr",
     "output_type": "stream",
     "text": [
      "Train loss: 3.466889029368758e-05: : 47it [00:52,  1.12s/it] \n",
      "Train loss: 7.008222269178077e-07: : 1it [00:01,  1.15s/it]"
     ]
    },
    {
     "name": "stdout",
     "output_type": "stream",
     "text": [
      "Crowd count(et, gt): 420.45276 350.38654\n"
     ]
    },
    {
     "name": "stderr",
     "output_type": "stream",
     "text": [
      "Train loss: 3.441354783717543e-05: : 47it [00:52,  1.12s/it] \n",
      "0it [00:00, ?it/s]"
     ]
    },
    {
     "name": "stdout",
     "output_type": "stream",
     "text": [
      "EPOCH: 58, MAE: 96.5, MSE: 112.9\n",
      "BEST MAE: 79.4, BEST MSE: 100.4, BEST MODEL: MCNN_shtechA_40.h5\n"
     ]
    },
    {
     "name": "stderr",
     "output_type": "stream",
     "text": [
      "Train loss: 9.05838987819152e-07: : 1it [00:01,  1.18s/it]"
     ]
    },
    {
     "name": "stdout",
     "output_type": "stream",
     "text": [
      "Crowd count(et, gt): 425.7642 438.01935\n"
     ]
    },
    {
     "name": "stderr",
     "output_type": "stream",
     "text": [
      "Train loss: 3.4299897379241884e-05: : 47it [00:52,  1.12s/it]\n",
      "Train loss: 5.519889327842975e-07: : 1it [00:01,  1.16s/it]"
     ]
    },
    {
     "name": "stdout",
     "output_type": "stream",
     "text": [
      "Crowd count(et, gt): 2.2793493 285.90674\n"
     ]
    },
    {
     "name": "stderr",
     "output_type": "stream",
     "text": [
      "Train loss: 3.469311923254281e-05: : 47it [00:52,  1.13s/it] \n",
      "0it [00:00, ?it/s]"
     ]
    },
    {
     "name": "stdout",
     "output_type": "stream",
     "text": [
      "EPOCH: 60, MAE: 90.5, MSE: 105.5\n",
      "BEST MAE: 79.4, BEST MSE: 100.4, BEST MODEL: MCNN_shtechA_40.h5\n"
     ]
    },
    {
     "name": "stderr",
     "output_type": "stream",
     "text": [
      "Train loss: 6.916638994880486e-07: : 1it [00:01,  1.15s/it]"
     ]
    },
    {
     "name": "stdout",
     "output_type": "stream",
     "text": [
      "Crowd count(et, gt): 366.06854 328.64905\n"
     ]
    },
    {
     "name": "stderr",
     "output_type": "stream",
     "text": [
      "Train loss: 3.447541530476883e-05: : 47it [00:52,  1.12s/it] \n",
      "Train loss: 8.922423830881598e-07: : 1it [00:01,  1.15s/it]"
     ]
    },
    {
     "name": "stdout",
     "output_type": "stream",
     "text": [
      "Crowd count(et, gt): 174.75262 433.01657\n"
     ]
    },
    {
     "name": "stderr",
     "output_type": "stream",
     "text": [
      "Train loss: 3.4327866160310805e-05: : 47it [00:52,  1.13s/it]\n",
      "0it [00:00, ?it/s]"
     ]
    },
    {
     "name": "stdout",
     "output_type": "stream",
     "text": [
      "EPOCH: 62, MAE: 97.8, MSE: 114.3\n",
      "BEST MAE: 79.4, BEST MSE: 100.4, BEST MODEL: MCNN_shtechA_40.h5\n"
     ]
    },
    {
     "name": "stderr",
     "output_type": "stream",
     "text": [
      "Train loss: 7.529710046583205e-07: : 1it [00:01,  1.17s/it]"
     ]
    },
    {
     "name": "stdout",
     "output_type": "stream",
     "text": [
      "Crowd count(et, gt): 312.98047 382.83368\n"
     ]
    },
    {
     "name": "stderr",
     "output_type": "stream",
     "text": [
      "Train loss: 3.414505044929683e-05: : 47it [00:52,  1.12s/it] \n",
      "Train loss: 6.364310820572427e-07: : 1it [00:01,  1.15s/it]"
     ]
    },
    {
     "name": "stdout",
     "output_type": "stream",
     "text": [
      "Crowd count(et, gt): 232.71692 328.62527\n"
     ]
    },
    {
     "name": "stderr",
     "output_type": "stream",
     "text": [
      "Train loss: 3.434996688156389e-05: : 47it [00:52,  1.12s/it] \n",
      "0it [00:00, ?it/s]"
     ]
    },
    {
     "name": "stdout",
     "output_type": "stream",
     "text": [
      "EPOCH: 64, MAE: 83.8, MSE: 110.8\n",
      "BEST MAE: 79.4, BEST MSE: 100.4, BEST MODEL: MCNN_shtechA_40.h5\n"
     ]
    },
    {
     "name": "stderr",
     "output_type": "stream",
     "text": [
      "Train loss: 9.203436093230266e-07: : 1it [00:01,  1.17s/it]"
     ]
    },
    {
     "name": "stdout",
     "output_type": "stream",
     "text": [
      "Crowd count(et, gt): 554.48724 463.28912\n"
     ]
    },
    {
     "name": "stderr",
     "output_type": "stream",
     "text": [
      "Train loss: 3.4489155950723216e-05: : 47it [00:52,  1.12s/it]\n",
      "Train loss: 6.861905035293603e-07: : 1it [00:01,  1.15s/it]"
     ]
    },
    {
     "name": "stdout",
     "output_type": "stream",
     "text": [
      "Crowd count(et, gt): 567.6709 370.56146\n"
     ]
    },
    {
     "name": "stderr",
     "output_type": "stream",
     "text": [
      "Train loss: 3.42989806085825e-05: : 47it [00:52,  1.13s/it]  \n",
      "0it [00:00, ?it/s]"
     ]
    },
    {
     "name": "stdout",
     "output_type": "stream",
     "text": [
      "EPOCH: 66, MAE: 116.8, MSE: 138.6\n",
      "BEST MAE: 79.4, BEST MSE: 100.4, BEST MODEL: MCNN_shtechA_40.h5\n"
     ]
    },
    {
     "name": "stderr",
     "output_type": "stream",
     "text": [
      "Train loss: 8.657704029246815e-07: : 1it [00:01,  1.18s/it]"
     ]
    },
    {
     "name": "stdout",
     "output_type": "stream",
     "text": [
      "Crowd count(et, gt): 272.15826 398.85733\n"
     ]
    },
    {
     "name": "stderr",
     "output_type": "stream",
     "text": [
      "Train loss: 3.43685424013529e-05: : 47it [00:52,  1.13s/it]  \n",
      "Train loss: 4.973994691681582e-07: : 1it [00:01,  1.15s/it]"
     ]
    },
    {
     "name": "stdout",
     "output_type": "stream",
     "text": [
      "Crowd count(et, gt): 212.9654 266.9872\n"
     ]
    },
    {
     "name": "stderr",
     "output_type": "stream",
     "text": [
      "Train loss: 3.451329030212946e-05: : 47it [00:52,  1.12s/it] \n",
      "0it [00:00, ?it/s]"
     ]
    },
    {
     "name": "stdout",
     "output_type": "stream",
     "text": [
      "EPOCH: 68, MAE: 79.8, MSE: 106.5\n",
      "BEST MAE: 79.4, BEST MSE: 100.4, BEST MODEL: MCNN_shtechA_40.h5\n"
     ]
    },
    {
     "name": "stderr",
     "output_type": "stream",
     "text": [
      "Train loss: 8.904889341465605e-07: : 1it [00:01,  1.17s/it]"
     ]
    },
    {
     "name": "stdout",
     "output_type": "stream",
     "text": [
      "Crowd count(et, gt): 523.6366 464.97055\n"
     ]
    },
    {
     "name": "stderr",
     "output_type": "stream",
     "text": [
      "Train loss: 3.4344840969424695e-05: : 47it [00:52,  1.12s/it]\n",
      "Train loss: 6.233951239664748e-07: : 1it [00:01,  1.15s/it]"
     ]
    },
    {
     "name": "stdout",
     "output_type": "stream",
     "text": [
      "Crowd count(et, gt): 391.51434 330.73395\n"
     ]
    },
    {
     "name": "stderr",
     "output_type": "stream",
     "text": [
      "Train loss: 3.420897701289505e-05: : 47it [00:52,  1.12s/it] \n",
      "0it [00:00, ?it/s]"
     ]
    },
    {
     "name": "stdout",
     "output_type": "stream",
     "text": [
      "EPOCH: 70, MAE: 131.3, MSE: 155.3\n",
      "BEST MAE: 79.4, BEST MSE: 100.4, BEST MODEL: MCNN_shtechA_40.h5\n"
     ]
    },
    {
     "name": "stderr",
     "output_type": "stream",
     "text": [
      "Train loss: 1.1960638630625908e-06: : 1it [00:01,  1.18s/it]"
     ]
    },
    {
     "name": "stdout",
     "output_type": "stream",
     "text": [
      "Crowd count(et, gt): 276.33127 586.1285\n"
     ]
    },
    {
     "name": "stderr",
     "output_type": "stream",
     "text": [
      "Train loss: 3.445910624577664e-05: : 47it [00:52,  1.13s/it] \n",
      "Train loss: 7.023490979918279e-07: : 1it [00:01,  1.15s/it]"
     ]
    },
    {
     "name": "stdout",
     "output_type": "stream",
     "text": [
      "Crowd count(et, gt): 307.03268 362.4912\n"
     ]
    },
    {
     "name": "stderr",
     "output_type": "stream",
     "text": [
      "Train loss: 3.445182665018365e-05: : 47it [00:52,  1.12s/it] \n",
      "0it [00:00, ?it/s]"
     ]
    },
    {
     "name": "stdout",
     "output_type": "stream",
     "text": [
      "EPOCH: 72, MAE: 214.1, MSE: 244.3\n",
      "BEST MAE: 79.4, BEST MSE: 100.4, BEST MODEL: MCNN_shtechA_40.h5\n"
     ]
    },
    {
     "name": "stderr",
     "output_type": "stream",
     "text": [
      "Train loss: 8.299728619931557e-07: : 1it [00:01,  1.17s/it]"
     ]
    },
    {
     "name": "stdout",
     "output_type": "stream",
     "text": [
      "Crowd count(et, gt): 154.35315 437.33145\n"
     ]
    },
    {
     "name": "stderr",
     "output_type": "stream",
     "text": [
      "Train loss: 3.44689869962167e-05: : 47it [00:52,  1.12s/it]  \n",
      "Train loss: 6.298475341282028e-07: : 1it [00:01,  1.15s/it]"
     ]
    },
    {
     "name": "stdout",
     "output_type": "stream",
     "text": [
      "Crowd count(et, gt): 357.24802 347.6699\n"
     ]
    },
    {
     "name": "stderr",
     "output_type": "stream",
     "text": [
      "Train loss: 3.448589632171206e-05: : 47it [00:52,  1.12s/it] \n",
      "0it [00:00, ?it/s]"
     ]
    },
    {
     "name": "stdout",
     "output_type": "stream",
     "text": [
      "EPOCH: 74, MAE: 154.2, MSE: 183.6\n",
      "BEST MAE: 79.4, BEST MSE: 100.4, BEST MODEL: MCNN_shtechA_40.h5\n"
     ]
    },
    {
     "name": "stderr",
     "output_type": "stream",
     "text": [
      "Train loss: 6.745588621015486e-07: : 1it [00:01,  1.16s/it]"
     ]
    },
    {
     "name": "stdout",
     "output_type": "stream",
     "text": [
      "Crowd count(et, gt): 195.90466 363.89746\n"
     ]
    },
    {
     "name": "stderr",
     "output_type": "stream",
     "text": [
      "Train loss: 3.432788071222603e-05: : 47it [00:53,  1.14s/it] \n",
      "Train loss: 5.406317313827458e-07: : 1it [00:01,  1.15s/it]"
     ]
    },
    {
     "name": "stdout",
     "output_type": "stream",
     "text": [
      "Crowd count(et, gt): 217.1017 295.54294\n"
     ]
    },
    {
     "name": "stderr",
     "output_type": "stream",
     "text": [
      "Train loss: 3.450976510066539e-05: : 47it [00:53,  1.14s/it] \n",
      "0it [00:00, ?it/s]"
     ]
    },
    {
     "name": "stdout",
     "output_type": "stream",
     "text": [
      "EPOCH: 76, MAE: 113.8, MSE: 135.6\n",
      "BEST MAE: 79.4, BEST MSE: 100.4, BEST MODEL: MCNN_shtechA_40.h5\n"
     ]
    },
    {
     "name": "stderr",
     "output_type": "stream",
     "text": [
      "Train loss: 5.243342116045824e-07: : 1it [00:01,  1.18s/it]"
     ]
    },
    {
     "name": "stdout",
     "output_type": "stream",
     "text": [
      "Crowd count(et, gt): 256.04697 276.31317\n"
     ]
    },
    {
     "name": "stderr",
     "output_type": "stream",
     "text": [
      "Train loss: 3.419130007387139e-05: : 47it [00:52,  1.13s/it] \n",
      "Train loss: 8.095069574665104e-07: : 1it [00:01,  1.15s/it]"
     ]
    },
    {
     "name": "stdout",
     "output_type": "stream",
     "text": [
      "Crowd count(et, gt): 457.76685 415.11038\n"
     ]
    },
    {
     "name": "stderr",
     "output_type": "stream",
     "text": [
      "Train loss: 3.434290556469932e-05: : 47it [00:53,  1.13s/it] \n",
      "0it [00:00, ?it/s]"
     ]
    },
    {
     "name": "stdout",
     "output_type": "stream",
     "text": [
      "EPOCH: 78, MAE: 164.6, MSE: 196.9\n",
      "BEST MAE: 79.4, BEST MSE: 100.4, BEST MODEL: MCNN_shtechA_40.h5\n"
     ]
    },
    {
     "name": "stderr",
     "output_type": "stream",
     "text": [
      "Train loss: 5.321966796145716e-07: : 1it [00:01,  1.17s/it]"
     ]
    },
    {
     "name": "stdout",
     "output_type": "stream",
     "text": [
      "Crowd count(et, gt): 155.0476 277.5391\n"
     ]
    },
    {
     "name": "stderr",
     "output_type": "stream",
     "text": [
      "Train loss: 3.43034444085788e-05: : 47it [00:55,  1.17s/it]  \n",
      "Train loss: 9.035919674715842e-07: : 1it [00:01,  1.16s/it]"
     ]
    },
    {
     "name": "stdout",
     "output_type": "stream",
     "text": [
      "Crowd count(et, gt): 293.0058 428.81177\n"
     ]
    },
    {
     "name": "stderr",
     "output_type": "stream",
     "text": [
      "Train loss: 3.421794463065453e-05: : 47it [00:53,  1.14s/it] \n",
      "0it [00:00, ?it/s]"
     ]
    },
    {
     "name": "stdout",
     "output_type": "stream",
     "text": [
      "EPOCH: 80, MAE: 158.4, MSE: 189.3\n",
      "BEST MAE: 79.4, BEST MSE: 100.4, BEST MODEL: MCNN_shtechA_40.h5\n"
     ]
    },
    {
     "name": "stderr",
     "output_type": "stream",
     "text": [
      "Train loss: 6.965651095924841e-07: : 1it [00:01,  1.18s/it]"
     ]
    },
    {
     "name": "stdout",
     "output_type": "stream",
     "text": [
      "Crowd count(et, gt): 184.44424 345.75854\n"
     ]
    },
    {
     "name": "stderr",
     "output_type": "stream",
     "text": [
      "Train loss: 3.416968684177846e-05: : 47it [00:54,  1.16s/it] \n",
      "Train loss: 6.020372325110657e-07: : 1it [00:01,  1.17s/it]"
     ]
    },
    {
     "name": "stdout",
     "output_type": "stream",
     "text": [
      "Crowd count(et, gt): 320.8827 324.18756\n"
     ]
    },
    {
     "name": "stderr",
     "output_type": "stream",
     "text": [
      "Train loss: 3.456088961684145e-05: : 47it [00:54,  1.16s/it] \n",
      "0it [00:00, ?it/s]"
     ]
    },
    {
     "name": "stdout",
     "output_type": "stream",
     "text": [
      "EPOCH: 82, MAE: 85.6, MSE: 100.2\n",
      "BEST MAE: 79.4, BEST MSE: 100.4, BEST MODEL: MCNN_shtechA_40.h5\n"
     ]
    },
    {
     "name": "stderr",
     "output_type": "stream",
     "text": [
      "Train loss: 8.824731025924848e-07: : 1it [00:01,  1.25s/it]"
     ]
    },
    {
     "name": "stdout",
     "output_type": "stream",
     "text": [
      "Crowd count(et, gt): 425.16745 462.4454\n"
     ]
    },
    {
     "name": "stderr",
     "output_type": "stream",
     "text": [
      "Train loss: 3.439135252847336e-05: : 47it [00:54,  1.16s/it] \n",
      "Train loss: 5.367694484448293e-07: : 1it [00:01,  1.16s/it]"
     ]
    },
    {
     "name": "stdout",
     "output_type": "stream",
     "text": [
      "Crowd count(et, gt): 364.4575 293.17917\n"
     ]
    },
    {
     "name": "stderr",
     "output_type": "stream",
     "text": [
      "Train loss: 3.416575418668799e-05: : 47it [00:56,  1.20s/it] \n",
      "0it [00:00, ?it/s]"
     ]
    },
    {
     "name": "stdout",
     "output_type": "stream",
     "text": [
      "EPOCH: 84, MAE: 115.4, MSE: 137.5\n",
      "BEST MAE: 79.4, BEST MSE: 100.4, BEST MODEL: MCNN_shtechA_40.h5\n"
     ]
    },
    {
     "name": "stderr",
     "output_type": "stream",
     "text": [
      "Train loss: 4.686741021941998e-07: : 1it [00:01,  1.22s/it]"
     ]
    },
    {
     "name": "stdout",
     "output_type": "stream",
     "text": [
      "Crowd count(et, gt): 221.91808 244.48026\n"
     ]
    },
    {
     "name": "stderr",
     "output_type": "stream",
     "text": [
      "Train loss: 3.4293952921871096e-05: : 47it [00:55,  1.19s/it]\n",
      "Train loss: 7.744677077425877e-07: : 1it [00:01,  1.20s/it]"
     ]
    },
    {
     "name": "stdout",
     "output_type": "stream",
     "text": [
      "Crowd count(et, gt): 324.38312 413.39435\n"
     ]
    },
    {
     "name": "stderr",
     "output_type": "stream",
     "text": [
      "Train loss: 3.423627276788466e-05: : 47it [00:55,  1.19s/it] \n",
      "0it [00:00, ?it/s]"
     ]
    },
    {
     "name": "stdout",
     "output_type": "stream",
     "text": [
      "EPOCH: 86, MAE: 150.1, MSE: 179.2\n",
      "BEST MAE: 79.4, BEST MSE: 100.4, BEST MODEL: MCNN_shtechA_40.h5\n"
     ]
    },
    {
     "name": "stderr",
     "output_type": "stream",
     "text": [
      "Train loss: 6.408535568880325e-07: : 1it [00:01,  1.25s/it]"
     ]
    },
    {
     "name": "stdout",
     "output_type": "stream",
     "text": [
      "Crowd count(et, gt): 255.53252 338.59595\n"
     ]
    },
    {
     "name": "stderr",
     "output_type": "stream",
     "text": [
      "Train loss: 3.44055297318846e-05: : 47it [00:55,  1.19s/it]  \n",
      "Train loss: 4.5592375386149797e-07: : 1it [00:01,  1.23s/it]"
     ]
    },
    {
     "name": "stdout",
     "output_type": "stream",
     "text": [
      "Crowd count(et, gt): 228.52505 232.58858\n"
     ]
    },
    {
     "name": "stderr",
     "output_type": "stream",
     "text": [
      "Train loss: 3.420396751607768e-05: : 47it [00:56,  1.20s/it] \n",
      "0it [00:00, ?it/s]"
     ]
    },
    {
     "name": "stdout",
     "output_type": "stream",
     "text": [
      "EPOCH: 88, MAE: 123.3, MSE: 146.4\n",
      "BEST MAE: 79.4, BEST MSE: 100.4, BEST MODEL: MCNN_shtechA_40.h5\n"
     ]
    },
    {
     "name": "stderr",
     "output_type": "stream",
     "text": [
      "Train loss: 6.92789228651236e-07: : 1it [00:01,  1.24s/it]"
     ]
    },
    {
     "name": "stdout",
     "output_type": "stream",
     "text": [
      "Crowd count(et, gt): 270.33487 356.1163\n"
     ]
    },
    {
     "name": "stderr",
     "output_type": "stream",
     "text": [
      "Train loss: 3.472985918051563e-05: : 47it [00:55,  1.18s/it] \n",
      "Train loss: 6.268714400903264e-07: : 1it [00:01,  1.19s/it]"
     ]
    },
    {
     "name": "stdout",
     "output_type": "stream",
     "text": [
      "Crowd count(et, gt): 515.3803 318.04984\n"
     ]
    },
    {
     "name": "stderr",
     "output_type": "stream",
     "text": [
      "Train loss: 3.4418131690472364e-05: : 47it [00:54,  1.15s/it]\n",
      "0it [00:00, ?it/s]"
     ]
    },
    {
     "name": "stdout",
     "output_type": "stream",
     "text": [
      "EPOCH: 90, MAE: 102.5, MSE: 120.0\n",
      "BEST MAE: 79.4, BEST MSE: 100.4, BEST MODEL: MCNN_shtechA_40.h5\n"
     ]
    },
    {
     "name": "stderr",
     "output_type": "stream",
     "text": [
      "Train loss: 9.004738217299746e-07: : 1it [00:01,  1.18s/it]"
     ]
    },
    {
     "name": "stdout",
     "output_type": "stream",
     "text": [
      "Crowd count(et, gt): 317.82877 465.3583\n"
     ]
    },
    {
     "name": "stderr",
     "output_type": "stream",
     "text": [
      "Train loss: 3.42224448104389e-05: : 47it [00:53,  1.14s/it]  \n",
      "Train loss: 8.901067189981404e-07: : 1it [00:01,  1.17s/it]"
     ]
    },
    {
     "name": "stdout",
     "output_type": "stream",
     "text": [
      "Crowd count(et, gt): 201.01534 473.35812\n"
     ]
    },
    {
     "name": "stderr",
     "output_type": "stream",
     "text": [
      "Train loss: 3.438043131609447e-05: : 47it [00:53,  1.14s/it] \n",
      "0it [00:00, ?it/s]"
     ]
    },
    {
     "name": "stdout",
     "output_type": "stream",
     "text": [
      "EPOCH: 92, MAE: 85.6, MSE: 112.5\n",
      "BEST MAE: 79.4, BEST MSE: 100.4, BEST MODEL: MCNN_shtechA_40.h5\n"
     ]
    },
    {
     "name": "stderr",
     "output_type": "stream",
     "text": [
      "Train loss: 8.347898869942583e-07: : 1it [00:01,  1.20s/it]"
     ]
    },
    {
     "name": "stdout",
     "output_type": "stream",
     "text": [
      "Crowd count(et, gt): 514.0912 434.199\n"
     ]
    },
    {
     "name": "stderr",
     "output_type": "stream",
     "text": [
      "Train loss: 3.409853525226936e-05: : 47it [00:54,  1.16s/it] \n",
      "Train loss: 4.2863172211582423e-07: : 1it [00:01,  1.18s/it]"
     ]
    },
    {
     "name": "stdout",
     "output_type": "stream",
     "text": [
      "Crowd count(et, gt): 129.18845 236.477\n"
     ]
    },
    {
     "name": "stderr",
     "output_type": "stream",
     "text": [
      "Train loss: 3.437506529735401e-05: : 47it [00:54,  1.16s/it] \n",
      "0it [00:00, ?it/s]"
     ]
    },
    {
     "name": "stdout",
     "output_type": "stream",
     "text": [
      "EPOCH: 94, MAE: 97.1, MSE: 112.3\n",
      "BEST MAE: 79.4, BEST MSE: 100.4, BEST MODEL: MCNN_shtechA_40.h5\n"
     ]
    },
    {
     "name": "stderr",
     "output_type": "stream",
     "text": [
      "Train loss: 6.605390012737189e-07: : 1it [00:01,  1.19s/it]"
     ]
    },
    {
     "name": "stdout",
     "output_type": "stream",
     "text": [
      "Crowd count(et, gt): 354.40442 366.4316\n"
     ]
    },
    {
     "name": "stderr",
     "output_type": "stream",
     "text": [
      "Train loss: 3.454655598034151e-05: : 47it [00:55,  1.18s/it] \n",
      "Train loss: 7.374713391072873e-07: : 1it [00:01,  1.18s/it]"
     ]
    },
    {
     "name": "stdout",
     "output_type": "stream",
     "text": [
      "Crowd count(et, gt): 370.47726 369.00525\n"
     ]
    },
    {
     "name": "stderr",
     "output_type": "stream",
     "text": [
      "Train loss: 3.4098538890248165e-05: : 47it [00:54,  1.16s/it]\n",
      "0it [00:00, ?it/s]"
     ]
    },
    {
     "name": "stdout",
     "output_type": "stream",
     "text": [
      "EPOCH: 96, MAE: 90.0, MSE: 103.4\n",
      "BEST MAE: 79.4, BEST MSE: 100.4, BEST MODEL: MCNN_shtechA_40.h5\n"
     ]
    },
    {
     "name": "stderr",
     "output_type": "stream",
     "text": [
      "Train loss: 5.840334438289574e-07: : 1it [00:01,  1.19s/it]"
     ]
    },
    {
     "name": "stdout",
     "output_type": "stream",
     "text": [
      "Crowd count(et, gt): 304.0134 274.08224\n"
     ]
    },
    {
     "name": "stderr",
     "output_type": "stream",
     "text": [
      "Train loss: 3.418409323785454e-05: : 47it [00:56,  1.20s/it] \n",
      "Train loss: 5.968638561171247e-07: : 1it [00:01,  1.34s/it]"
     ]
    },
    {
     "name": "stdout",
     "output_type": "stream",
     "text": [
      "Crowd count(et, gt): 359.6734 323.5276\n"
     ]
    },
    {
     "name": "stderr",
     "output_type": "stream",
     "text": [
      "Train loss: 3.408086558920331e-05: : 47it [00:59,  1.27s/it] \n",
      "0it [00:00, ?it/s]"
     ]
    },
    {
     "name": "stdout",
     "output_type": "stream",
     "text": [
      "EPOCH: 98, MAE: 122.7, MSE: 145.8\n",
      "BEST MAE: 79.4, BEST MSE: 100.4, BEST MODEL: MCNN_shtechA_40.h5\n"
     ]
    },
    {
     "name": "stderr",
     "output_type": "stream",
     "text": [
      "Train loss: 6.031803536643565e-07: : 1it [00:01,  1.40s/it]"
     ]
    },
    {
     "name": "stdout",
     "output_type": "stream",
     "text": [
      "Crowd count(et, gt): 264.5618 315.62808\n"
     ]
    },
    {
     "name": "stderr",
     "output_type": "stream",
     "text": [
      "Train loss: 3.432966332184151e-05: : 47it [00:58,  1.24s/it] \n",
      "Train loss: 6.010823767610418e-07: : 1it [00:01,  1.22s/it]"
     ]
    },
    {
     "name": "stdout",
     "output_type": "stream",
     "text": [
      "Crowd count(et, gt): 332.6037 332.81903\n"
     ]
    },
    {
     "name": "stderr",
     "output_type": "stream",
     "text": [
      "Train loss: 3.4482163755455986e-05: : 47it [00:55,  1.17s/it]\n",
      "0it [00:00, ?it/s]"
     ]
    },
    {
     "name": "stdout",
     "output_type": "stream",
     "text": [
      "EPOCH: 100, MAE: 88.2, MSE: 102.3\n",
      "BEST MAE: 79.4, BEST MSE: 100.4, BEST MODEL: MCNN_shtechA_40.h5\n"
     ]
    },
    {
     "name": "stderr",
     "output_type": "stream",
     "text": [
      "Train loss: 6.48762068067299e-07: : 1it [00:01,  1.50s/it]"
     ]
    },
    {
     "name": "stdout",
     "output_type": "stream",
     "text": [
      "Crowd count(et, gt): 390.5484 362.75427\n"
     ]
    },
    {
     "name": "stderr",
     "output_type": "stream",
     "text": [
      "Train loss: 3.443914829404093e-05: : 47it [00:56,  1.19s/it] \n",
      "Train loss: 8.753658562454802e-07: : 1it [00:01,  1.19s/it]"
     ]
    },
    {
     "name": "stdout",
     "output_type": "stream",
     "text": [
      "Crowd count(et, gt): 464.9018 463.59897\n"
     ]
    },
    {
     "name": "stderr",
     "output_type": "stream",
     "text": [
      "Train loss: 3.412508522160351e-05: : 47it [00:55,  1.18s/it] \n",
      "0it [00:00, ?it/s]"
     ]
    },
    {
     "name": "stdout",
     "output_type": "stream",
     "text": [
      "EPOCH: 102, MAE: 91.2, MSE: 104.3\n",
      "BEST MAE: 79.4, BEST MSE: 100.4, BEST MODEL: MCNN_shtechA_40.h5\n"
     ]
    },
    {
     "name": "stderr",
     "output_type": "stream",
     "text": [
      "Train loss: 7.808152417965175e-07: : 1it [00:01,  1.24s/it]"
     ]
    },
    {
     "name": "stdout",
     "output_type": "stream",
     "text": [
      "Crowd count(et, gt): 378.4303 402.18735\n"
     ]
    },
    {
     "name": "stderr",
     "output_type": "stream",
     "text": [
      "Train loss: 3.466277485131286e-05: : 47it [00:56,  1.20s/it] \n",
      "Train loss: 8.360701713172602e-07: : 1it [00:01,  1.27s/it]"
     ]
    },
    {
     "name": "stdout",
     "output_type": "stream",
     "text": [
      "Crowd count(et, gt): 674.5453 424.14868\n"
     ]
    },
    {
     "name": "stderr",
     "output_type": "stream",
     "text": [
      "Train loss: 3.455017940723337e-05: : 47it [00:54,  1.17s/it] \n",
      "0it [00:00, ?it/s]"
     ]
    },
    {
     "name": "stdout",
     "output_type": "stream",
     "text": [
      "EPOCH: 104, MAE: 140.8, MSE: 167.6\n",
      "BEST MAE: 79.4, BEST MSE: 100.4, BEST MODEL: MCNN_shtechA_40.h5\n"
     ]
    },
    {
     "name": "stderr",
     "output_type": "stream",
     "text": [
      "Train loss: 5.082839606984635e-07: : 1it [00:01,  1.28s/it]"
     ]
    },
    {
     "name": "stdout",
     "output_type": "stream",
     "text": [
      "Crowd count(et, gt): 207.24054 282.37708\n"
     ]
    },
    {
     "name": "stderr",
     "output_type": "stream",
     "text": [
      "Train loss: 3.416336403461173e-05: : 47it [00:56,  1.20s/it] \n",
      "Train loss: 6.588154519704403e-07: : 1it [00:01,  1.19s/it]"
     ]
    },
    {
     "name": "stdout",
     "output_type": "stream",
     "text": [
      "Crowd count(et, gt): 336.09805 365.5726\n"
     ]
    },
    {
     "name": "stderr",
     "output_type": "stream",
     "text": [
      "Train loss: 3.410087083466351e-05: : 47it [00:55,  1.17s/it] \n",
      "0it [00:00, ?it/s]"
     ]
    },
    {
     "name": "stdout",
     "output_type": "stream",
     "text": [
      "EPOCH: 106, MAE: 73.0, MSE: 97.2\n",
      "BEST MAE: 73.0, BEST MSE: 97.2, BEST MODEL: MCNN_shtechA_106.h5\n"
     ]
    },
    {
     "name": "stderr",
     "output_type": "stream",
     "text": [
      "Train loss: 6.053347192391811e-07: : 1it [00:01,  1.23s/it]"
     ]
    },
    {
     "name": "stdout",
     "output_type": "stream",
     "text": [
      "Crowd count(et, gt): 417.5564 308.3448\n"
     ]
    },
    {
     "name": "stderr",
     "output_type": "stream",
     "text": [
      "Train loss: 3.4011176467174664e-05: : 47it [00:54,  1.15s/it]\n",
      "Train loss: 7.382802209576766e-07: : 1it [00:01,  1.16s/it]"
     ]
    },
    {
     "name": "stdout",
     "output_type": "stream",
     "text": [
      "Crowd count(et, gt): 461.95514 364.71194\n"
     ]
    },
    {
     "name": "stderr",
     "output_type": "stream",
     "text": [
      "Train loss: 3.469582588877529e-05: : 47it [00:54,  1.15s/it] \n",
      "0it [00:00, ?it/s]"
     ]
    },
    {
     "name": "stdout",
     "output_type": "stream",
     "text": [
      "EPOCH: 108, MAE: 83.7, MSE: 98.3\n",
      "BEST MAE: 73.0, BEST MSE: 97.2, BEST MODEL: MCNN_shtechA_106.h5\n"
     ]
    },
    {
     "name": "stderr",
     "output_type": "stream",
     "text": [
      "Train loss: 5.272460725791461e-07: : 1it [00:01,  1.20s/it]"
     ]
    },
    {
     "name": "stdout",
     "output_type": "stream",
     "text": [
      "Crowd count(et, gt): 320.9124 273.12488\n"
     ]
    },
    {
     "name": "stderr",
     "output_type": "stream",
     "text": [
      "Train loss: 3.421831934247166e-05: : 47it [00:54,  1.16s/it] \n",
      "Train loss: 1.0594196737656603e-06: : 1it [00:01,  1.18s/it]"
     ]
    },
    {
     "name": "stdout",
     "output_type": "stream",
     "text": [
      "Crowd count(et, gt): 309.91708 553.9396\n"
     ]
    },
    {
     "name": "stderr",
     "output_type": "stream",
     "text": [
      "Train loss: 3.431841832934879e-05: : 47it [00:54,  1.16s/it] \n",
      "0it [00:00, ?it/s]"
     ]
    },
    {
     "name": "stdout",
     "output_type": "stream",
     "text": [
      "EPOCH: 110, MAE: 150.9, MSE: 180.7\n",
      "BEST MAE: 73.0, BEST MSE: 97.2, BEST MODEL: MCNN_shtechA_106.h5\n"
     ]
    },
    {
     "name": "stderr",
     "output_type": "stream",
     "text": [
      "Train loss: 5.171368684386835e-07: : 1it [00:01,  1.20s/it]"
     ]
    },
    {
     "name": "stdout",
     "output_type": "stream",
     "text": [
      "Crowd count(et, gt): 153.08627 272.18298\n"
     ]
    },
    {
     "name": "stderr",
     "output_type": "stream",
     "text": [
      "Train loss: 3.440093860263005e-05: : 47it [00:55,  1.18s/it] \n",
      "Train loss: 6.349425234475348e-07: : 1it [00:01,  1.30s/it]"
     ]
    },
    {
     "name": "stdout",
     "output_type": "stream",
     "text": [
      "Crowd count(et, gt): 432.58755 348.90457\n"
     ]
    },
    {
     "name": "stderr",
     "output_type": "stream",
     "text": [
      "Train loss: 3.435583130340092e-05: : 47it [01:01,  1.30s/it] \n",
      "0it [00:00, ?it/s]"
     ]
    },
    {
     "name": "stdout",
     "output_type": "stream",
     "text": [
      "EPOCH: 112, MAE: 110.6, MSE: 143.9\n",
      "BEST MAE: 73.0, BEST MSE: 97.2, BEST MODEL: MCNN_shtechA_106.h5\n"
     ]
    },
    {
     "name": "stderr",
     "output_type": "stream",
     "text": [
      "Train loss: 9.112872589867038e-07: : 1it [00:01,  1.34s/it]"
     ]
    },
    {
     "name": "stdout",
     "output_type": "stream",
     "text": [
      "Crowd count(et, gt): 692.67084 458.42755\n"
     ]
    },
    {
     "name": "stderr",
     "output_type": "stream",
     "text": [
      "Train loss: 3.393795122974552e-05: : 47it [01:00,  1.28s/it] \n",
      "Train loss: 5.262113518256228e-07: : 1it [00:01,  1.29s/it]"
     ]
    },
    {
     "name": "stdout",
     "output_type": "stream",
     "text": [
      "Crowd count(et, gt): 179.39482 284.7138\n"
     ]
    },
    {
     "name": "stderr",
     "output_type": "stream",
     "text": [
      "Train loss: 3.4183351090177894e-05: : 47it [01:00,  1.28s/it]\n",
      "0it [00:00, ?it/s]"
     ]
    },
    {
     "name": "stdout",
     "output_type": "stream",
     "text": [
      "EPOCH: 114, MAE: 92.6, MSE: 106.1\n",
      "BEST MAE: 73.0, BEST MSE: 97.2, BEST MODEL: MCNN_shtechA_106.h5\n"
     ]
    },
    {
     "name": "stderr",
     "output_type": "stream",
     "text": [
      "Train loss: 6.189031296344183e-07: : 1it [00:01,  1.33s/it]"
     ]
    },
    {
     "name": "stdout",
     "output_type": "stream",
     "text": [
      "Crowd count(et, gt): 329.11917 321.98828\n"
     ]
    },
    {
     "name": "stderr",
     "output_type": "stream",
     "text": [
      "Train loss: 3.396619649720378e-05: : 47it [01:00,  1.28s/it] \n",
      "Train loss: 5.876807449567423e-07: : 1it [00:01,  1.31s/it]"
     ]
    },
    {
     "name": "stdout",
     "output_type": "stream",
     "text": [
      "Crowd count(et, gt): 313.9957 321.14758\n"
     ]
    },
    {
     "name": "stderr",
     "output_type": "stream",
     "text": [
      "Train loss: 3.4292090276721865e-05: : 47it [01:00,  1.29s/it]\n",
      "0it [00:00, ?it/s]"
     ]
    },
    {
     "name": "stdout",
     "output_type": "stream",
     "text": [
      "EPOCH: 116, MAE: 87.4, MSE: 101.9\n",
      "BEST MAE: 73.0, BEST MSE: 97.2, BEST MODEL: MCNN_shtechA_106.h5\n"
     ]
    },
    {
     "name": "stderr",
     "output_type": "stream",
     "text": [
      "Train loss: 7.062301392579684e-07: : 1it [00:01,  1.32s/it]"
     ]
    },
    {
     "name": "stdout",
     "output_type": "stream",
     "text": [
      "Crowd count(et, gt): 388.02863 356.6837\n"
     ]
    },
    {
     "name": "stderr",
     "output_type": "stream",
     "text": [
      "Train loss: 3.4254626370966434e-05: : 47it [01:01,  1.30s/it]\n",
      "Train loss: 7.221171358651191e-07: : 1it [00:01,  1.38s/it]"
     ]
    },
    {
     "name": "stdout",
     "output_type": "stream",
     "text": [
      "Crowd count(et, gt): 302.58203 377.91437\n"
     ]
    },
    {
     "name": "stderr",
     "output_type": "stream",
     "text": [
      "Train loss: 3.408517659408972e-05: : 47it [00:59,  1.26s/it] \n",
      "0it [00:00, ?it/s]"
     ]
    },
    {
     "name": "stdout",
     "output_type": "stream",
     "text": [
      "EPOCH: 118, MAE: 113.8, MSE: 137.1\n",
      "BEST MAE: 73.0, BEST MSE: 97.2, BEST MODEL: MCNN_shtechA_106.h5\n"
     ]
    },
    {
     "name": "stderr",
     "output_type": "stream",
     "text": [
      "Train loss: 4.7515698042843724e-07: : 1it [00:01,  1.32s/it]"
     ]
    },
    {
     "name": "stdout",
     "output_type": "stream",
     "text": [
      "Crowd count(et, gt): 294.15875 254.93692\n"
     ]
    },
    {
     "name": "stderr",
     "output_type": "stream",
     "text": [
      "Train loss: 3.389696576050483e-05: : 47it [01:00,  1.30s/it] \n",
      "Train loss: 5.354890504349896e-07: : 1it [00:01,  1.35s/it]"
     ]
    },
    {
     "name": "stdout",
     "output_type": "stream",
     "text": [
      "Crowd count(et, gt): 238.88405 293.24634\n"
     ]
    },
    {
     "name": "stderr",
     "output_type": "stream",
     "text": [
      "Train loss: 3.410615317989141e-05: : 47it [01:00,  1.28s/it] \n",
      "0it [00:00, ?it/s]"
     ]
    },
    {
     "name": "stdout",
     "output_type": "stream",
     "text": [
      "EPOCH: 120, MAE: 74.3, MSE: 99.3\n",
      "BEST MAE: 73.0, BEST MSE: 97.2, BEST MODEL: MCNN_shtechA_106.h5\n"
     ]
    },
    {
     "name": "stderr",
     "output_type": "stream",
     "text": [
      "Train loss: 5.637124331769883e-07: : 1it [00:01,  1.31s/it]"
     ]
    },
    {
     "name": "stdout",
     "output_type": "stream",
     "text": [
      "Crowd count(et, gt): 409.52377 291.97824\n"
     ]
    },
    {
     "name": "stderr",
     "output_type": "stream",
     "text": [
      "Train loss: 3.399589331820607e-05: : 47it [01:01,  1.31s/it] \n",
      "Train loss: 5.399407996264927e-07: : 1it [00:01,  1.31s/it]"
     ]
    },
    {
     "name": "stdout",
     "output_type": "stream",
     "text": [
      "Crowd count(et, gt): 171.31328 277.11835\n"
     ]
    },
    {
     "name": "stderr",
     "output_type": "stream",
     "text": [
      "Train loss: 3.4035379940178245e-05: : 47it [01:01,  1.31s/it]\n",
      "0it [00:00, ?it/s]"
     ]
    },
    {
     "name": "stdout",
     "output_type": "stream",
     "text": [
      "EPOCH: 122, MAE: 143.2, MSE: 171.0\n",
      "BEST MAE: 73.0, BEST MSE: 97.2, BEST MODEL: MCNN_shtechA_106.h5\n"
     ]
    },
    {
     "name": "stderr",
     "output_type": "stream",
     "text": [
      "Train loss: 8.636231996206334e-07: : 1it [00:01,  1.33s/it]"
     ]
    },
    {
     "name": "stdout",
     "output_type": "stream",
     "text": [
      "Crowd count(et, gt): 301.8777 481.43927\n"
     ]
    },
    {
     "name": "stderr",
     "output_type": "stream",
     "text": [
      "Train loss: 3.393965744180605e-05: : 47it [00:57,  1.22s/it] \n",
      "Train loss: 8.061415428528562e-07: : 1it [00:01,  1.34s/it]"
     ]
    },
    {
     "name": "stdout",
     "output_type": "stream",
     "text": [
      "Crowd count(et, gt): 188.68968 382.01907\n"
     ]
    },
    {
     "name": "stderr",
     "output_type": "stream",
     "text": [
      "Train loss: 1.9997485651401803e-05: : 27it [00:34,  1.29s/it]"
     ]
    }
   ],
   "source": [
    "import sys\n",
    "from tqdm import tqdm\n",
    "\n",
    "# training\n",
    "train_loss = 0\n",
    "step_cnt = 0\n",
    "best_mae = sys.maxsize * 2 + 1\n",
    "method = 'MCNN'\n",
    "dataset_name = 'shtechA'\n",
    "\n",
    "for epoch in range(start_step, end_step+1):    \n",
    "    step = -1\n",
    "    train_loss = 0\n",
    "    run = tqdm(enumerate(data_loader, 0))\n",
    "    for i, blob in run:                    \n",
    "        step += 1 \n",
    "        im_data = blob['data'].numpy()\n",
    "        im_data = np.expand_dims(im_data, 1) \n",
    "        gt_data = blob['gt_density'].numpy()\n",
    "        gt_data = np.expand_dims(gt_data, 1) \n",
    "        density_map = net(im_data, gt_data)\n",
    "        loss = net.loss\n",
    "        train_loss += loss.data\n",
    "        step_cnt += 1\n",
    "        optimizer.zero_grad()\n",
    "        loss.backward()\n",
    "        optimizer.step()\n",
    "        \n",
    "        if step % disp_interval == 0:            \n",
    "            gt_count = np.sum(gt_data)    \n",
    "            density_map = density_map.data.cpu().numpy()\n",
    "            et_count = np.sum(density_map)\n",
    "            print('Crowd count(et, gt):', et_count, gt_count)\n",
    "            #save_results(im_data,gt_data,density_map, output_dir)\n",
    "            \n",
    "        run.set_description(\"Train loss: {}\".format(train_loss))\n",
    "        run.refresh() # to show immediately the update\n",
    "    \n",
    "    data_loader = iter(trainloader)\n",
    "    if (epoch % 2 == 0):\n",
    "        save_name = os.path.join(output_dir, '{}_{}_{}.h5'.format(method,dataset_name,epoch))\n",
    "        save_net(save_name, net)     \n",
    "        #calculate error on the validation dataset \n",
    "        mae,mse = evaluate_model(save_name, data_loader_val)\n",
    "        data_loader_val = iter(trainloader_val)\n",
    "        if mae < best_mae:\n",
    "            best_mae = mae\n",
    "            best_mse = mse\n",
    "            best_model = '{}_{}_{}.h5'.format(method,dataset_name,epoch)\n",
    "        log_text = 'EPOCH: %d, MAE: %.1f, MSE: %0.1f' % (epoch,mae,mse)\n",
    "        print(log_text)\n",
    "        log_text = 'BEST MAE: %0.1f, BEST MSE: %0.1f, BEST MODEL: %s' % (best_mae,best_mse, best_model)\n",
    "        print(log_text)"
   ]
  },
  {
   "cell_type": "code",
   "execution_count": null,
   "metadata": {},
   "outputs": [],
   "source": []
  }
 ],
 "metadata": {
  "kernelspec": {
   "display_name": "Python 3",
   "language": "python",
   "name": "python3"
  },
  "language_info": {
   "codemirror_mode": {
    "name": "ipython",
    "version": 3
   },
   "file_extension": ".py",
   "mimetype": "text/x-python",
   "name": "python",
   "nbconvert_exporter": "python",
   "pygments_lexer": "ipython3",
   "version": "3.8.2"
  }
 },
 "nbformat": 4,
 "nbformat_minor": 4
}
